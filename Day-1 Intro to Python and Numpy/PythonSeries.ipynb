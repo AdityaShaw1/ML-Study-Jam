{
  "cells": [
    {
      "cell_type": "markdown",
      "metadata": {
        "id": "view-in-github",
        "colab_type": "text"
      },
      "source": [
        "<a href=\"https://colab.research.google.com/github/asmikhare/ML-Study-Jam/blob/main/PythonSeries.ipynb\" target=\"_parent\"><img src=\"https://colab.research.google.com/assets/colab-badge.svg\" alt=\"Open In Colab\"/></a>"
      ]
    },
    {
      "cell_type": "markdown",
      "metadata": {
        "id": "Qv_yOFZ1yg_p"
      },
      "source": [
        "# COMMENTS"
      ]
    },
    {
      "cell_type": "code",
      "execution_count": null,
      "metadata": {
        "colab": {
          "base_uri": "https://localhost:8080/"
        },
        "id": "_P22m8A-yjwv",
        "outputId": "852b9cd9-035c-44b6-b692-f0ac2a5b0149"
      },
      "outputs": [
        {
          "name": "stdout",
          "output_type": "stream",
          "text": [
            "Hello World\n"
          ]
        }
      ],
      "source": [
        "# This is a program to print hello world\n",
        "print(\"Hello World\")"
      ]
    },
    {
      "cell_type": "code",
      "execution_count": null,
      "metadata": {
        "colab": {
          "base_uri": "https://localhost:8080/"
        },
        "id": "9KvjKLW5yo1-",
        "outputId": "c268c5cb-43ec-4e0b-df37-590d09a599c4"
      },
      "outputs": [
        {
          "name": "stdout",
          "output_type": "stream",
          "text": [
            "hello world\n"
          ]
        }
      ],
      "source": [
        "\"\"\"\n",
        "Comment Written in\n",
        "more than one line\n",
        "\n",
        "\"\"\"\n",
        "'''\n",
        "comment\n",
        "'''\n",
        "print(\"hello world\")"
      ]
    },
    {
      "cell_type": "markdown",
      "metadata": {
        "id": "xlDNrW50y07N"
      },
      "source": [
        "# VARIABLES\n"
      ]
    },
    {
      "cell_type": "markdown",
      "metadata": {
        "id": "NP801Su9y8kn"
      },
      "source": [
        "Python variables are the reserved memory locations used to store values with in a Python Program. This means that when you create a variable you reserve some space in the memory."
      ]
    },
    {
      "cell_type": "markdown",
      "metadata": {
        "id": "15gTyl2ozou1"
      },
      "source": [
        " A Python variable is created automatically when you assign a value to it. The equal sign (=) is used to assign values to variables."
      ]
    },
    {
      "cell_type": "markdown",
      "metadata": {
        "id": "6_QAi7geH8C2"
      },
      "source": [
        "Variables are **Case Sensitive**"
      ]
    },
    {
      "cell_type": "code",
      "execution_count": null,
      "metadata": {
        "colab": {
          "base_uri": "https://localhost:8080/"
        },
        "id": "eL9SUL3zznZi",
        "outputId": "175f5802-d642-47ec-cd23-67d4e0ddd6ba"
      },
      "outputs": [
        {
          "name": "stdout",
          "output_type": "stream",
          "text": [
            "Daisy 20 49.5\n"
          ]
        }
      ],
      "source": [
        "Name = \"Daisy\" #creates a string variable\n",
        "Age= 20        #create an integer variable\n",
        "Weight= 49.5   #creates float variable\n",
        "print(Name, Age,Weight)\n",
        "del Weight"
      ]
    },
    {
      "cell_type": "code",
      "execution_count": null,
      "metadata": {
        "colab": {
          "base_uri": "https://localhost:8080/",
          "height": 141
        },
        "id": "Yn-5EtdhGT4P",
        "outputId": "2f229b0d-7f8f-4508-cbec-3a29f5bb7c0e"
      },
      "outputs": [
        {
          "ename": "NameError",
          "evalue": "name 'Weight' is not defined",
          "output_type": "error",
          "traceback": [
            "\u001b[0;31m---------------------------------------------------------------------------\u001b[0m",
            "\u001b[0;31mNameError\u001b[0m                                 Traceback (most recent call last)",
            "\u001b[0;32m<ipython-input-37-e80d81d072ad>\u001b[0m in \u001b[0;36m<cell line: 1>\u001b[0;34m()\u001b[0m\n\u001b[0;32m----> 1\u001b[0;31m \u001b[0mprint\u001b[0m\u001b[0;34m(\u001b[0m\u001b[0mWeight\u001b[0m\u001b[0;34m)\u001b[0m\u001b[0;34m\u001b[0m\u001b[0;34m\u001b[0m\u001b[0m\n\u001b[0m",
            "\u001b[0;31mNameError\u001b[0m: name 'Weight' is not defined"
          ]
        }
      ],
      "source": [
        "print(Weight)"
      ]
    },
    {
      "cell_type": "markdown",
      "metadata": {
        "id": "efoxqk5DGkJl"
      },
      "source": [
        "***You can get the type of variable***"
      ]
    },
    {
      "cell_type": "code",
      "execution_count": null,
      "metadata": {
        "colab": {
          "base_uri": "https://localhost:8080/"
        },
        "id": "1MRihbFHGa2v",
        "outputId": "7b59c75f-e865-4bfe-da79-d6e655784195"
      },
      "outputs": [
        {
          "name": "stdout",
          "output_type": "stream",
          "text": [
            "<class 'str'>\n",
            "<class 'int'>\n",
            "<class 'float'>\n"
          ]
        }
      ],
      "source": [
        "x = \"Daisy\"\n",
        "y =  10\n",
        "z =  10.10\n",
        "\n",
        "print(type(x))\n",
        "print(type(y))\n",
        "print(type(z))"
      ]
    },
    {
      "cell_type": "markdown",
      "metadata": {
        "id": "tvfg8ZjTG6_n"
      },
      "source": [
        "**Casting Python Variables**:\n",
        "\n",
        "---\n",
        "\n",
        "\n",
        "You can specify the data type of a variable with the help of casting as follows:\n"
      ]
    },
    {
      "cell_type": "code",
      "execution_count": null,
      "metadata": {
        "colab": {
          "base_uri": "https://localhost:8080/"
        },
        "id": "0wofxsdDG_9g",
        "outputId": "2044bac4-b14f-494a-a31e-2cc35cd9ceac"
      },
      "outputs": [
        {
          "name": "stdout",
          "output_type": "stream",
          "text": [
            "x = 10\n",
            "y = 10\n",
            "z = 10.0\n"
          ]
        }
      ],
      "source": [
        "x = str(10)    # x will be '10'\n",
        "y = int(10)    # y will be 10\n",
        "z = float(10)  # z will be 10.0\n",
        "\n",
        "print( \"x =\", x )\n",
        "print( \"y =\", y )\n",
        "print( \"z =\", z )"
      ]
    },
    {
      "cell_type": "code",
      "execution_count": null,
      "metadata": {
        "colab": {
          "base_uri": "https://localhost:8080/"
        },
        "id": "ZmXJEBkcIJ4t",
        "outputId": "d7956497-0745-48f2-b784-10854caf73b5"
      },
      "outputs": [
        {
          "name": "stdout",
          "output_type": "stream",
          "text": [
            "10 10 10\n"
          ]
        }
      ],
      "source": [
        "a=b=c=10\n",
        "print (a,b,c)"
      ]
    },
    {
      "cell_type": "code",
      "execution_count": null,
      "metadata": {
        "colab": {
          "base_uri": "https://localhost:8080/"
        },
        "id": "JvRGg8sNIe-e",
        "outputId": "518f5866-bd68-47d6-b7c9-5044c5671899"
      },
      "outputs": [
        {
          "name": "stdout",
          "output_type": "stream",
          "text": [
            "10 20 30\n"
          ]
        }
      ],
      "source": [
        "a,b,c = 10,20,30\n",
        "print(a,b,c)"
      ]
    },
    {
      "cell_type": "code",
      "execution_count": null,
      "metadata": {
        "colab": {
          "base_uri": "https://localhost:8080/"
        },
        "id": "4VTJp9PwIkMt",
        "outputId": "c9b1afea-7e32-4030-c19e-7f3562ef6ab1"
      },
      "outputs": [
        {
          "name": "stdout",
          "output_type": "stream",
          "text": [
            "1\n",
            "2\n",
            "Python\n"
          ]
        }
      ],
      "source": [
        "a,b,c = 1,2,\"Python\"\n",
        "print(a)\n",
        "print(b)\n",
        "print(c)"
      ]
    },
    {
      "cell_type": "markdown",
      "metadata": {
        "id": "YCbGtwxaIvJs"
      },
      "source": [
        "*Naming Conventions :*\n",
        "\n",
        "\n",
        "1.   A variable name must start with a letter or the underscore character\n",
        "2.   A variable name cannot start with a number or any special character like $, (, * % etc.\n",
        "3. A variable name can only contain alpha-numeric characters and underscores (A-z, 0-9, and _ )\n",
        "4. Python variable names are case-sensitive which means Name and NAME are two different variables in Python.\n",
        "5. Python reserved keywords cannot be used naming the variable.\n",
        "\n",
        "\n"
      ]
    },
    {
      "cell_type": "code",
      "execution_count": null,
      "metadata": {
        "colab": {
          "base_uri": "https://localhost:8080/"
        },
        "id": "JYMtlWABJtaD",
        "outputId": "5d2a818e-7d58-4116-c574-df9f9eee45db"
      },
      "outputs": [
        {
          "name": "stdout",
          "output_type": "stream",
          "text": [
            "100\n",
            "100\n",
            "Yash\n",
            "Daisy\n",
            "20\n",
            "100000\n"
          ]
        }
      ],
      "source": [
        "counter = 100\n",
        "_count  = 100\n",
        "name1 = \"Yash\"\n",
        "name2 = \"Daisy\"\n",
        "Age  = 20\n",
        "my_salary = 100000\n",
        "\n",
        "print (counter)\n",
        "print (_count)\n",
        "print (name1)\n",
        "print (name2)\n",
        "print (Age)\n",
        "print (my_salary)"
      ]
    },
    {
      "cell_type": "markdown",
      "metadata": {
        "id": "nQXY-ZfrLOgU"
      },
      "source": [
        "# DATA TYPES"
      ]
    },
    {
      "cell_type": "markdown",
      "metadata": {
        "id": "AzWLXSdT1wKE"
      },
      "source": [
        "A data type represents a kind of value and determines what operations can be done on it\n"
      ]
    },
    {
      "cell_type": "markdown",
      "metadata": {
        "id": "Gym6CFxH10PL"
      },
      "source": [
        "Python Data Types are used to define the type of a variable. It defines what type of data we are going to store in a variable."
      ]
    },
    {
      "cell_type": "markdown",
      "metadata": {
        "id": "PlfTI9Zv1_hA"
      },
      "source": [
        "Numeric -\tint, float, complex\n",
        "\n",
        "String- str (text sequence type)\n",
        "\n",
        "Sequence-\tlist, tuple, range\n",
        "\n",
        "Mapping-\tdict\n",
        "\n",
        "Boolean-\tbool\n",
        "Set-\tset, frozenset\n",
        "None-\tNoneType"
      ]
    },
    {
      "cell_type": "code",
      "execution_count": null,
      "metadata": {
        "id": "jgPTolJq2n5k"
      },
      "outputs": [],
      "source": [
        "var1 = 1       # int data type\n",
        "var2 = True    # bool data type\n",
        "var3 = 10.023  # float data type\n",
        "var4 = 10+3j   # complex data type"
      ]
    },
    {
      "cell_type": "markdown",
      "metadata": {
        "id": "vqvc5e603EFw"
      },
      "source": [
        "Python strings are enclosed in ***single or doublequotation marks***\n",
        "(also called inverted commas). Python strings are immutable which means when you perform an operation on strings, you always produce a new string object of the same type, rather than mutating an existing string."
      ]
    },
    {
      "cell_type": "code",
      "execution_count": null,
      "metadata": {
        "colab": {
          "base_uri": "https://localhost:8080/",
          "height": 36
        },
        "id": "0d5KRiyI3oUc",
        "outputId": "0eed181e-4fb0-4519-ecdc-02ed0f0f830c"
      },
      "outputs": [
        {
          "data": {
            "application/vnd.google.colaboratory.intrinsic+json": {
              "type": "string"
            },
            "text/plain": [
              "'python'"
            ]
          },
          "execution_count": 46,
          "metadata": {},
          "output_type": "execute_result"
        }
      ],
      "source": [
        "'Python'\n",
        "\"Python\"\n",
        "'''python'''"
      ]
    },
    {
      "cell_type": "markdown",
      "metadata": {
        "id": "lk3TX0NX4OJc"
      },
      "source": [
        "operations such as slicing and concatenation can be done.\n",
        "\n",
        " Subsets of strings can be taken using the slice operator ([ ] and [:] ) with indexes starting at 0 in the beginning of the string and working their way from -1 at the end."
      ]
    },
    {
      "cell_type": "code",
      "execution_count": null,
      "metadata": {
        "colab": {
          "base_uri": "https://localhost:8080/"
        },
        "id": "Am4K1ibD3rAm",
        "outputId": "9e8267f4-718e-465f-f0d9-349bd88e1ae5"
      },
      "outputs": [
        {
          "name": "stdout",
          "output_type": "stream",
          "text": [
            "Hello World!\n",
            "H\n",
            "llo Worl\n",
            "llo World!\n",
            "Hello World!Hello World!\n",
            "Hello World!TEST\n"
          ]
        }
      ],
      "source": [
        "str = 'Hello World!'\n",
        "\n",
        "print (str)          # Prints complete string\n",
        "print (str[0])       # Prints first character of the string\n",
        "print (str[2:-2])     # Prints characters starting from 3rd to 5th\n",
        "print (str[2:])      # Prints string starting from 3rd character\n",
        "print (str * 2)      # Prints string two times\n",
        "print (str + \"TEST\") # Prints concatenated string"
      ]
    },
    {
      "cell_type": "markdown",
      "metadata": {
        "id": "5RXSiYQQgqmk"
      },
      "source": [
        "Boolean Data Type\n",
        "\n",
        "Python boolean type is one of built-in data types which represents one of the two values either True or False."
      ]
    },
    {
      "cell_type": "code",
      "execution_count": null,
      "metadata": {
        "colab": {
          "base_uri": "https://localhost:8080/"
        },
        "id": "dKX0DL9hfCx6",
        "outputId": "7fac1556-e573-4106-ba8e-5a8cc75c9e59"
      },
      "outputs": [
        {
          "name": "stdout",
          "output_type": "stream",
          "text": [
            "True\n",
            "<class 'bool'>\n"
          ]
        }
      ],
      "source": [
        "a = True\n",
        "# display the value of a\n",
        "print(a)\n",
        "\n",
        "# display the data type of a\n",
        "print(type(a))"
      ]
    },
    {
      "cell_type": "code",
      "execution_count": null,
      "metadata": {
        "colab": {
          "base_uri": "https://localhost:8080/"
        },
        "id": "CIfOShvonN2C",
        "outputId": "8a8030a7-5a2f-49e1-d330-3b6537e623f0"
      },
      "outputs": [
        {
          "name": "stdout",
          "output_type": "stream",
          "text": [
            "False\n"
          ]
        }
      ],
      "source": [
        "# Returns false as a is not equal to b\n",
        "a = 2\n",
        "b = 4\n",
        "print(bool(a==b))"
      ]
    },
    {
      "cell_type": "code",
      "execution_count": null,
      "metadata": {
        "colab": {
          "base_uri": "https://localhost:8080/"
        },
        "id": "zyfUWWp7nXq7",
        "outputId": "5799afce-c68b-434a-a9ea-f4f9f72b819c"
      },
      "outputs": [
        {
          "name": "stdout",
          "output_type": "stream",
          "text": [
            "False\n"
          ]
        }
      ],
      "source": [
        "# Following also prints the same\n",
        "print(a==b)"
      ]
    },
    {
      "cell_type": "code",
      "execution_count": null,
      "metadata": {
        "colab": {
          "base_uri": "https://localhost:8080/"
        },
        "id": "rv1Hh-ZnnaLy",
        "outputId": "d392c3be-1a50-40d5-9ea1-7fafce3077e2"
      },
      "outputs": [
        {
          "name": "stdout",
          "output_type": "stream",
          "text": [
            "False\n"
          ]
        }
      ],
      "source": [
        "# Returns False as a is None\n",
        "a = None\n",
        "print(bool(a))"
      ]
    },
    {
      "cell_type": "code",
      "execution_count": null,
      "metadata": {
        "colab": {
          "base_uri": "https://localhost:8080/"
        },
        "id": "OsmVGrMPnd_5",
        "outputId": "6b604613-ac1a-47e4-c568-5f30d188842d"
      },
      "outputs": [
        {
          "name": "stdout",
          "output_type": "stream",
          "text": [
            "False\n"
          ]
        }
      ],
      "source": [
        "# Returns false as a is an empty sequence\n",
        "a = ()\n",
        "print(bool(a))"
      ]
    },
    {
      "cell_type": "code",
      "execution_count": null,
      "metadata": {
        "colab": {
          "base_uri": "https://localhost:8080/"
        },
        "id": "kLU3ezjbnnGU",
        "outputId": "f0f6beea-41c8-4873-9e81-3108c9951c2b"
      },
      "outputs": [
        {
          "name": "stdout",
          "output_type": "stream",
          "text": [
            "False\n"
          ]
        }
      ],
      "source": [
        "# Returns false as a is 0\n",
        "a = 0\n",
        "print(bool(a))"
      ]
    },
    {
      "cell_type": "code",
      "execution_count": null,
      "metadata": {
        "colab": {
          "base_uri": "https://localhost:8080/"
        },
        "id": "1b2AQvLwnsCT",
        "outputId": "40b1bb35-74af-4c21-af64-7019e10faaf0"
      },
      "outputs": [
        {
          "name": "stdout",
          "output_type": "stream",
          "text": [
            "True\n"
          ]
        }
      ],
      "source": [
        "# Returns true as a is 10\n",
        "a = 10\n",
        "print(bool(a))"
      ]
    },
    {
      "cell_type": "markdown",
      "metadata": {
        "id": "ZlXSW5416NyG"
      },
      "source": [
        "### Range()"
      ]
    },
    {
      "cell_type": "markdown",
      "metadata": {
        "id": "kW-3Zg7X7Bx_"
      },
      "source": [
        "range(start, stop, step)\n",
        "\n",
        "start: Integer number to specify starting position, (Its optional, Default: 0)\n",
        "\n",
        "stop: Integer number to specify stopping position (It's mandatory)\n",
        "\n",
        "step: Integer number to specify increment, (Its optional, Default: 1)"
      ]
    },
    {
      "cell_type": "code",
      "execution_count": null,
      "metadata": {
        "colab": {
          "base_uri": "https://localhost:8080/"
        },
        "id": "TzXVyJIc6Wpn",
        "outputId": "4502a90b-a1cb-4b22-c510-1cec08964ede"
      },
      "outputs": [
        {
          "name": "stdout",
          "output_type": "stream",
          "text": [
            "0\n",
            "1\n",
            "2\n",
            "3\n",
            "4\n"
          ]
        }
      ],
      "source": [
        "for i in range(5):\n",
        "  print(i)"
      ]
    },
    {
      "cell_type": "code",
      "execution_count": null,
      "metadata": {
        "colab": {
          "base_uri": "https://localhost:8080/"
        },
        "id": "1KLCE1je7Tse",
        "outputId": "6562d5fa-023a-4e7d-c4a0-1b9f48778fc8"
      },
      "outputs": [
        {
          "name": "stdout",
          "output_type": "stream",
          "text": [
            "2\n",
            "3\n",
            "4\n"
          ]
        }
      ],
      "source": [
        "for i in range(2,5):\n",
        "  print(i)"
      ]
    },
    {
      "cell_type": "code",
      "execution_count": null,
      "metadata": {
        "colab": {
          "base_uri": "https://localhost:8080/"
        },
        "id": "eoYMjFul7b34",
        "outputId": "5ebcf4b6-4de3-4245-ef29-877f4cf94950"
      },
      "outputs": [
        {
          "name": "stdout",
          "output_type": "stream",
          "text": [
            "1\n",
            "3\n",
            "5\n",
            "7\n",
            "9\n"
          ]
        }
      ],
      "source": [
        "for i in range(1,10,2):\n",
        "  print(i)"
      ]
    },
    {
      "cell_type": "code",
      "execution_count": null,
      "metadata": {
        "colab": {
          "base_uri": "https://localhost:8080/"
        },
        "id": "XwaA_qa27lyh",
        "outputId": "630b26ff-7f72-4083-a1d1-908825274a29"
      },
      "outputs": [
        {
          "name": "stdout",
          "output_type": "stream",
          "text": [
            "Enter a name10\n",
            "10\n"
          ]
        }
      ],
      "source": [
        "a= int(input(\"Enter a name\"))\n",
        "print(a)"
      ]
    },
    {
      "cell_type": "markdown",
      "metadata": {
        "id": "SM5NkzIn8KBi"
      },
      "source": [
        "# OPERATORS"
      ]
    },
    {
      "cell_type": "markdown",
      "metadata": {
        "id": "AG0piWWW5yqm"
      },
      "source": [
        "Python operators are special symbols (sometimes called keywords) that are used to perform certain most commonly required operations on one or more operands (value, variables, or expressions).\n"
      ]
    },
    {
      "cell_type": "markdown",
      "metadata": {
        "id": "djc02iin7NJa"
      },
      "source": [
        "**Types of Operators in Python**\n",
        "\n",
        "Python language supports the following types of operators −\n",
        "\n",
        "\n",
        "*   Arithmetic Operators\n",
        "*   Comparison (Relational) Operators\n",
        "\n",
        "* Assignment Operators\n",
        "\n",
        "* Logical Operators\n",
        "\n",
        "*   Membership Operators\n",
        "\n",
        "*   \n",
        "Identity Operators\n",
        "\n",
        "\n",
        "\n",
        "\n",
        "\n",
        "\n",
        "\n",
        "\n",
        "\n",
        "\n",
        "\n",
        "\n",
        "\n",
        "\n"
      ]
    },
    {
      "cell_type": "markdown",
      "metadata": {
        "id": "cS5zXHBt8Er_"
      },
      "source": [
        "*Arithmetic Operators:*\n",
        "\n",
        "+, -, /, //, **, %"
      ]
    },
    {
      "cell_type": "code",
      "execution_count": null,
      "metadata": {
        "colab": {
          "base_uri": "https://localhost:8080/"
        },
        "id": "rEY1KZGp8TJI",
        "outputId": "c097ff4e-a72f-478b-9db1-c133095f2f7d"
      },
      "outputs": [
        {
          "name": "stdout",
          "output_type": "stream",
          "text": [
            "a: 21, b: 10, a+b: 31\n",
            "a: 21 b: 10 a-b: 11\n",
            "a: 21 b: 10 a*b: 210\n",
            "a: 21 b: 10 a/b: 2.1\n",
            "a: 21 b: 10 a%b: 1\n",
            "a: 2 b: 3 a**b: 8\n",
            "a: 21 b: 5 a//b: 4\n"
          ]
        }
      ],
      "source": [
        "a = 21\n",
        "b = 10\n",
        "c = 0\n",
        "\n",
        "c = a + b\n",
        "print (\"a: {}, b: {}, a+b: {}\".format(a,b,c))\n",
        "\n",
        "c = a - b\n",
        "print (\"a: {} b: {} a-b: {}\".format(a,b,c) )\n",
        "\n",
        "c = a * b\n",
        "print (\"a: {} b: {} a*b: {}\".format(a,b,c))\n",
        "\n",
        "c = a / b\n",
        "print (\"a: {} b: {} a/b: {}\".format(a,b,c))\n",
        "\n",
        "c = a % b\n",
        "print (\"a: {} b: {} a%b: {}\".format(a,b,c))\n",
        "\n",
        "a = 2\n",
        "b = 3\n",
        "c = a**b\n",
        "print (\"a: {} b: {} a**b: {}\".format(a,b,c))\n",
        "\n",
        "a = 21\n",
        "b = 5\n",
        "c = a//b\n",
        "print (\"a: {} b: {} a//b: {}\".format(a,b,c))"
      ]
    },
    {
      "cell_type": "markdown",
      "metadata": {
        "id": "by6NAWhV8qko"
      },
      "source": [
        "*Comparision Operators*\n",
        "\n",
        "==, <=, >=, <, >, !=\n",
        "\n",
        "Comparison operators compare the values on either side of them and decide the relation among them.\n"
      ]
    },
    {
      "cell_type": "code",
      "execution_count": null,
      "metadata": {
        "colab": {
          "base_uri": "https://localhost:8080/"
        },
        "id": "QaXgsgKZ99v5",
        "outputId": "8c3ffa14-a111-4de7-c197-0918a2227890"
      },
      "outputs": [
        {
          "name": "stdout",
          "output_type": "stream",
          "text": [
            "Line 1 - a is not equal to b\n",
            "Line 2 - a is not equal to b\n",
            "Line 3 - a is not less than b\n",
            "Line 4 - a is greater than b\n",
            "Line 5 - a is either less than or equal to  b\n",
            "Line 6 - b is either greater than  or equal to b\n"
          ]
        }
      ],
      "source": [
        "a = 21\n",
        "b = 10\n",
        "if ( a == b ):\n",
        "   print (\"Line 1 - a is equal to b\")\n",
        "else:\n",
        "   print (\"Line 1 - a is not equal to b\")\n",
        "\n",
        "if ( a != b ):\n",
        "   print (\"Line 2 - a is not equal to b\")\n",
        "else:\n",
        "   print (\"Line 2 - a is equal to b\")\n",
        "\n",
        "if ( a < b ):\n",
        "   print (\"Line 3 - a is less than b\" )\n",
        "else:\n",
        "   print (\"Line 3 - a is not less than b\")\n",
        "\n",
        "if ( a > b ):\n",
        "   print (\"Line 4 - a is greater than b\")\n",
        "else:\n",
        "   print (\"Line 4 - a is not greater than b\")\n",
        "\n",
        "a,b=b,a #values of a and b swapped. a becomes 10, b becomes 21\n",
        "\n",
        "if ( a <= b ):\n",
        "   print (\"Line 5 - a is either less than or equal to  b\")\n",
        "else:\n",
        "   print (\"Line 5 - a is neither less than nor equal to  b\")\n",
        "\n",
        "if ( b >= a ):\n",
        "   print (\"Line 6 - b is either greater than  or equal to b\")\n",
        "else:\n",
        "   print (\"Line 6 - b is neither greater than  nor equal to b\")"
      ]
    },
    {
      "cell_type": "markdown",
      "metadata": {
        "id": "r83jGZ8s_D-E"
      },
      "source": [
        "*Assignment Operators:*\n",
        "\n",
        "Assignment operators are used to assign values to variables.\n",
        "\n",
        "=, +=, -=, *=, /=. **=, //=, &=, |=, ^=, >>=, <<="
      ]
    },
    {
      "cell_type": "code",
      "execution_count": null,
      "metadata": {
        "colab": {
          "base_uri": "https://localhost:8080/"
        },
        "id": "T17L45Ap_LvH",
        "outputId": "4c736803-d7c0-434f-e0ba-336ef566c217"
      },
      "outputs": [
        {
          "name": "stdout",
          "output_type": "stream",
          "text": [
            "320\n"
          ]
        }
      ],
      "source": [
        "a=10\n",
        "a <<= 5\n",
        "print(a)"
      ]
    },
    {
      "cell_type": "code",
      "execution_count": null,
      "metadata": {
        "colab": {
          "base_uri": "https://localhost:8080/"
        },
        "id": "ZsKgQxW6__Z2",
        "outputId": "12b6d626-c625-4568-95d9-9a6a4fa52277"
      },
      "outputs": [
        {
          "name": "stdout",
          "output_type": "stream",
          "text": [
            "a: 21 b: 10 c : 0\n",
            "a: 21  c = a + b: 31\n",
            "a: 21 c += a: 52\n",
            "a: 21 c *= a: 1092\n",
            "a: 21 c /= a : 52.0\n",
            "a: 21 b: 10 c : 2\n",
            "a: 21 c %= a: 2\n",
            "a: 21 c **= a: 2097152\n",
            "a: 21 c //= a: 99864\n"
          ]
        }
      ],
      "source": [
        "a = 21\n",
        "b = 10\n",
        "c = 0\n",
        "print (\"a: {} b: {} c : {}\".format(a,b,c))\n",
        "c = a + b\n",
        "print (\"a: {}  c = a + b: {}\".format(a,c))\n",
        "\n",
        "c += a # c= c+a\n",
        "print (\"a: {} c += a: {}\".format(a,c))\n",
        "\n",
        "c *= a  # c= c*a\n",
        "print (\"a: {} c *= a: {}\".format(a,c))\n",
        "\n",
        "c /= a  # c= c/a\n",
        "print (\"a: {} c /= a : {}\".format(a,c))\n",
        "\n",
        "c  = 2\n",
        "print (\"a: {} b: {} c : {}\".format(a,b,c))\n",
        "c %= a\n",
        "print (\"a: {} c %= a: {}\".format(a,c))\n",
        "\n",
        "c **= a\n",
        "print (\"a: {} c **= a: {}\".format(a,c))\n",
        "\n",
        "c //= a\n",
        "print (\"a: {} c //= a: {}\".format(a,c))"
      ]
    },
    {
      "cell_type": "markdown",
      "metadata": {
        "id": "5dNyRKPdTVj6"
      },
      "source": [
        "*Bitwise Operators:*\n",
        "\n",
        "Bitwise operator works on bits and performs bit by bit operation.\n",
        "\n",
        "& (AND),\n",
        "\n",
        "| (OR),\n",
        "\n",
        "^ (XOR),\n",
        "\n",
        "~ (NOT),\n",
        "\n",
        "<< (ZERO FILL LEFT SHIFT),\n",
        "\n",
        "'>>' (SIGNED RIGHT SHIFT)\n"
      ]
    },
    {
      "cell_type": "code",
      "execution_count": null,
      "metadata": {
        "colab": {
          "base_uri": "https://localhost:8080/"
        },
        "id": "x4g7MfNPU3q6",
        "outputId": "9d1fa7b3-df4b-4526-bf0d-655395fcb370"
      },
      "outputs": [
        {
          "name": "stdout",
          "output_type": "stream",
          "text": [
            "a= 2 : 0b10  and b= 1 : 0b1\n",
            "result of AND is  0 : 0b0\n",
            "result of OR is  3 : 0b11\n",
            "result of EXOR is  3 : 0b11\n",
            "result of COMPLEMENT is  -3 : -0b11\n",
            "result of LEFT SHIFT is  8 : 0b1000\n",
            "result of RIGHT SHIFT is  0 : 0b0\n"
          ]
        }
      ],
      "source": [
        "a = 2\n",
        "b = 1\n",
        "\n",
        "print ('a=',a,':',bin(a),' and b=',b,':',bin(b))\n",
        "c = 0\n",
        "\n",
        "c = a & b;        # Result bit 1,if both operand bits are 1;otherwise results bit 0.\n",
        "print (\"result of AND is \", c,':',bin(c))\n",
        "\n",
        "c = a | b;     # Result bit 1,if any of the operand bit is 1; otherwise results bit 0.\n",
        "print (\"result of OR is \", c,':',bin(c))\n",
        "\n",
        "c = a ^ b;        # Results bit 1,if any of the operand bit is 1 but not both, otherwise 0\n",
        "print (\"result of EXOR is \", c,':',bin(c))\n",
        "\n",
        "c = ~a;          # inverts individual bits\n",
        "print (\"result of COMPLEMENT is \", c,':',bin(c))\n",
        "\n",
        "c = a << 2;       # The left operand’s value is moved toward left by the number of bits specified by the right operand.\n",
        "print (\"result of LEFT SHIFT is \", c,':',bin(c))\n",
        "\n",
        "c = a >> 2;       # The left operand’s value is moved toward right by the number of bits specified by the right operand.\n",
        "print (\"result of RIGHT SHIFT is \", c,':',bin(c))"
      ]
    },
    {
      "cell_type": "markdown",
      "metadata": {
        "id": "G65Ial9gXFT5"
      },
      "source": [
        "*Membership Operators:*\n",
        "\n",
        "Python's membership operators test for membership in a sequence, such as strings, lists, or tuples.\n",
        "\n",
        "\n",
        "\n",
        "*   in:\tReturns True if it finds a variable in the specified sequence, false otherwise.\n",
        "*   not in:\treturns True if it does not finds a variable in the specified sequence and false otherwise.\n",
        "\n"
      ]
    },
    {
      "cell_type": "code",
      "execution_count": null,
      "metadata": {
        "colab": {
          "base_uri": "https://localhost:8080/"
        },
        "id": "QasUbupRY71u",
        "outputId": "35059225-270a-44ac-973b-88715f2cdc80"
      },
      "outputs": [
        {
          "name": "stdout",
          "output_type": "stream",
          "text": [
            "u in TFUG DUrg : False\n",
            "Dur in TFUG DUrg : False\n",
            "py in TFUG DUrg : False\n",
            "r in TFUG DUrg : True\n"
          ]
        }
      ],
      "source": [
        "var1 = \"TFUG DUrg\"\n",
        "a = \"u\"\n",
        "b = \"Dur\"\n",
        "c = \"py\"\n",
        "d = \"r\"\n",
        "print (a, \"in\", var1, \":\", a in var1)\n",
        "print (b, \"in\", var1, \":\", b in var1)\n",
        "print (c, \"in\", var1, \":\", c in var1)\n",
        "print (d, \"in\", var1, \":\", d in var1)"
      ]
    },
    {
      "cell_type": "code",
      "execution_count": null,
      "metadata": {
        "colab": {
          "base_uri": "https://localhost:8080/"
        },
        "id": "6yrU08YkZu4H",
        "outputId": "9be13252-dccd-4a6e-f1d0-7118ff4fab5e"
      },
      "outputs": [
        {
          "name": "stdout",
          "output_type": "stream",
          "text": [
            "20 in [10, 20, 30, 40] : True\n",
            "10 not in [10, 20, 30, 40] : False\n",
            "10 in [10, 20, 30, 40] : True\n",
            "10.0 not in [10, 20, 30, 40] : False\n"
          ]
        }
      ],
      "source": [
        "var = [10,20,30,40]\n",
        "a = 20\n",
        "b = 10\n",
        "c = a-b\n",
        "d = a/2\n",
        "print (a, \"in\", var, \":\", a in var)\n",
        "print (b, \"not in\", var, \":\", b not in var)\n",
        "print (c, \"in\", var, \":\", c in var)\n",
        "print (d, \"not in\", var, \":\", d not in var)"
      ]
    },
    {
      "cell_type": "markdown",
      "metadata": {
        "id": "nWotdk0vax2i"
      },
      "source": [
        "*Logical Operators:*\n",
        "\n",
        "Python logical operators are used to form compound Boolean expressions.\n",
        "\n",
        "\n",
        "\n",
        "1.   and - both the conditions should be true\n",
        "2.   or - the or operator returns True if any of the operands is True.\n",
        "3.   not- the result is reversed, True becomes False and not False becomes True.\n",
        "\n",
        "\n"
      ]
    },
    {
      "cell_type": "code",
      "execution_count": null,
      "metadata": {
        "colab": {
          "base_uri": "https://localhost:8080/"
        },
        "id": "ibD4wpOecHwW",
        "outputId": "ef32b08f-7870-4b05-f4df-4d716a88c65a"
      },
      "outputs": [
        {
          "name": "stdout",
          "output_type": "stream",
          "text": [
            "x > 0 and x < 10: False\n",
            "x > 0 and y > 10: True\n",
            "x > 10 or y > 10: True\n",
            "x%2 == 0 and y%2 == 0: True\n",
            "not (x+y>15): False\n"
          ]
        }
      ],
      "source": [
        "x = 10\n",
        "y = 20\n",
        "print(\"x > 0 and x < 10:\",x > 0 and x < 10)\n",
        "print(\"x > 0 and y > 10:\",x > 0 and y > 10)\n",
        "print(\"x > 10 or y > 10:\",x > 10 or y > 10)\n",
        "print(\"x%2 == 0 and y%2 == 0:\",x%2 == 0 and y%2 == 0)\n",
        "print (\"not (x+y>15):\", not (x+y)>15)"
      ]
    },
    {
      "cell_type": "code",
      "execution_count": null,
      "metadata": {
        "colab": {
          "base_uri": "https://localhost:8080/"
        },
        "id": "41VFXGlgcLEM",
        "outputId": "06241a78-9993-473c-9dc1-15b2f2ddf941"
      },
      "outputs": [
        {
          "name": "stdout",
          "output_type": "stream",
          "text": [
            "x and y: 20\n",
            "x or y: 10\n",
            "z or x: 10\n",
            "y or z: 20\n"
          ]
        }
      ],
      "source": [
        "x = 10\n",
        "y = 20\n",
        "z = 0\n",
        "print(\"x and y:\",x and y)\n",
        "print(\"x or y:\",x or y)\n",
        "print(\"z or x:\",z or x)\n",
        "print(\"y or z:\", y or z)"
      ]
    },
    {
      "cell_type": "markdown",
      "metadata": {
        "id": "Hygo8netdf8U"
      },
      "source": [
        "## Taking Input\n"
      ]
    },
    {
      "cell_type": "code",
      "execution_count": null,
      "metadata": {
        "colab": {
          "base_uri": "https://localhost:8080/"
        },
        "id": "-mHwOs5JdmAp",
        "outputId": "cd73b3d7-b7d7-48da-d65f-8db63d255b77"
      },
      "outputs": [
        {
          "name": "stdout",
          "output_type": "stream",
          "text": [
            "enter your name: asmi\n",
            "asmi\n"
          ]
        }
      ],
      "source": [
        "a= input(\"enter your name: \")\n",
        "print(a)\n"
      ]
    },
    {
      "cell_type": "code",
      "execution_count": null,
      "metadata": {
        "colab": {
          "base_uri": "https://localhost:8080/"
        },
        "id": "H9Ut18igdwbb",
        "outputId": "0996ad88-5fb0-4fbc-fff8-09e2fd8453cb"
      },
      "outputs": [
        {
          "name": "stdout",
          "output_type": "stream",
          "text": [
            "enter your age: 18\n",
            "18\n"
          ]
        }
      ],
      "source": [
        "b= int(input(\"enter your age: \"))\n",
        "print(b)"
      ]
    },
    {
      "cell_type": "markdown",
      "metadata": {
        "id": "XolYiE-QenCy"
      },
      "source": [
        "#Control Flow Statements\n"
      ]
    },
    {
      "cell_type": "markdown",
      "metadata": {
        "id": "6EeDzHfQesXd"
      },
      "source": [
        "Python program control flow is regulated by various types of conditional statements, loops, and function calls"
      ]
    },
    {
      "cell_type": "markdown",
      "metadata": {
        "id": "PIvbP2vvgLev"
      },
      "source": [
        "They introduce logic, decision-making, and looping. Key control statements in Python include if/else, for/while, break/continue, and pass."
      ]
    },
    {
      "cell_type": "markdown",
      "metadata": {
        "id": "4MfgOpNFgV63"
      },
      "source": [
        "###The \"if\" statement\n",
        "\n",
        "\n",
        "\n",
        "    if expression:   \n",
        "       statement(s)"
      ]
    },
    {
      "cell_type": "code",
      "execution_count": null,
      "metadata": {
        "colab": {
          "base_uri": "https://localhost:8080/"
        },
        "id": "Dzi7ABukhCG2",
        "outputId": "4585dfa5-703d-4b49-909b-a2671a9bc3cc"
      },
      "outputs": [
        {
          "name": "stdout",
          "output_type": "stream",
          "text": [
            "20 is in a\n"
          ]
        }
      ],
      "source": [
        "a= [10,20,30,40,50]\n",
        "if 20 in a:\n",
        "  print(\"20 is in a\")"
      ]
    },
    {
      "cell_type": "markdown",
      "metadata": {
        "id": "ODaBXgoKhqA3"
      },
      "source": [
        "### if- else block\n",
        "\n",
        "if (condition):\n",
        "  statement\n",
        "else:\n",
        "  statement\n",
        "  "
      ]
    },
    {
      "cell_type": "code",
      "execution_count": null,
      "metadata": {
        "colab": {
          "base_uri": "https://localhost:8080/"
        },
        "id": "qAKcdYK1hwY0",
        "outputId": "c264817b-c455-40bc-a725-2e4e8274a929"
      },
      "outputs": [
        {
          "name": "stdout",
          "output_type": "stream",
          "text": [
            "enter you age: 14\n",
            "not eligible to vote\n"
          ]
        }
      ],
      "source": [
        "age=int(input(\"enter you age: \"))\n",
        "\n",
        "if age>=18:\n",
        "  print(\"eligible to vote\")\n",
        "else:\n",
        "  print(\"not eligible to vote\")\n"
      ]
    },
    {
      "cell_type": "markdown",
      "metadata": {
        "id": "d3s-EKMOijn_"
      },
      "source": [
        "### if-elif-else block\n",
        "\n",
        "\n",
        "```\n",
        "# if expression1:\n",
        "   statement(s)\n",
        "elif expression2:\n",
        "   statement(s)\n",
        "elif expression3:\n",
        "   statement(s)\n",
        "else:\n",
        "   statement(s)\n",
        "```\n",
        "\n",
        "\n",
        "\n",
        "\n",
        "\n"
      ]
    },
    {
      "cell_type": "code",
      "execution_count": null,
      "metadata": {
        "colab": {
          "base_uri": "https://localhost:8080/"
        },
        "id": "fEWJ5n3jjihg",
        "outputId": "a0ce91f5-b38d-42b8-a645-3f899ab6e24e"
      },
      "outputs": [
        {
          "name": "stdout",
          "output_type": "stream",
          "text": [
            "enter the amount3000\n",
            "Amount =  3000\n",
            "Payable amount =  2850.0\n"
          ]
        }
      ],
      "source": [
        "amount = int(input(\"enter the amount\"))\n",
        "print('Amount = ',amount)\n",
        "if amount > 10000:\n",
        "   discount = amount * 20 / 100\n",
        "else:\n",
        "   if amount > 5000:\n",
        "      discount = amount * 10 / 100\n",
        "   else:\n",
        "      if amount > 1000:\n",
        "         discount = amount * 5 / 100\n",
        "      else:\n",
        "         discount = 0\n",
        "\n",
        "print('Payable amount = ',amount - discount)"
      ]
    },
    {
      "cell_type": "markdown",
      "metadata": {
        "id": "SbkeuJLwkWpQ"
      },
      "source": [
        "### match-case Statement\n",
        "\n",
        " This Match-Case is the Switch Case of Python which was introduced in Python 3.10\n",
        "```\n",
        "match variable_name:\n",
        "   case 'pattern 1' : statement 1\n",
        "   case 'pattern 2' : statement 2\n",
        "   ...\n",
        "   case 'pattern n' : statement n\n",
        "```\n",
        "\n"
      ]
    },
    {
      "cell_type": "code",
      "execution_count": null,
      "metadata": {
        "colab": {
          "base_uri": "https://localhost:8080/"
        },
        "id": "f2G3ahmIk8Ov",
        "outputId": "8aea3762-59b3-4902-ff7e-f5753b4d4ea4"
      },
      "outputs": [
        {
          "name": "stdout",
          "output_type": "stream",
          "text": [
            "Thursday\n",
            "Sunday\n",
            "Invalid day number\n"
          ]
        }
      ],
      "source": [
        "def weekday(n):\n",
        "   match n:\n",
        "      case 0: return \"Monday\"\n",
        "      case 1: return \"Tuesday\"\n",
        "      case 2: return \"Wednesday\"\n",
        "      case 3: return \"Thursday\"\n",
        "      case 4: return \"Friday\"\n",
        "      case 5: return \"Saturday\"\n",
        "      case 6: return \"Sunday\"\n",
        "      case _: return \"Invalid day number\"\n",
        "print (weekday(3))\n",
        "print (weekday(6))\n",
        "print (weekday(7))"
      ]
    },
    {
      "cell_type": "markdown",
      "metadata": {
        "id": "vRAx4x8LmqqP"
      },
      "source": [
        "# LOOPS\n",
        "\n",
        "> while - Repeats a statement or group of statements while a given condition is TRUE. It tests the condition before executing the loop body.\n",
        "```\n",
        "while expression:\n",
        "   statement(s)\n",
        "```\n",
        "\n",
        "> for - Executes a sequence of statements multiple times and abbreviates the code that manages the loop variable.\n",
        "\n",
        "NOTE: When the loop is not terminated by a break statement, the else block immediately after for/while is executed.\n",
        "\n",
        "```\n",
        "for condition in sequence:\n",
        "    statements\n",
        "```    \n",
        "   \n",
        "\n",
        "> do.. while -"
      ]
    },
    {
      "cell_type": "code",
      "execution_count": null,
      "metadata": {
        "colab": {
          "base_uri": "https://localhost:8080/"
        },
        "id": "uMbjdKAYmvfQ",
        "outputId": "090bddd2-0f1e-4be9-8d22-e15b9ff48abc"
      },
      "outputs": [
        {
          "name": "stdout",
          "output_type": "stream",
          "text": [
            "python\n",
            "python\n",
            "python\n",
            "python\n",
            "python\n",
            "python\n",
            "python\n",
            "python\n",
            "python\n",
            "python\n"
          ]
        }
      ],
      "source": [
        "i=0\n",
        "for i in range(10):\n",
        "  print(\"python\")\n"
      ]
    },
    {
      "cell_type": "code",
      "execution_count": null,
      "metadata": {
        "colab": {
          "base_uri": "https://localhost:8080/"
        },
        "id": "t66OGOy-oHS4",
        "outputId": "50454d1b-e196-46c7-fb61-7ed5b0365cbe"
      },
      "outputs": [
        {
          "name": "stdout",
          "output_type": "stream",
          "text": [
            "Total = 539\n"
          ]
        }
      ],
      "source": [
        "numbers = (34,54,67,21,78,97,45,44,80,19)\n",
        "total = 0\n",
        "for num in numbers:\n",
        "   total+=num\n",
        "print (\"Total =\", total)"
      ]
    },
    {
      "cell_type": "code",
      "execution_count": null,
      "metadata": {
        "colab": {
          "base_uri": "https://localhost:8080/"
        },
        "id": "SheVcbc6pBNA",
        "outputId": "09c8892c-b813-4713-da2d-eb919a149688"
      },
      "outputs": [
        {
          "name": "stdout",
          "output_type": "stream",
          "text": [
            "1\n",
            "2\n",
            "3\n",
            "No Break\n",
            "\n"
          ]
        }
      ],
      "source": [
        "for i in range(1, 4):\n",
        "    print(i)\n",
        "\n",
        "else:  # Executed because no break in for\n",
        "    print(\"No Break\\n\")"
      ]
    },
    {
      "cell_type": "code",
      "execution_count": null,
      "metadata": {
        "colab": {
          "base_uri": "https://localhost:8080/"
        },
        "id": "HjwcoFoVpEfE",
        "outputId": "25b69ea6-b4f5-4952-f1b4-7f2d4b5738ce"
      },
      "outputs": [
        {
          "name": "stdout",
          "output_type": "stream",
          "text": [
            "Washing shirt\n",
            "Washing pants\n",
            "Washing towel\n",
            "Washing ['socks']\n"
          ]
        }
      ],
      "source": [
        "clothes = [\"shirt\", \"sock\", \"pants\", \"sock\", \"towel\"]\n",
        "paired_socks = []\n",
        "for item in clothes:\n",
        "    if item == \"sock\":\n",
        "        continue\n",
        "    else:\n",
        "        print(f\"Washing {item}\")\n",
        "paired_socks.append(\"socks\")\n",
        "print(f\"Washing {paired_socks}\")"
      ]
    },
    {
      "cell_type": "code",
      "execution_count": null,
      "metadata": {
        "colab": {
          "base_uri": "https://localhost:8080/"
        },
        "id": "IEdixMCmsXER",
        "outputId": "ff834789-c83d-4ee3-ae32-5424862ce575"
      },
      "outputs": [
        {
          "name": "stdout",
          "output_type": "stream",
          "text": [
            "  1   2   3   4   5   6   7   8   9  10 \n",
            "  2   4   6   8  10  12  14  16  18  20 \n",
            "  3   6   9  12  15  18  21  24  27  30 \n",
            "  4   8  12  16  20  24  28  32  36  40 \n",
            "  5  10  15  20  25  30  35  40  45  50 \n",
            "  6  12  18  24  30  36  42  48  54  60 \n",
            "  7  14  21  28  35  42  49  56  63  70 \n",
            "  8  16  24  32  40  48  56  64  72  80 \n",
            "  9  18  27  36  45  54  63  72  81  90 \n",
            " 10  20  30  40  50  60  70  80  90 100 \n"
          ]
        }
      ],
      "source": [
        "for i in range(1,11):\n",
        "   for j in range(1,11):\n",
        "      k=i*j\n",
        "      print (\"{:3d}\".format(k), end=' ')\n",
        "   print()\n"
      ]
    },
    {
      "cell_type": "code",
      "execution_count": null,
      "metadata": {
        "colab": {
          "base_uri": "https://localhost:8080/"
        },
        "id": "GwoJmRkytPI0",
        "outputId": "2a76ec4e-fa51-4cd9-932f-d667af98c47b"
      },
      "outputs": [
        {
          "name": "stdout",
          "output_type": "stream",
          "text": [
            "Iteration no. 1\n",
            "Iteration no. 2\n",
            "Iteration no. 3\n",
            "Iteration no. 4\n",
            "Iteration no. 5\n",
            "End of while loop\n"
          ]
        }
      ],
      "source": [
        "count=0\n",
        "while count<5:\n",
        "   count+=1\n",
        "   print (\"Iteration no. {}\".format(count))\n",
        "\n",
        "print (\"End of while loop\")"
      ]
    },
    {
      "cell_type": "code",
      "execution_count": null,
      "metadata": {
        "colab": {
          "background_save": true,
          "base_uri": "https://localhost:8080/"
        },
        "id": "p_jExT3ItPmh",
        "outputId": "703f4e8b-d272-4b36-f128-4db33eb36dc7"
      },
      "outputs": [
        {
          "name": "stdout",
          "output_type": "stream",
          "text": [
            "You entered:  2\n",
            "You entered:  2\n",
            "You entered:  4\n",
            "You entered:  4\n"
          ]
        }
      ],
      "source": [
        "# infinite loop\n",
        "var = 1\n",
        "while var == 1 : # This constructs an infinite loop\n",
        "   num = int(input(\"Enter a number :\"))\n",
        "   print (\"You entered: \", num)\n",
        "print (\"Good bye!\")"
      ]
    },
    {
      "cell_type": "code",
      "execution_count": null,
      "metadata": {
        "id": "0K-srxq_t-Ga"
      },
      "outputs": [],
      "source": [
        "count=0\n",
        "while count<5:\n",
        "   count+=1\n",
        "   print (\"Iteration no. {}\".format(count))\n",
        "else:\n",
        "   print (\"While loop over. Now in else block\")\n",
        "print (\"End of while loop\")"
      ]
    },
    {
      "cell_type": "markdown",
      "metadata": {
        "id": "bQIeGQh0uWtF"
      },
      "source": [
        "Python break statement is used to terminate the current loop and resumes execution at the next statement, just like the traditional break statement in C.\n",
        "\n",
        "![image.png](data:image/png;base64,iVBORw0KGgoAAAANSUhEUgAAAoEAAAHHCAYAAADAuoJUAAAAAXNSR0IArs4c6QAAAARnQU1BAACxjwv8YQUAAAAJcEhZcwAADsMAAA7DAcdvqGQAAOU2SURBVHhe7P0HgF1lnf+Pf+bW6ekVAiQhBJIQWuhVulJURLEr6v+/6Fq+uO6u+911Xb+ubWXVddcO2JaiqChI772FkBCSEEJI72WSTLv9/j6v585nOAyBTEJg5s583uHhnPP05zln7n3dz1NOTVklA1Vti+Sqz58nn/rlsi6P19GBF8kVv7xK/u6koV0eLpfL5XK5XANXAxsCu5RZ/Zj86bpr5I93zZFn7npMDAnHzjhdTjj5eHnHBR+S95x1iAxNdAW4XC6Xy+VyDXANCgh0uVwul8vlcr1Ssa6jy+VyuVwul2sQySHQ5XK5XC6XaxDKIdDlcrlcLpdrEMoh0OVyuVwul2sQyiHQ5XK5XC6XaxDKIdDlcrlcLpdrEMoh0OVyuVwul2sQyiHQ5XK5XC6XaxDKIdDlcrlcLpdrEMoh0OVyuVwul2sQyiHQ5XK5XC6XaxDKIdDlcrlcLpdrEMoh0OVyuVwul2sQyiHQ5XK5XC6XaxDKIdDlcrlcLpdrEMoh0OVyuVwul2sQyiHQ5XK5XC6XaxCqpqzqOne5XK63XG1tbRKLxSSdTks2m5V4PC7JZFKKxWJwtbW1ksvlZNmyZZLJZGTkyJEybtw4Wb16tQwbNkwaGhqkVCpJIpHoytHlcrlcvZFDoMvl6lMVCgWpqamRfD4vGzdulLFjxwYI3LJlizz33HPy8MMPy+bNm6WzszNAIbA3fPhwmTZtmpxwwgmy7777Bkjcvn27jB49OqR1uVwu167lEOhyufpcAGBHR0ew9I0YMUIWLFgg8+fPl4ULF8qTTz4ZwgBFPq6w+qVSKZk8ebIcfPDBcthhh8khhxwijY2NwZqI5dCtgi6Xy7VrOQS6XK4+F5DHUDBDu+3t7XL11VfLY489FoaKCQP8sPBxxHLIOeDIORB40UUXyVlnnRXSAoFAosvlcrleX74wxOVy9an4HcqcQMANyJs7d67Mnj1bXnrppTAEjHWPYWDmCiLAD1hEACJWw/vuuy8MH2MBtHgul8vlen25JdDlcvWpsN4x1ItjsccVV1wRABDYA/62bt0aQBC44+MKf6yGQOP48eNDHqQ97bTT5OMf/7iMGjUq+LlcLpfr9eWWQJfL1acyAGQ+4IoVK+TFF1+UHTt2BCtfa2trGN5lsQhz/oYOHRrO6+rqwpDwtm3bQjy0dOnSEB9wdLlcLteu5RDocrn6VDZ/D4BjdTBDumb5wwF8rPzF+gfwAYiAISuBsQwyZIx1kOFgW0Hscrlcrl3LIdDlcvWpsAIiII+hX1vYgaWPI1AI+AF3WAuJg7+FAYL4A5EsFvEZLi6Xy9U7OQS6XK4+FfAHCGL9w9KH1Y8j0Ic/R7aNwTU3N3dvBbNy5coAfUAjC0psWNjlcrlcvZNDoMvl6lNh8cOi19TUJNOnTw8rhbHmAXoAHkO8DAuzITSwV19f3z1cDATiZ1ZBIJFzl8vlcu1aDoEul6tPZXP/ADve/oEAQeb5sU8g2rBhg6xbty4M+2IdXLt2bQBEtooB/vDjnHxseNnlcrlcry+HQJfL1acC9nBYBHkv8BFHHBFWAWPhMwshQ8G8J5hFIpYmagWcMGGCXHjhhQEkfWGIy+Vy9U4OgS6Xq0/F0C9DvUAd8HfeeecFiyAWPQAP8GMeoM0FxEpow8HMJwQeeY/wO9/5zhDHF4a4XC5X7+QQ6HK5+lSAHpY9VvcCfGz6zNzA4cOHB9BjTuCaNWvCkLBtLA0IslE0cwDZN5D4bBJtQ8Iul8vl2rX8jSEul6tPBeQhhn6x7GEV5GNp/vz5cvPNN8sDDzwQhoQJJwwH7DE8/KEPfUiOO+647s2jSYeVkLgul8vlen05BLpcrj6VbRGDAwhtyBfLIK+R4xVyWAF5PzALRRj6Pfzww8Nm0VOnTpUxY8aEuYEtLS3Beohl0ReHuFwu167lEOhyufpUDAUjQA7IGzJkSNgcGhBkOxiGgFkN/Itf/CLA4Mknnyzvete7wrAv1j+z/AGQfJyRxreJcblcrl3L5wS6XK4+FTAH8NnvUY6s8MXhDxSyaphFH2wLY/MAo/P/OOIPSOJcLpfLtWs5BLpcrj4VQ7eAH84seGwJwzxAew0c1kDbNBr4Iw0WP8CPI/74sboYy6DL5XK5di2HQJfL1ecC4gBAnAEdR4Z7OWfhB0O++NmiDxaI2J6AgCIWQCyHxHe5XC7XruUQ6HK5+qWAOQM6OwJ7pug5cvhzuVyu3ZNDoMvlqir1hD8UBUaXy+Vy9U4OgS6Xqyrl0OdyuVxvTA6BLperquTw53K5XHtHDoEul6sq5EO+LpfLtXflEOhyuapCBoEGgg6ELpfL9cbkEOhyuapCQB9bwODsOgqCO1sw4nK5XK7XlkOgy+WqChkE7swCCACac7lcLlfv5BDocrn6vQzugEA2jEY9YdAB0OVyuXZPDoEul6tPZe/7jQ7vRq16HHl9HG8IAQB5bRyyYWGLRx4Ogi6Xy9V7OQS6XK5+o51BILJXyaGeFkCXy+Vy7ZkcAl0uV58qCnvROX8GglxHIdDlcrlce0cOgS6Xq89lsBcFwKgcAl0ul2vvyyHQ5XL1G0VBzyyBKAqILpfL5do7cgh0uVz9RlELYBT8fNGHy+Vy7X05BLpcrj4XsAfkAXt2bQ5/VgYXi8UQ5nK5XK69I4dAl8vVpzJrH7AH6HHEzxaJcJ3NZrsB0eVyuVx7Rw6BLperT2UWP9TTEojwc0ugy+Vy7X05BLpcrn4jrH49FbUQulwul2vvySHQ5XL1qbD04bD8JRKJ4AfwGfQxLBzdP9Dlcrlce0cOgS6Xy+VyuVyDUA6BLpfL5XK5XINQDoEul8vlcrlcg1AOgS6Xy+VyuVyDUA6BLpfL5XK5XINQDoEul8vlcrlcg1AOgS6Xy+VyuVyDUA6BLpfL5XK5XINQDoEul6tfyzaNtiObRu/s7SG+mbTL5XLtnhwCXS5Xnwp4M4CLglwU9Oz9wYSn02nJ5/NSKBS6Qitx4/G4g6DL5XLthhwCXS5Xv1UUBKOvjzPncrlcrj2XQ6DL5aoKAYBY+8w5CLpcLtcbk0Ogy+WqCkUhEPjj2uVyuVx7Lv8UdblcVSGDQBsSdrlcLtcbk0Ogy+WqCtnw7+sBoMOhy+Vy9V4OgS6XqyrVc5sYB0CXy+XaPTkEulyuqhLbxQCAdnS5XC7Xnskh0OVyVYWi4NcTAB0GXS6Xa/flEOhyufqNXmtIl42hi8Vi11VFxAX+DAAdBF0ul2v35BDocrn6VLbVC9Y9Vv9yNBnYtbS0SGdnZzhPJBIhDkfCOScPILGnhdDlcrlcry2HQJfLVbVy4HO5XK49l0Ogy+VyuVwu1yCUQ6DL5XK5XC7XIJRDoMvlcrlcLtcglEOgy+VyuVwu1yCUQ6DL5XK5XC7XIJRDoMvlcrlcLtcglEOgy+VyuVwu1yCUQ6DL5aoKsScgbwmxzaUR16/1lhGXy+Vyvb4cAl0uV1UICOQtIbW1td2vkOMNIwaFBoQOhS6Xy9U7OQS6XK6qkL0izt8S4nK5XHtHDoEul6sqBPxFQdBh0OVyud6YHAJdLldVyMCvJwD2vHa5XC5X7+QQ6HK5qkYOey6Xy7X35BDocrmqRq+18MMXg7hcLtfuyyHQ5XJVhVgFzGpgWxFs4OcA6HK5XHsmh0CXy1UVMgjkGN0WxuVyuVx7JodAl8tVFTL4i0IgchB0uVyuPZNDoMvl6heyRR87W+1rm0MDf1gDAT+HP5fL5Xpjcgh0uVx9KoCPvf9wKHoO8KGOjg7J5/Pd8GcAaHG5jloHXS6Xy7Vr+aemy+XqUxnUGcRFIc8sgoVCoRsMXS6Xy7V35BDocrn6XFHwAwajEMhQMFbAnkPELpfL5Xpjcgh0uVx9rp1BIA7ws+Fih0CXy+Xau3IIdLlcfS6DPZMBYRQOXS6Xy7V35RDocrn6VAaAPS19wB9WQXMOgy6Xy7V35RDocrn6XFEI7AmEwJ9tC+NyuVyuvSeHQJfL1acC7qKAZ/P/eoKgy+VyufauHAJdLlefKwqCwF9PEHQIdLlcrr0vh0CXy9Uv1BP0opbA6LnL5XK59o4cAl0uV7+QgV50MYjJIdDlcrn2vhwCXS6Xy+VyuQahHAJdLpfL5XK5BqEcAl0ul8vlcrkGoRwCXS6Xy+VyuQahHAJdLpfL5XK5BqEcAl0ul8vlcrkGoRwCXS6Xy+VyuQahHAJdLpfL5XK5BqEcAl0uV5/KXhEXfWMIfjg7j4axiTTxo6+Ws82ki8VidzqXy+Vyvb4cAl0uV5+qUCgEeAP0OAfiMplMcNlsVtrb27vBDxEP/3w+L7lcLhwN/kjDucvlcrl2rRr9YPX3Mblcrj6TfQS1tLTI008/LR0dHZJKpQLMAXWEP//88zJv3jw58MAD5cILL5SRI0eGOICfvV5u+/btMmXKFKmrq3vVe4hdLpfL9Wo5BLpcrj4V0IeWLl0q3/ve9wL8JRKJ4GfWPuJs27YtwN/EiRO7rX6AIHHr6+vloIMOkgsuuECGDRsW0rpcLpfr9eUQ6HK5+lRm7XvhhRfk61//uqxbty74m4UP2XAvVj7AD6shw8RDhw4N/hwvu+wyOfXUU2XIkCFuCXS5XK5eyOcEulyuPlVtbW0AO+Dt5JNPlmQyGSDOfp9i2eMaKOTIvEHCAMKGhgZJp9Mh7dFHHy3xeNznBLpcLlcv5RDocrn6XCz0YEiX4VzADuseQ8Ctra0B9rZu3SptbW3BaggE4jdq1KgwFMzxiCOOkHHjxklnZ2cYPna5XC7XruUQ6HK5+lRY9YC5xsZGGTNmTBjSbW5uDn7MAQT6AEOGfLEa2tAwkLh27dpgKTzllFOClXDEiBEhjsvlcrl2LYdAl8vVpwLyENDHQpATTzxRJkyYECyD+G3evDmcA4tYDAFAm/M3fvx4mTlzpkydOjVAoQ0bu1wul2vX8k9Ll8vVpzJwYz4fbvLkyTJt2jQZPnx4GA5mGJg4ACIAyJxBgJDrQw45JEAgcwJdLpfLtXtyCHS5XH0qrH04QI9FHgwFM8dv3333DQAIGAJ8gB9xcJwT99BDDw17B9qQMmEul8vl6p0cAl0uV58LCx/Dwjjm9GEJZOPnpqamYBEEAoE84u3YsSOsJsYKCASOHj06hLMohHCXy+Vy9U4OgS6Xq1/IrHw45gACgdOnTw/WQJsfyKpgFoggFoOMHTs2nAOFAKPPB3S5XK7eyz8xXS5XnwrrnQ31GsQBeyz2mDVrVrDymT9xWEXM20EOO+ywAH6sFiYcZyuHXS6Xy7VrOQS6XK4+FQCIgDisfXbOdjEHH3xwGA5mmBgYxLFdzNve9rawMhgLICIP9ge0vFwul8u1azkEulyufiGzBAJyQB8LPwA9hoQJw48jm0MzFEw4i0YAR9KwkTThOJfL5XLtWg6BLperT2XQBsgZ7GHx44gVEKsfm0ADe2wezTAxbwchHAGCpLX0DoEul8vVOzkEulyuPhcA13MuHzDHdjHHH3+8HHnkkWGhCO8HPumkk0Jc5g0ChsAgcwF9YYjL5XLtnmr0w9cn0bhcrj4TH0FAHEegDsCzxSI2PPzQQw/JypUrZb/99pOjjjoqxAMCAUWshsS3V8qRxq2BLpfLtWs5BLpcrj6XreoF4MyaZxY+rltaWsJWMawMZkgY8GNOoAEjAgwtvuXhcrlcrteWQ6DLVaUCeGwOHCDE3DiOZgUzv2pQFOaoM20AAnGcswqYo31cWRvpA/wM+shjIEEg7YsCL22l7XZf7drlcrn2RA6BLleVijdkGDDZytiOjo5uv2w22z1k6qo+8dHc3t4e3pDCq/FssQwWTzbPRvZDwC2fLpdrT+QQ6HJVqQwAgL2XXnpJrr32Wlm6dGnwTyaTwXIEKGJFc0ioPgGAfDwDgJ/73Odkn332CRZB7jmO+8u9B/ptv0SXy+XaHTkEulxVKiDAYGD58uXy+c9/XlasWBEg0GBh27Zt3fvpuapLbH6NxY+V0V/5ylcCBHIf8eee2z0eSMPfLpfrrZVDoMtVpWJ4ECAAADZt2iQf/ehHZd26dcEPOEAME2MVdEioTvGe5COOOEL+5V/+Rfbdd99wH6MQaABo99vlcrl2R/7N4HJVsRgOZMgXCMBKhAMKmDuGP3MC3QpYnTJwx7Jr4Me9BP7MuosfzuVyufZEDoEuV5UKCx9749l8MKAA+LNzxJYqLCQAEt1Vl+NeYsllsQ9AD+zhDxxyTzni54M5LpdrT+XDwS5XlYrhYAABEGA4+NJLL5UlS5YEMMRS1NraGuaUARP+Z1594t6xJyLvTv6Hf/gHmTBhwitAn3tsAg5dLpdrd+UQ6HJVqYA/hgrR2rVr5bLLLpMXXnghWIiABTZXBhhs7pirugTkNzQ0yKxZs+Tf/u3fwttSsP5yz7n3WAMR99Yh0OVy7Yn8m8HlqlLZsKENESIgAfBjDhnntj2Mu+p0Bnc27Ms1gG9hFu5yuVx7IodAl6tKBRRgFcJxjuUI2aphYMGsgEAEcGhDiQg/gwv87chiE4uP8EfkRd5mieJIHCxSVheLa/lF45jlykSYhVNXhj+BVtJxZFg7OveNuBwRRyCXOhGX9KSjfuRHOI622LXVDUX97Gj155pwAItjNC6OsqiXQba1nzh705E3fUL+BnvROvQERZfL5dpdOQS6XFUqACAKA3YONEShCEiwc4AGeCHc4IFzAIgj4fb2EeIbhHEcMWJEgEvyQgZlDFnaNenI384J55w4rFQmH3OWnnKGDRsm06ZNk/333z+Ux554Bx10UDgCQ4h8yYMjdRgzZoxMnjw5zJVjAQwyYEMcmTOJH7J+srKR9Q3+xOeIn/UTR+pHHPoHAWajR48OdcUNGTKkO5+9KeoYvWfUzcqInrtcLteeyiHQ5RrgAiKABuAFB1yw2hQrGSABYGB1A4KAmylTpnQvLgEIt2/fLlu2bJHNmzcHEASGSIsAoDVr1oRw8qUcwsgTAOMacFu5cqU8//zzYbEK5VAnHIDHkcUPzGn8yEc+EiDtjDPOkP/3//6ffPazn5X169cHyHrve98r559/fmgDOu644+Sf//mfQxryYV4kYMjeepQBQLGwgjoCr9QRx5s4rL20n3Pqan2Do868ro124G9tJs9Vq1bJueeeK9/5znfkk5/8ZMiPMPJzuVyuapJDoMs1wAWcAFEADYAFdAE6CEiLXm/dujW8fQRYAoSAK6xsACEwBgwZOOIHTHLNRsYAl4kwXFNTkwwfPjwcceRJXaiT1YdwHOWMGjUqWACfe+45+cUvfiF//etfg7UP/8MPPzzAIpCHZRGovOGGG+TOO+8MEDdz5swAbgAZ7TIo45z8AUSAEH8DVsQ1oEeb6Qv8bZNtay/+iDo2NzfL2LFjg/WS9rMyG3/a5nK5XNUkXx3sclWxgBP+hDds2BCsUlipACL8bNiTc8CGawAMwEF2bXlgATzggAOCtY8wLGSLFy/uhkLyOvroowPwAXTA08aNG+Xpp58OFj6gaOLEiSGc+ICRDZXyJpOnnnqq25o4derUUBZh5Dtp0qQwHMz5N77xjTAMTH2AultvvVXe9a53BUsg8e+77z556KGHQpvIp6WlRZ544okQF0A7+OCDZdy4caH+OGBx/vz5IR4gePLJJwdABXABRkAOyHzwwQeDVRPLHu0766yzAhwCg1gSgWDaimX0i1/8YrBWPvnkk8EaCQBSd4PFvSX6ELj993//9+7XxiGDU/rD5XK59lTxf2PvAZfLVZUyaxfgctNNNwUQYsgSAUkGgMQz2MMBQcAN/gAO0MMQ5wUXXCDHHHNMgKUZM2YEsOP9w4ASljiGYwkH9LCGHXbYYQFUXnzxxWBtI/yiiy4K8MV8uQMPPFAOOeSQ4IAxIAtwe9/73iennnpqsOgBN+PHjw91oG5/+tOf5KSTTgp1AequvfZa+fCHPxzyoCzax1Y4ExUiz9E6Uy6wynuTAcVzzjkngBPlY1UECIFSLHaU80//9E9y6KGHds/nox1AJiDHkDKQzKvaPvWpTwVgJR75AaXLli0LeZEecGUbnkcffTQcgcC9DWWAKvfi9NNPD33BvUR2dAh0uVxvRD4c7HINcAEMAIrBIVYkA0P8gUGGXN/2trcFoMLS9t3vfleeeeaZsOgCix0gcuaZZ8rb3/72YBn8+c9/Ltdcc02AyS984Qty/PHHB2saQ8JAFRCItQ7rGpAJVAGUOOASoMQyx3Dv448/HupFHagTYGbz+oBarHHkg7UTi96VV14p99xzj9QqtDGHEZAEDqkD1lAAbdGiRfLjH/9Yfvvb3wbrJfMNqT9tJS6WyzvuuCO0AYijjsAtwGgbNNNfN954o/zqV7+SuXPnBugDcmmfWRKxmNriEwDW5XK5qkkOgS7XABcwhQAW4AXrEYCDxQt4AYoAJ4AKi97DDz8cLHbf+973wrDnLbfcEsAMMALEmIMHZAFoABR5AYlY8hheJV+GcB955JHwBhOGjIlDPdjwGOsgIEr47Nmzw7w+wJMhYyxtDLeSB4AK4AFfgCflAW9Y4rCKYf0EwDgCcQxF057rr79err766gCX1JW0gB3hWPuoB5BKWxcuXBjyXL16dSiXNmANvOKKK+Rzn/tc6JN3vOMdAVpJA1CS3haDYCGlrvStDdW6XC5Xtcgh0OUaBMLyB6TgADJgCRjEMgbAAEdADsAGNGHlAsKAPuALAT/AFuAFAGHJwzLHNUOmgKBZwyjHLGU2ZAlgAZOWN456UReginoxzIwD8khLHMqxYW7qCxjiuEaURVzyxmpIefjRHgANyCMdZTEnEdCkDsQhX/KnTMSQMdZQLIrf/OY3A4ACekAi/YLoK5sriCgbuCY/l8vlqiY5BLpcA1wGgDYEDMABSsAM8ALYAUL4M2cO8EFYB9/znveErViAHmAN4LFVwAAacwI5Mh+PeXHAGWUQFwAD1AzK8Mfah0MMM+MPPDL8C0ACVuQDeBHGNXMSsVZyjaPeli+OOuGIhz9AisWRtjGnjyOwh6WP9MAi0El59AntBmQpg/KYo8h8RSyWWDyxJjLnEIilXsRHxMXRfpfL5apGOQS6+r34so46xBcv54BFNX0JU18cov4AD9YnLG5AjLUJZ201WVjUHwgCZBAgRJiFWx8ZLHFu1rMoGAI1DNuysph5eSySYH4dw6AstGAOH/VkYQdAxdw5wo888sgASwyfMqzLEQsb5WB9w1EeZeAAMQCQPQPJj8UWxx57bFhly8pg6gg4sk0NUIasTZSLbGUx0Eie1lbgjMUiWOsY9qVe1PO0004L8DZv3rww9AtAMs+R/K1uACvX1B3YBWQpjzrSBurENfBLn9JfHK1dpMdZXfaW7F7TB5a/uWi4642Lfozew2g/I/ubdLkGmhwCXf1efOHah7B98WG9wp8Pbs6rRVFgoC3MvWObkfvvv1/mzJkTgBBYAjyi8XC015z1g4EcAmLwN1l6OyLSAjkI8AGeSLNgwYKwkAPoOfvss+VrX/ta2EoFCyFwRR1/+ctfhvl4J5xwQpgreOmll4br22+/PQAgljYgz+b0UR8AhnPywQFkpGHRCSD3d3/3d/Kxj30swCftpnxAjDaRD2moL/kCylgqbYUy+TK8S5/Rj0DqAw88EGASgL388svlQx/6UIC5m2++Ocw75NysnvQFedAPDD+TBwDKkDigCnBecskl8n/+z/8JsPrSSy+FdNQNgATaic89sHu0N2X3DQCljtHngSN1oA12b117LvqQZ8H6ln6N/t1wbj+gXK6BJN8n0FU14lHlQ5oPZD6wGYrjC5gvfQOg/v44AxHUkboDE4DFn//857CIgS8evvDZGoXVtDY3zubLEcY8N9rLtVnJSIcV7/Of/3wANgujPyiDOL3pF/qUIWDKRsz3A8yoM4560M9Y4rC2kT/gCojhz72gXdTZhmYBdK5ZWMEiEtJQX+ICfmz7Qt0BPPywtrHnH0PEOPJgDh/psOBhMQQkWVRCfax9xCNf4gGKbOdCPGAT8LP6E5f6U5aBJedHHXVUgEOuqTNDw7TplFNOCfUDCul76nDvvfeGIWPuD+0EoM3SujdF2wBi6vv1r3+9e4gbf3sGuGfca/xdeyb6EtGX9C3PEX2LbBqC3VvCXa6BJIdAV78XX8o8pnxY24cw1/ZlyDlf/nxY2wd6fxX1jNYdCOTNGGyBgsWLMKCJLx8WKAAdQACwxNYkDGfyJQXY8MVvbWYjYyxWQCDAQzkGnEBCb768yJc8KZsj/W4WKGR5AkOsmiVP5spxZHsYqxd1AqC4Ji3tApjYZoUwwMbqDjSSr5VD20lHOXwRkzdtBtDIkz6hPcxBxFJHGPUEVqP1Y6sX5v4xzM2XO+ekoxz6i3LJjzJIQx05IvqMPIFGhqw52lA9dbfnkfKoM3XEosqRNu0t0UeUB9D+8Ic/DJZTe745UhZ9Rbk41xsTfck9tT5GPDN2r63PXa6BJN8s2tWvZV/IfMnZh7FZAPGzD2z8TcTrj4522BcJRwCEoUzm02Fpol3EAaRsniBHhhyBHgCPVap8WQFAZn2jHwCV2267rduSZWVaWdZPrycDKoZhDYgYngWc6F/gijLNEkuZxCMd4aTlSxMLHG2gfZSLH0dAjjoR38oiHn60gXwZKgZ8ENe0lbSc0xauSUO98CcfygECKcf6g3oRDxGPsqxNxKFN5EW+OPqe9MQhP9oJGDI0TFtJQxuxHpo1lnTEJczagP/eEuVRJ6yObBZNW60sCzPh527PHLJ7x/3n3P62CKevo3FcroEktwS6+rV4PA0ugCEghw9igwM+oPky5pwP6f4s2kEd+XLhyBcO89DY+Jh35dIWgIMve9ptbSQ+sAGoYA3EOsXwKtY3gAtYAYL+/u//PljmrL9Ia9BmX2SvJ4trYIOAJeoC+FAW5+RFGTiE5RAgpL7UBWsdcwQR7aQutAkoI38sXJRFW61M/BCwy5AwIEj9KYO8Kdu+hKkD9UL0idUZax/xqTtH/KgL9QJsqTf1o0z6i3xw5Msm1vjzjFEvyqMe7CVIflgoaQdDw+SBVQ5/6sF9xI+8qMveEvWmXIbnmZvI8DjlIOpIfWhjNTz7/V32d8a9BLqxdOPHM2PPiPexayDKIdBVFeIxZXECb3mwzYf5EuTLkKE4+3Lng7u/ivqapcm+UPiSAY4YbsS6xRc/YfYFZF9CQBLAQzjxsJgBgwwV865cYOcHP/hBsFTZlxZp+WIDTDjflYhDHQ0ucJRrFijqTl8DhOQJnAFbBkSEcT9IY1BEGuKSJ+mIzzXO0tJ+ygC8gHzqTlvJh3gMdTN/kLypE2Hca8oAyigDiAMCeTZIT9mkpUz6jPiUQRigRxh+5IWoC+H0AeWQhvyIB+hRf+pHPCyanFM/6k4/AA2I+u0t0ae0i6F06kqZ1Ik6U6b1IXWzdrh2X/Qj940+pr/PO++8sCk41zwP9jeJ68+fLy7Xnsgh0NXvxYcwjgUUP/nJT4K1iD3m+FI0CDSY6A3s9JVsPhlfOHyhUFeu+bKnfZxj+eFolgm+4JG1y/wNZpj7xhcWe/vxlgwWaVh/2ZCnxd+V+DKkHIML6mvWNcCH/IBNYIl60A7CgDH8gDEAlTyIxzXx+DLlY4a4HA2+yA+LHDBFWQYy5IvljmsgjiFxhr8R95h0pMFSR9t4BnC0kfwJo9+oh/Ur+Rvk2fxC8rd4+JGOtpAP+SHicW1wh5UI8OSatpHWPkKpC357S5RB+7EA0mZ7HqgP5XJOmyife+bac9GfPFvA/Gc+85nwHm2eD/x5hjjS7zwPLtdAkkOgq9+LRxR30003hUUUQAFblLBoAn8+pPny7u9fhAYSBmV8sTDciIWT7U0AKAMT2kR82gdYcI1oJ6tfWSnKYhHOgSHa/pWvfEWWLl0aoIf8SWuQw3lvBAhRB/IArinb+pgjUEJ+ONrBl6LVlTIpj3gAoJ0TF3FNekR8/K2unJOPtZ/01AXI4csZP8ojDm0lHv1FOCIf6kJ9CUPENVAjP67Jo2cdKN/aSbj1AeFY3MiXc+oBBAJk1IF0hBHf4Jd89paoDz8KsPi++93vDiBM/ZCVY20lrmvPxHPBZwqrvjl+5CMfCXtX2vPJDwh7Rji6XANJDoGuqhBfwlgCf/rTn4b5Zn/605/CGx3syxtI2JtfwG+GaAOyLxS+ZJjDd91114U9+vgywtkXu0GFWYMAPxzgBxwcdNBB4QgYMGT6hS98IcAkwGOwQL8ALL35MyeNxaOOnFtawnDUDz/qRd7UFVCyekehkPjRe4IfwER+xOHL1SxuJvImjpVveRm4kR/WSYbBsYKy4pgNoq2epCMN8TjHnzrRl+TDkXI5EoaoJ20x6KV8/GiXtZG4NhTONWXgECBqeVOHvSXqQHncZ557IJAyKSfaj7STuK49E32IdZcfmCy+Yt9KLIH487fEDy9Ef/M8uFwDSf6zxlUV4gOYD2SGD6MWM/sC35tfvm+WqLOBCW1BDGnzZQMMEc4XPCDCcCpz/U488cSweTNv8Xj/+98fFgi8/e1vD5slA4YADUBgX04ccZRDPuTd276xPsbiZcOr9C+OvBD1Q5a/wQ9x8KM8/AyU8Ita3gAprCuktTwR8Q3+yAtwoz7UBRhD5EffAV0slmAjaIbByYc2E0belENc6mX9TBqc1RmRxp4jE+Gkpf046kGdiAMMWPuJZ/lTvzfj+aMM2sTzbv1NOTjOo9euPRf9iOhn7jn9ac8GzyTh3GvvZ9dAlEOgqypkX8Z8IANInEc/mKvhA5o6UmdABRiiDQASXzi0j3mNWLmY78g8P8Dvb//2b+VLX/qSXHzxxWH4l/hAigET+XFNvxjwcG2gw3lvRV588QGW1Ik8rI85AiSUA6Qh8safuhtIEZdzjoSTny2iwILJvWM1Mf4Mq5KeNlEmkEYfEG5fvBxpJ3kAvbY3IEBGGbQZxzl5kJ4hW6yEZsEhPeH0O1/ytMPA1voKR70tLmHUgzTkTzhxCbdz8qDuHK2f9qaoJ/3EPDUAhWt7VkzRvnftmbindg+55/Sp3Uv6lmeBo/ezayDKIdDleouExci+aBjGBQR5GwZAwft5sfJ961vfkm9+85vy2c9+NsxLApz4EkIAAdDBsRoEvPAmjg9/+MNhOPOqq64K7eKtJHzx0i6+cI877riwvQ2Lfr761a/KhRdeGLa/4YuYvmI4FBjmVXZsa8qcLaDSAAgoAxKJ89///d/h7RpsnP2e97wnlEM8+t2gFFg0kHO5XK7BLIdAl+stEuAChAA3OICOuW1A0mWXXSannXZaeB0bAAT8YJ0wqyHAQhrACbCpBjGczXYbvHqNLW14e8esWbPkve99bzhi0WNI9xOf+ERoM/P7aB/hWEF5RRwWPfLACsrQMPlg7TvssMMC2OGw/J166qkhDVvEMD+SdMzrOuuss4IFDQsg/U1aZBYel8vlGsxyCHS53iLZcBJQgiUKmLMFHgAPIGRDmMANkAII4hAQCAwSxnl/FxtaT58+PQxlspDnt7/9rdx9991hBTPtZ1Uz8x0ZAmez7Ntvvz28Po+9ArGMsioWmDvppJOCRRSIvPPOO8M7iAFj+gGrHmUAgUC2vVkFGCR/rIEANf0FgBOH/sdVQx+6XC7XmymHQJfrLZJZngw+OAIzBiRY/QBFCwf+GMrEkTYKgNVgxeLtJrSHbXAee+wxmTNnToDBW2+9NbwmD6sc8x+x3C1atChAHhDISmngGKsow7yAIG22fNhShxXB9AH+DDsD0uQD8GFhxGrIBtxYEG3xDXMQsQhaOutnl8vlGqxyCHS53kJh/TOLFOe2+hVA4WjhZv0D+nAGgAiwIry/gyAWQDZ9Bm4ZisWaB3jZPnu0B4sgIEybsOqxAbZtFA382mIOrINshM017aav6EP2dQP2iIvflClTwpxDwA+rIFvmUA6LO9gQ2vImrfWxy+VyDVY5BLpcb6EAkqgFiiFgXlWF9QqQQYAOoARE4YAkRDgAgwwI+7NYycu8QDb1xvIHlDHvkcUh559/fmgjez4Cf0Aue7UBZ6yExqJHGGCHVRCAtH4ijFepkY4hX4APoCPON77xjbDIhL0XsTyyIAWwJAyrI2kBQeAbEHW5XK7BLIdAl+stEtYo4M2GIxEgxN6HhNmwL0csZ8wPxHGOpYwwYAkoBGT6O8QwdDt//vwwZ+/KK6+UH//4x2HRB3Bo9V+wYEEYFv74xz8u3//+9+Uf/uEfAqzNmzdPnn322WC9e+qppwLwffSjHw0bYgOQRx55ZABG+hHYu/HGG8MWMh/84AdDXhzPOeecAIjEAaxxWB4pF5ikT10ul2swyyHQ5XqLxFCvASAwiMOChXXPhoCBQsIBFBv25RpwwXGOnwFjfxbw9pe//CXM4QP8ALJ169bJ008/HVYCs9L3lltukYcffjhY/LDuAbz333+/3HHHHWEOIMO911xzTbhmWJh5hvTBzTffHOJh5SMf8rjhhhuCpY/5gfQNgAlsEt8sq5xTF47VYE11uVyuN1Pxf2PjLZerCoRV6fHHHw8wxNszsCDxZW9gBWT1ZwFvVkfqS70NAM3Sh0WQ62g8YIUjwp+4QCDnBjJAFO9WxqqItQsRbuX0hagLEAf4MaeP+XncQwDwpZdeCm0lDJDDMfzLKmGgEYBjrh9x2EuRc/Ji8Qerf++55x5ZvXq1rFmzphvwyB9QBPwWLlwYVhGTP88L/hzpW2CU/urLvumtuM9YOE8//fQwLG7PhR37e/2rRTyrjzzySLCys6p98uTJXSGv7GPvb9dAk7872FU1uvbaa+UHP/hB+ELnPcL7779/+FDGmVVtsMmsg0DWJz/5yTCvLmpNZPjYv7iqV1g22Srn3//938N+iPaMm4XY7+3eEX833/nOd4JVmekEbF1E/+IMuJH3t2ug6eWn2+VyuVwul8s1aOQQ6HK5XC6XyzUI5RDocrlcLpfLNQjlEOhyuVwul8s1COUQ6HK5XC6XyzUI5RDocrlcLpfLNQjlEOhyuVwul8s1COUQ6HK5XC6XyzUI5RDoclWxeDsIzja2ZYNoewOJHXnrBO/Z7c+OOlJfznl1nF1z5D2/+Jk/jnPbyNfayQbKlqZn/tXqaBP3l3ayUTFt9tfduVyuvSV/Y4irauRvDHm1WlpawltBeL3a5z73ufA6NM7xA4x4owjH6FsP+qOoL/cQgOM+5nK54Mc5MESYvfqN9jQ0NIRXwtXX14dwPsaAJSDQgKnaZc/zqFGj5IorrghH6yfA2LX35G8McQ1WOQS6qkYOga8W7zwFDPiiok+AJPqDP2sDQcAQ//4q6mtwY1Y9INDuqV3zPmCOBxxwgEydOjW8IxgYJA0AyHNBXsTpz+3trXhXMG2nD9773vcG2KVt3FvO6TM0UKC3L+UQ6Bqscgh0VY0cAl8trH78CQMLGzduDDBEP+BHPwEL1QAJ1BdndbVrqzfwc/XVV8vmzZvl5JNPljPOOCO87J/20V6gj75A9EX0i7taRRu4n7Rr0qRJoS8Mbmmj9RNH6yfXnskh0DVY5RDoqho5BL5atBvHnzHtN6sg1zY82t9Ffa0dnNsXrR1pU2trq3z3u98NX9IXXHCBnH/++QEMDfhor1nGBsoXNe2gTYAf95E24mdQwv2mz/AbKG3uKzkEugarqv/nsss1SBUFAGCBLywDYfywkkUtRv3VmXZ2bUesYcA/YIusTbSbfkC0tRrauzuO9jD/zwCX+2tQQrstnsvlcu2JHAJdrioVFiLgAOgBDrgGCMx6BCyYdQ1LUn911I/6syiEawMdc2btwx9nkEcbrQ9op0ERcXuWUY0OGeDSLusHk7XX5XK59lQOgS5XlQoAMsgDjgwYgKQoKOHfnx31xBnMGcRaGNdYAKNASPs4ty1jzJ/40byr2Vm/mKJto/3IgNnlcrn2RP7p4XJVqbAWGfgABWYlMzAwYEBc91dHnXF2zhFF2xWFPADRwnAW1yDS8qh2RzusXRwRMMxcSAtzuVyuNyKHQJerSgUYAQIGRYCDgQGQgL/BU38WdcZRZ4MbYM78EW0ABpHBnoVZfJzB00BQtM0G/LQdhwDCKCC6XC7X7soh0OWqUhk0mQyAog4IjMbpzzKY42h15jzq0Gu1B/+BBoHmgEDaZVZRC3e5XK43Iv8UcbmqWACBWYnMGQwxV64aZPVFWC+t7j1hxyyAgBDOYC8KR+Y3UBTtG8SKb16Zhz/Hgdhml8v11skh0OVyuVwul2sQyiHQ5XK5XC6XaxDKIdDlcrlcLpdrEMoh0OVyuVwul2sQyiHQ5XK5XC6XaxDKIdDlcrlcLpdrEMoh0OVyuVwul2sQyiHQ5XK5XC6XaxDKIdA1YGRvlGBTYV6pZef4swlxNpvtfsVa1OHHJsS2GTHC3452jjo6OkLe+BHfhJ+ViaLxyNPehGGy9FE/4vSsH37t7e3dZVk6y49zC7P8cJRNHTg3WXw7x5EP76K1a3OIuNTH8n09EU5eVq/dlaVFlpfl81r5RTdJtjS9qavL5XK5KnIIdA0YGTgAAoCNQQxAlMlkAkz1BD7iG+hEHWFRf84ReUTzRhwBLspA5NnW1hagk3yIzxFHXYhv5ZqzMi1vi895a2trN1Ba++za6sG5+ZGOsqkD4ZZfNJ2VyZF6WzqcnRNGfSx/ZOFRWXwrq2d4b0Qa0gJ2lh/imnPemmGu5xsy9kb5LpfLNRjlEOgaMDJA4DVquM7OznDcsWNHgDdes4XjFWOADY40+AEPnAMQpON6y5YtAaaApG3btoUyRo4cKXV1da+AoZaWlpAXZeFPGuI1NjYGf655vRf5bNy4UTZt2hTy5xVgAN7WrVtD/YhTX1/fXTcDoTFjxoT45IOIZ7BDmfZ6OHuFGGH4jxgxIuRrjvQGULQRSKSM5ubm0HZ7HRv5GhiSFyKcuMCu1c0cIl/iWB9a3/RWlEt/UG+rB3niOMff7h/nyMqwOPQDjjq4XC6Xa9fyT0vXgBGAAvBt2LBBHn30Ufmnf/on+fWvfx0gbdiwYbJ69Wr5m7/5G7nkkkvkAx/4gPzoRz+SFStWyNq1a7vhBaAARjgnDWAFYDQ0NASrGOBkw6zEJS1hQ4YMCQACNAF1HImPIx4CHkeNGhXgjHwBKEARCDMQRQYzy5Ytk//5n/+RT37yk/L888+HsOeee06++tWvBrdw4cIAd5QB4BG2cuXKcE4dbrrpJvnMZz4jTz75ZCiLPA2cqDPASd0APvqMvGgbjv4gPnFIC6ySL/UkDX7kZQ4/g0DOoxC7K2GdBEpxnNMPHO0cR17Uj/tLvKgo3/qbtlg/ulwul+v15RDoGjACQMxKtH79ernlllsCFAENXAND9913nyxfvjwADpAH5ABiwAOgYTABpAEXgA9+xCec/DkHDCmPtBaXcPybmppCHQi3F/6Thw3FEs9ghbTEIa5BDzILIjB3xx13BFg1ix7WxMWLF4d6Uhdg8Otf/7r8/Oc/D/GBMGBp1apVoa0AHPlSBuVRDuLcHFBoMEd9aIfBLukM8vAjL67NEQfZNaKNvRX5Wn9Gy7JzyzPqj0hj4eYsjcvlcrl2LYdA14ARgAYAAFDA0po1a7rhDmvgkiVLwlDs0KFD5fjjj5dZs2aFcwDI4IK4QCNH4Ik8sCAyHEy+lAE0GXRwzrAxljTy3r59e4BAwAgHMGE9JE/SEwcw5Ug45RhEIer74osvhjINuKg7UIcDWo8++mg56qijZPjw4SHPRYsWybXXXiuPP/64rFu3LsAjVscDDzxQTj31VNlnn3264Zg6U0fqS72pG30FUNEW60P8LYx+IA3X1JfwKGz1bAf+FtYbWdnRfsXPIA9Z3wPUxEP0jTlk+exO2S6XyzWY5RDoGjDiyx+IAlwAIaCAo1nUADqsZ0ADFjQsXqThGrhCnJMHQ6uzZ8+W+++/X+666y558MEHgzWOvAASoA6QI84DDzwgDz30kDzyyCPyxBNPhLKwtgFGQBlwtnTp0gB3nN9zzz3y1FNPhTBAj/yoF1BGubfeemuI88wzz4QyaQf5US/qPWXKFDn22GMDvL700kvBKki9iTdnzpzQToadDz30UDnmmGNk3Lhxoa3kgRWROLSLeludGdamvsAd9cBqSt4LFiwIbWR4nTTkTR8g+o74iLQ4hP+egFgUJqNgTNuoO2UBgrSTcPqMviMch/a0bJfL5RqMiv+bquvc5erXmj9/foAovvjf//73ByuefekDBcABliLCmU/38MMPB6sZ13/5y1+CtYxwIA3wATiOO+64AIAABf7kA9xdeumlcuWVV8pjjz0W8mFIFmvgEUccEebwMdTKnDvm5jHsDNQRF3gCziZOnBiGihl+/o//+I8Ac9///vdDPQAv2oG1D2sdcwQZtmX+4ne+850Ai7fffnsAQax/QBlWS6COdv3DP/xDKHP69OkBzm644YYAlFgYKQdIZKj7N7/5TYhLXQ444IBgzfvzn/8s3/ve90J7yB/gBHAPOeSQYFnEkgb0fe1rX5O5c+eGetx7770h3tVXXx3aQ7n77bdf6G9k4MZ9MCjkOmotfD2RHsjDWT6Wjjxw3B/6jf6gz6ZOnRrCzTJLOu4zeUXTu1y9Ec8Vzxc/7g4//HCZPHlyV0jlh4XJnyvXQJNbAl0DRkCAOaxVWAT5UJ82bVqAuk984hPB8nbkkUfKl7/8ZfngBz/YPbSIhQ0IwhL33e9+N1juWJDxi1/8Qv71X/9VDjrooABcNkTK+f/+7/8GixtwB1i9613vCjByzTXXBMhjyJUvF2APeGORxlVXXSWf+9znQjxAjvpQByxswCb5n3/++fKTn/xE/vEf/zHAD3AExAGVxOeLiPoCwRdddFFY5ALI8sX1t3/7t8H6B7Dixo4dG8AIAATqAEOGq2n/T3/601An8vuv//qvYCGkPK4BT0B5woQJ8oUvfEG+/e1vy3nnnRfqSbuoJ3ER8c2Zoue7kln4sFbi7J4g+gnZMHVUxDPQBEiJg8PP5XK5XLuWf1q6BoSABZv/ZwIG8AcM9t9/f5kxY0YIB2yw6AFNhCGAhvhYAefNmxf8zzrrrGAVYF7dF7/4Rfn85z8fQIwhVSCRxSYAF1Y6wJI8gTWGZ1msAQBiFQS6gCryYi4icaxugAxlAp9YAKkn1kuGe7FSck5cm6cI/CHaij/z/bD0UQZbyVDGvvvuG+IBhsznI97mzZu7Vw8TZ+bMmaHOtO2kk04K9WVuIW2jXlg7yYM6EI51kW1vAGzyBAKBU0T+PSFwd2T3DJAjL/JlHiTAiWUTgKbeBp70K/UkDIcVFMilbi6Xy+XqvRwCXQNCUQjhCFwZMAE1wAVghz9DwjhbBQuEEId0gAYAggUNWCMN8HPuueeGIWiGWYE2rGHkxRAt5bAQAyADMEkPIAJqlEMYYAOocU468jXoAfCAROCK9JRNPICTa+rFnDfqSRrgjnObB0g7LD/S2DV5AEykxyoIVJGOOmP1pG5YMhlapa7AFHWnL6xNgDLtR8SnDNpCPtQdUQ/KwOFvFsLdEWWSliNW3GeffTbMxbz55pvld7/7XThn3iLtYLucG2+8MQxtM7yOxZJ7Qr1I73K5XK7eySHQNWAEtAAigIABFtYhgMbghSN+gAvxcPgDTcQHRHDAFPGID9RgibIFGMQ3yyHpiUd64Iu0gCSgR1rgChAjPwMl4lInoI/8gEOgDH9bdIFIC/Qghn7Jk/hAIECGKJ8yqRNhBmZWR+sPaxcijsEo5QF+xEPRehPGudUb6yCiHPypA3kTjyNxCCOtpemNiEd6HKKezP9kuBwA/NWvfhVgkHmY1JVha7bD+f3vfy/XX399mIsJSFvbXS6Xy9U7+aema8AICABOOAJBAAOABlwAPUCMAYuJc6DFVukypDpp0qQwPMrqWKDmhRdeENZPve997wuLJrD4sZACyGKxic3rA1KYXI4YIiYeQIiVyoaAEUfKBeY4p17EZcNpFmKQhnqyUAWAJC7AZXv5kR/1AiSJSzzajVUPkMQBUljO8KduDDMzpEt85jIShj/Dqiz8IA3zHqkHfQWYUp71J44yyZcj/YvjOgp8xCPf3gIgoh/Jk7Sko3zqyr2gDOpiYEl5tqUN8ehD+g8LLdf0D87lcrlcu5ZDoGvACEAAGgwogBGsc1wDERyBBqxqABTQR3zgAQgiDUOjLPAAQq644gr57Gc/K9/4xjfC9ihAFsDB8KjNqWMLlU996lNh0cS//Mu/hFW+733ve0N6wI06AFPAHHWgjpQL+JAX59QL+Dr55JND/T796U+HhSzXXXddGCYGaoA34lk9zY8yqBfXDIuyiINhUq4pi/I5Yok87LDDwrA2Fk3mOF588cXyla98JQAvcxUZJqa/mF+HAC3qTF0NrKxfCTO/KPBxTpzdkd0z0nIkf1YAs7UNZQCBHK0tQCDnlEPb6Tsg0PIijsvlcrl2Ld8ixlU12tUWMQYfHAEXwAuwAuyAJeABcDrxxBOD1QswQgAhacgDCLL5cgwxYuUDEgG+j33sYwGkgBLSjh49OqQzyxvpyJt4WBPxZ8iXupCGRRgAJJY8LHHU67TTTgsAQ1wsgUAg9WReIKCJxZH6nX766WHBB/UhPYCEH0fKBtaoL31ii0PMQskCF+b2sRUNcwwpi7gAF/Vh4+kLL7wwLGyhrUAgVlTac8opp8j48eNDn9viC9pBfsCt9T1QyDl1wdl1b0Q9iE9fkj9HrhmCZ/4fbTAIJJz+pJ9IRx+yiIb6RNPjXK7eis8K3yLGNRjlEOiqGu0KAg0+gBxgBujBugVQAXeAHeeAFUON+JHWoAG4ID1QBlxhYQKagLEzzjgjQBdpKAcAArQAJIAPyx+AeMIJJ4ShYMoib+pBPpTL/nqkA144Al9mMcRh1SI/4pMXX0bUlWuOWA6pH+0mr4MPPjjkQ51IR5tYTUxc4A7HMDRb5NAmG3YGXmkX8agroAcAki/9AHSSlr0ASUs62kJZDCvjRzjxrO8Nujg3YCOsNyIe7eIYBUIW37D6ly9o8sPfLH1AIF/YrFwGAmkf5SLLy+XqrRwCXYNVNfrB6RNoXFUh5t/94Ac/CFYvhjwBEj6UcYAB8+jMqgcomiUMwMIPwMAhQBFYIB1gwbUN1wJVXCP8EH4IUCRvyiRPHH7kS1ocaQEmwgyKiIM/ftSTumH5Ix/C7csFKyCiTvjRHvIEeohn/uRl6TgShzpwjaNtxMHf4NYsabQJOLV0BljEs7zxZ1GKLWghneWBrBzLw+qCOLd4vZXlg6Mc2sIbU9iQmzmLVl/ra8CUPrz88svDELfBOeVaPVyu3or5vGzUzvSLj3/843L22WeH5w3H36zJny3XQJOPmbgGhPiwBq4ABECBX/SAAUcAxgADqDJQRIQBO8AVoEEa/ExcGwBaegAP2CAN14ASQIc1Cmd5E251Im+DPyAHKyV5UD/qS960gTDyZyiWvMgb4CGu1Yv6AHIM2ZIn5fDlBewyVAxIAnKIuuBv0IijLgZapMUPUQ/K4JovO8qmXPwphzTkh3utL0PCSLO7oi446kkelIV1E2sn59QLR7n0OTKrJtf0B3W0trhcLpdr13IIdA0IGbQAEUADYMA5wARUIADBYIJzoIMjkGXhAAxpAR+umQfHRsvAG9cAli3ysHzxAyQ5Eof0AIlBiQEZ8IVFz4DMAIz6Ui5H4pA35SPgkHmFDI3iTzzKJR9A0drJUDJ9wLAz17b9DHWg7gZJONIbTFEe5wbNONKRxuoXjcecSvqPOIRTP8vPHCLd7iqahjwZnsbaCwySL2WaqAND2QyBUwerh8vlcrl6L//UdA0YmTUNYAAIDKq4JowjfjjODTqAHAADEAJsLAwQA6iwzBnIGSRiXeNIHPzM2kZari0ufgZjiHAAxiAS6KIs/BBxSUMdTaQB+nCEsyUMfsQhD2sr4IYMFGkz/tZO8wdWiWvwBNgRz67JG+HHOX6Ua2VG/SxvS8M1zgBxd2T50qcc6RtAl7mX1qeI/Aln3iTwi0hrcaxOLpfL5Xp9OQS6BpQMQoACnIEZfgZLUeCxNIQBNcAY8YmDABFgDz+EP9cAB+nIAz/KsTyIy3nULyrSUA7posBmIIg/foi8KA+YpTwAycrlSLjVzUR86k0e5E89OOKibTFxbXW1/IhnfYezMPw5N2fh5vZUlp+BJdAMSGKlZWW21YU49A9gzsIV4NvuQRRKXS6Xy7VrOQS6BowMzAyOgCqgycAMmZ8NdRp4ABkGGuYPWHBOuMEh15YHR+IBIRbH4kXTIuAJWd5WV+IT1yCGI/kZ5OGoF9dYDzky/5D6I/IyBxhRjgEfeSHzo17kxbA5VkX8uLbVv5yThrzsHH/SA1vI/Djib2XgF3WEkU9vRBsR6egP0nIEBNlahxXX1BcRF8Blaxj6wdJSXwNkl8vlcvVODoGuASOgAzgCpgAK5vPZO3zxZy4ffsyvAzKACeCBI9ec44gLUNi+eIQbBBHOcKrNoSOeAREOsLJ4hAEyhJMP+eKoG/lZOQZ/pCUe4bSFc8pB5M0cOQCO4VvqYIBZ7aIP6Itoe4A/29aGdrMABMBj7iVWUTbkJoxz+pK+AwoNoF0ul8u1azkEugaEAATgCKBAQBTAxMIBIPC2224LbwB54IEHglUJ6DKYIi3AZ0CHMysU+RhEcr5mzZqQP9DB6lzyIi6OfHCrV6+WJUuWBD/AZt26dd35Em6QCiiSD/lybXFw+BEOaDJ/z1YRGyQCPAac1S6DXtoL7NJHtNfmLtL/LBBh7zbmAHJfGQqm/7mHUeiz/nS5XC7XruWflq4BIUACYMIyBEQBbYAEUMBKWd7/y2bTWAPN8mbQQVpgjmvOcaQDLgAK4iLyZKUwr3O74YYbQl5AmUGIAR4WKraAIW/SY6niSL7EIT7xSEs5nAN4hBMvaiHEzwA0Wmf8yGsgyKAXWZtop7UVGD/mmGMC/NFfbORN/wLC9A/9SH+xTQ59i5/L5XK5di2HQNeAEYAAOBi0ARaAFBDGWz1YYDBx4sRu8AMeNm7cKM8++2ywNmG5Mxgz0DIQBE645g0Wt9xyi9xxxx0hrZWDxQrLFMOVS5cuDeUi0uEYggZKyZs8iccqX8KIa1BHHbAcsnktwEl9aJPlRXq7Hiii/3D0C+1Fdi9xADr7BQKDWAJ50wnhQKHdS/qQ/qWPXC6Xy9U7+WvjXFWjXb02DgdIIOAByyBQxTkWQuIDEQwRA2Xk9+STT8o999wT0mFJAkJsSxjAjLwRkAEo/vGPfwx1YKgSaxTDlAAgIMkQMPliJSQ+5ZFm3rx58tJLL4X45M2Gzk8//XQASua6URb1pHzqNGfOnACSQCBtYu8/6kUdrT60zc6rXdE+pp2AXfR+cgT6eI+wvc+YviQM4CeMPLg2q6vLtTvy18a5BqscAl1Vo11BoA2vmlWJIx/uwBnWOwAOGOOdvVdffbV897vflb/+9a8BBB999FG5++67g4UOsAMmsDSRDzAInABpX/va1wLoYfWbPXt2gDGA7cc//rH86U9/khdffDGUwyvPDjrooDCH8F/+5V+CZe9tb3tbsGYxP/Ff//Vf5c4775STTz45vMd37dq1cv3114e4Dz74YMgbUFy+fHmIQxuBI9oEWJoFbCCJttEuBBTzhUy/48/9WLlyZQBihobpdyypNkROX2Ax5DmwZ8Ll6q0cAl2DVf6T2TXgBCSx0ANrHfPzAAiGbgEqPtyBtueeey7MKfviF78oDz/8cABCVpzyBYB1jjzMEgdcAG/4805RrFEA3t///d/LeeedF8ATWAEM+ZK4+eab5dvf/rYcffTRAUyZk0g4li7qAsgAfsALdQQuFyxYIPfff38A2+9///vyve99T44//vgAkz/96U9D3Q1ysSYOJPHFS38buOPoR0APEOcc6ykWUkCd+wWsc2+Jwxc4Q+iAI3lwz1wul8u1azkEugaMgAcAwIZ/uQaabEEBsIHliK1HGBJmZeldd90lv/nNbwIUkgZAIz6ACPhhmTJrIPDF3DTSjxw5Uo444ogwx5C8cYDdiSeeGOAN6x1xqAtDl0Ap+QAqDB8DhMANZRIH4Fy8eHGoF0ADGNIW4gKHQCQQCDSSjvqQ30AQ7af/TLTTLHzcIyw0QDXwh/uv//ov+e///u8A8/QPaQFCjvQNzuXaHelTE/7ZVcWZLLTHc+W/NVwDQA6BrgEjAwAcEBGFATsHorC2nX766WFYmH0Er7nmmjAEy9y9uXPnBqscwIcjH7MuARmAIXACHAKKWAkBNPIH9ti6hHScA3hWLmBjiz9sfiF+Bq7Ui+FN8sLaBfhh/aKuWLoom3IR8UnLsT+Ldlrf0XbaSL3xsyOij+1+WdsQQ+vMr/zf//3fMITOkDoWXayjv//97+Wqq64K/YRV0Kyj9CciHysn2k/4AY5Wtqv6xN3s6bq1s8BdOX0U4qWYxIoxqSnpc1iuLCwrlWPBBXXFE9Z74XhEo0cc4Zany1Ulcgh0DRgZPPAFD3SYODfLm4HYzJkz5cILL5Tzzz8/nAN3LO5gXh/WQQMYyxPoI53BG3kBZvgZZJAGiEOkJZy4DBMDhPiRD458ABb8OCct/li+qCP+pOG9uaxsZtgThx8irQFmfxVtivYj8EVbaR/Xdi8Ij8alv7gXv/vd74LV789//nOIS38C3fQBcyix4P76178O9wuroN0ry9PKxdk19weLsPWxqzplrPWavBWN0AuXUAAMIKhOFPz4k8aVyvo3RhweFXM9QdAA0BzxXa4qkUOga0CIL36GWvnCx2LG3DugAVBiqNCseljvGJp96KGHgqXtAx/4QFgc8k//9E9ywAEHBAgDVLBaAQwGKuQFNGCVA1bIiyNAgfWPMknHkTQ2DxBYA+4AOLMqUgb5sN8d9TG4YWiZOYnMT/zRj34kH/zgB8OQ8rnnnhsglTrhKJc8zerVXxWtH/eDldn0ifUT94q+pV/wA/64h4899ph89rOflR/84AehH/HD0VfEZeicPmN+J/fxH//xH+Xf//3fuwETZ3lTLn1GGI58mNNpcV0DSG8AvkrKerhiTVmKMZwynjo7FuKaPY+zOYyFPVw5ofH1GDhSvVyuahCPs8tV9QL2ovvGIQDN4NAcUMFQLZYmFl984QtfkC9/+cvyy1/+Mgw/kgdQZ3kBEQCcwRsrhwkDVL71rW/JH/7whzBMCdxQrkGfLVogLues9GVF8CWXXCL/+Z//GSAEaxawAujxLlysfiwq+fSnPy0f+chHwkpk3nACMOEARWAWAOrvAIgANuqKBZDtXegj6xcAjKOBNPFYSf3hD39YfvjDH3Yv/KBPuV/EZa4keTH3EoBmsQxWQQAZGDzttNPC/WA+JWUj7r89D/Qh94Zy6HdX9Ys7W7m7PbRTz4gsIU7/lArxkuTjRXUlPS8GI19eYTCn59j2swqHmXhZwxX0EgqJ6kpJjZsoaZySdMZK0i444pccAl1VI98ixlU12tUWMfbFb9cABnDBOdY/wk866aSwuAN/4IEj8EcYw65Y3c4666wAIICW5WX5sigEGMS6xDXWOyxcwAUQx9DygQceGNKSDngkDOgjT6xX06dPDxBDOKuLWXUM3JEeqAFWgU/yAWyYvwgIkadZ0siT8vuzqB9toc60i/thQIvoG9oE3LGFDyC+cOHCYBHEUkp6s+DaPSAtacgXEcbzYNY+5niylYzBNXGtPMonH4CS/q2GPnTtXFGGe01FI/V0EZX1uqV1uzzw6EPSlmmXQ486XA6YOFlxjn+M7+qzo8fKP/1cUVfQs7w6gM9cXkPw008NSajj6HL1d9Xoh6L/aHFVha699towRMiXPfPEsMrxJY4zoDDxWAMCFsbGzLzTF2gDwLAoMRyMPyuDAQZW5mIFxNIEIACIlEUegIPlC4xi2QJEyA+IA1woZ/z48cGPc6xdVg4LThDhwCCWLixZQCn1AVSwiPF6O/YyJD31YYgaAARakA11ck2a/g4xtJ8602ZAjT6lznZ/nnjiiWCVZTEM+zUC5vgDbIj4ACT5cH+5Ji3X9IHlQxhpgX2GjYFx4PnMM88M/Ug4eXIkP9L1975zvXnq+aW3cvUq+dZ3viWbtm6Rj33i43LmGWcr6FUgMCFx/b8+L+oqYFcO/zi+PBWQ84pvnSTVJfSfD7S5+r8cAl1Vo95CII80jmvACmsRwIQf1wZ4yEARZ1Y28mLeGOlZsUsYFkBLT144oAIYASqsbOIiwsxaRVzKI1/iE2bWKACR9JwDS+RDXOpBPM7Jx4ZGEXEIJw/a1l9F/WkTon12DQzSrwzLstUL4MswPeG0kSMgR18BdUA21ldEf+C4b3bPzY+09AtlcK+A+U9+8pMyY8aMYFWNWo5xpOXoGliKfqH17sutLKvWrJRvf/tbsnnLFvn4Jy7VHw9ndUNgXP9VsK+kCAgKvvzPALCChJXS6iQl+hMtwKPL1d/lP1VcA0p8qQMAAAICJIAOAA84iL7vFz+gjvjEAahsD0DCEaAFNBKH9MAI6bimLACOdIThEBCDH3P4iAfwGKwAc4SzmhVgYSgZQDJrFvnhDzgynxA/gJT8bEEJfuTdnwEQ0ffcB7PYcU07sZreeuutcvHFF3dv8ULfWF8yBEx8+gBwo79s6Jb7RT42BI+jL+gTLKukIR/6DHhmgQlvYcHKyP2hfPqRPF1Vqgpx7ZTwokF8AtjRXDTcHD8DYnoSL9VIQiMl9dHgvTVpvU7rOWMAXOsTqGin4cFxXlOJpw47Pev260OYf7G6qkf+rLoGjAAO4MEENAB1DBMCBziGBgEOYAIgABgMHPAD2MzqBCgAgYQZ9JEfoEI85rJxjj8CDoE00pM3MvhDFk55U6ZMCXkTDzghf+JxBGoIM+ikHpQBTJk/ftG29kfRDtpk0Azcsd/f17/+9bC1C4BHm+gj+h5rIFBHf9NPwCLAxzn3kPRYBbmHvAoQcEekA+4Jo594DkjL6/0Yauf4la98Rb761a8GUCQv4vX3/nP1QpFbyKld2vnrORPWPbaHwbFVTIr9Agt6XlAIzJufngOF+pWpT2y3q1PXIHHRn2vBNahLa34+H9BVLXIIdA0YGYzx5Q4kYVEDMAA1wIlrG5bED6AiLluOkBb4ADSANMAFmLA87YgfaQEcrHpcA4TAHPnhyAcrFGBD+Vj0KBMRbmBkeZkf14g01BdRDqtduQaQLG01yPoekHvqqaeENWi/+c1vwnuRWcBBO2gT94A+p62AHQDHfcKaB7DRZvIwSyj9irWWfqPfKYd7QTy7t+Rn98wAkxXEV1xxRdhommFmVxUrSnJRolNZEC5q/UN2NIUnRD1ryjGJqauAoPriFAJfdvpVGfaMiWumbChN/LjEOA/7yKg/S4dz6kjbsyCXq5/KIdA1YAQMIL78AYEowJkzf4ABUCCNOaAC+ABMEH6WLnpNHoAecMc1/viRjjxwVg5H8rRz4uAsL47RuuCHOOJPORyjcS1vi/tmCcACZgFQs5pxBFbtGgFeZp0kLHrOYhwWfVx99dVy3XXXhUU1wBxh5E17rP9w5Et6zukT6zODZsJIR5+Slvj0A3GidbP0nNs18y8ZfmYT6t/+9rfhzSNAJe0kHeIcZ6Jc2mL59JT5vVa4601Wjy7n0hxz9Sqz+l7+V5nFxwKPypcfLq/3vqNUkFRzkzKe/gDjz6qs/yNqXv/Hxn88Ejk9t2s2BQQOs1oSLq9+xWTFlTSM9C5XFYi/AZdrwAggMAAAxgyWOMfShAw8EPFYfUsak0EFfgZmlq8BnMXj3IY1zQ8BbzjyRwY6hOMHQBrcWbjFtTg40lA/C+OasqwOe1NADMBjAGfQZRBkcczfwMyugTODRix3ixYtChtx/+pXvwpvYgG4rB+sL8iPc8uD/qV9lgdlEM/ajeOaMNJwzpF4Jqu/lYUIt7rzekD2IgQEH3300bBABX/qTjwg0NpLPeza/DhaP5mifeTqG0V7n3MWapT0npTKPKP6THCPikCcPhsaoVwoSiGXl4ze84zGrR02RFmuRlmPQM2gpM9nXu8xu0grBBbzet+BQV4rV45pfjH10+ss4eqXV/jL6t9lMOI7BLqqQw6BLpcrCBACeAAhoMZg1WAayDH4xJrHsC3xgVkbAsePuGy9w+bY3/jGN4L1j9W+NhcPRWEvClNvpbBO/vM//3PYoJt2YCmkPrTH6sQPB9pMOKIPiMMQM+21fnEA7B+qwF9FMf2XqElIvEZ/zCmUJWP6Iy7etXWL3t9Ma7u0bm3R+5mTdGOtdOT1npZykivyg0Lvf1J/qKT48aU5KhzGavWHYUMqGPtgvmKt/pjRdNKkLtX1I7JT03ZWdgVwuapBDoEul6tbABDQxxGwAQgBPuY9AnhcA0VAHRZK4tmWL1jdOP/+978fVuXOmTPnFSCJ9Y6VwLb62eZfGli+1WIhCdbJn/70p3LRRRcFi2DUKkk9mUvINfUEDFlkQhtpNxALHOIXBWRX/xBDv8Wi/sgo5EVxLoBgOa8/cto7pXN7m9Sna2XY0OH6bCZl644tsm7LOoml9G9A4U5JUcIOL3XqUcqH62KyRrYrMG5ob5M1+lys0x8CW4u8MUTjwYrMIgEIG+rcEOiqGvmnlsvlCjILoMEMli6zCAJsWMWAJKxfNswKIBIONDH3j4UXDP2y4TVgRDysZoAT+QKE5MU55QFafWUJNKsncMrcxW9+85sBCNk8HMijncCrASFtYQEK/UDb8CO99Yur/wgGq9F/cX3O4jWKfyWFdJyepxIpqUsrqDHnT4GwnM9KvYJfMlFSfktKpn2btGxcK+XWbUp++ox2tkoB62BCc03pc9GgoNdYK6W6tGSTMWkti8KhSB4TJPCIc7mqRA6BLpcryOAPKAN8sIDhZ0O3HAkzCyFwx/WCBQsC+F1zzTVyzz33hNXMBoqEA5MAly2mAbBsSJW8+kqUjaOOwCzvg77xxhvDpuS8xs6Gtq2+gCxtsH6gXaQHArnGufpWFfirqEbKvA1BkvoMK7op9ev9yRYU/vSZS6b0AdDnPVeU+mxORur9bdq+TUorV8iKRx6RF+69V3Y8v0iko11qsxlJZDslkctIWvQ51rzrahKS0q9P0J9s2Fi6eyqgVcDlqgL5u4NdVaNdvTvYIMa1ZzJrFsBDH2PhA4DoW65tmJR+BoCAPTa9vuGGG+T6668PC0HIA0jinkTvB/ngT14ApAEUlra+um/WNmAUayBzFgE/XgnI+6S5ps5muSQOMEwa+gFZH9Em4rhFsA/UBV7RnxN4sRCklC9IKpFUD33GMjkpqaspasy4+mEJ1Ocwu2WdrFj4jMy5+y5pW75S8us3SnbDRpHtrbI/Q7sFhoMTIum41MT1byFWYsZgWDAcrI24BBZHvaYSWhTFuVzVIIdAV9XIIfDNFf0IzAA4gA2ARl9jAQOUABwsYYTjnn76abn88svl4YcfDukZKiX+2rVrQzwbOrX5dFjbcKTFjziUAVxy/95q8bwYnHJOnQxOaS+vJgT82K+QTafZKJxwhoGpN23rCYD+DL7F6rK6lbuOyE5LRf3hos8jw7/B+pcvKgBCfhoD892ONsls3CxP3PFX+cOPfyhFfW4PGT5KhivdbVn8oix8+FFZvmCR1Og9HzdihMiIYRJT0ovXlCRXzkmuRu+74mBSiS9sHq1ZKiNWyvfHwFUl8ncHu6pGu3p3sFth3riAHkDOVvICQ/QtsIMD4ObOnRusf3feeWeIDxgBUAbiDPmyGTP3CT+DdARwYU0jL8DQ4LIv4Il2GvTZq/moF4tFWMAyadKkUEcA8MILL5RLL700wB8rn2kHUEhbDAr9+XuLxKNk31oRCIx6I4aDpaDQVyhKOcvek1gEE8EimF23Xh6+7wF56pFHpHXxHKnftlpk+zYZWd8s8VxZOlo7JZ8pSMOoUdKw73hJjRsjk085TmZd/E6RsSOlXF8r7eRFOQqUdTX6Q4KtZLJaHo9ySsO66uZy9Wc5BLqqRg6Bb77oW8CHIVBkCzr4mGD1LHP/eOPHsmXLwnAwEEX/A0WAoN0LYJE09vFCHgAWIhwA40h87hvHt1rUyepCPa2OVheuaR9+++yzj8yaNUtOP/10OfzwwwM0Wlzi0WcGka6d6ZVfMy9fBVTrVvQpeNUTYRE54iwCR3XY+KJ5lfW+FnN5SapnDEpU+Nu+Zr0sefY5mfP4E7L0+cXSummzjNy2Vsa0bZJ0a5s0p2qltpyQchFLovKjPtf55gbZkYxLYdxIGXP0YXLwqSfJxKOPlLp9xkk8kZZiqSxxlhWX9POHMeKYlpXUPHo806+4ilbU1B2BHQ5fjlLxZuC5op0lfS29sgYu16vlw8GuqpEPB++ZGK6M9g/nQAtH67+ouCbc4vNaPYZ+Ae+bbropzJkDFoE+7gXxcAbhgBPXABF+Fmbh5I1DUeh6q2X1onygFdmPCaAWKydh9B9b4KxcubL7dXdskWPPH23hGHWIeIh+tvNo+KARRBVm0ekzV8PGLcypU/hWnMmHo/5o0HP4CT+ui9pnCHirge4Kes3bOnKaD3P6CM9yz+jLynPKiC/GuHCurpjTHJl6EFfY37JZXprztMy56w6Ze9ftsmbubKnZuE6a2ltkeGebDNHnub5QVACsUSeS1vS1mldC6x5ni5hMh3Rs2yKbV62QlrWrJbutRWL5nDTq85tIa+xQBa2b/gYoJ3nrSI10FrRVsXh3dcN91yhh3iBVZzkxcBrolXM90cYW1eW1F3LqsqFHaKX+ENP/EzW0rctV+qySnfmF7Loc6uoSl2uncgh0VY0cAvdMBoGIvkPAjvkh60McYUARfszve+CBB8LwL2//YJgUcKOvDZis37nG2bXlZw5YIpx8DQo57ytZW1EUWPGnnzjHUUeAFy1ZskSeffbZcM4+ifb+aGR9aH1MvxvwWn7EMTc4xDOmaAJI6bGsgMM/oK/iSgo7CsnqDAY1lp6xslefE6W6MMwKBPLaNiAwdLf6AdbM7dN4uG4A0ssAXrm85NrbpH39WnnukYflsVtvlgUP3CvtSxfLGC1prJba1LpV6tvbZYiW0aCglVaSTOr9SuC0zqlSUVLFrNSVWBWsfplO2bxiuaxfvkzatm5Rvs1LbV1KEqlE2Ecwn4ppriKdCnQZzaMmntCqa3u0QmxVQyVjVJRIPCZUNlSaftKTGn1WNAIAmFHXqfXUp0VrBl0qBNI2jYmLAiBHsglZdTmk0cPbUZwEXa8lh0BX1cghcM8EwAAiWLZwzF8zCxwAQ38CQIAfc/S4xhKGBfAnP/mJXHnllcESyFw/FkNYfw8WsYCF/sLCST8yDL5w4cLueYOjRo0KbxuhDxErjHkWScdwOv2K5RDRb/bMDh4pmgQrF+f67HS3vXIEcvgH/mEjrJNaSfKWjwBNmk7BLJbQvk3iFIYUtMJefGn9n8JZvqCwrbDGnoAAVixfkHRef4xs2y5rn1sgN111tdz2y1/LpvnPyahCUaY0NsuQbE4SGt6cKwT4SwBpmmVM7084am3iWhuOwal/mR8w5aIMGzZUClrGiuXL5flFz8uGDRtl2NAhMlw/j5L6nBQ6c5Jtz8owLSdJyzBRav6VLtDc9DwW9hzs6gcOmAdxMK1SG39dFVeWlOaSVpcwM2fXwWSXHPkEfNVRTyyOy9VTPifQVTXyOYF7JqAu2k84/uzpLxznxAEAgR3ghv3+fvaznwUQtLl+wA1AM9gWQWDRo19YBLJu3bpgAQSS6Udgb/LkyfIf//EfMmXKlNBP9CfPKGE2p5AfLPhbGuINDunXC5PrysHsVSESRRJ4Jjg9r8BOjRTCO37ZiSUdoCWvz2Q+kwvv++V1b/RZUf0koRCV5lV+ealL1yqsxaSUyUtZgS5V2yCypUUWPv6ELHlytqx/4QXZ8PxiyW9YL0O1/0fEY1Kv9yTbukVhsyyj0o2aX1zaMh0BmOL8Xah/QusSV4dfWSuDyyq4dcZqZFOuJJ31CSkOaZbOhgZpTaakPKRJDjvxRDnurLNkwswjRRqaJduRkU6tb21Tk8RSaWlX8GzkPPSAAhoNx6QXvoHpGyhR/zbZgkZdGBZX/xQYWGBfQ43WVZdK373yHOnpKxxlmXO5dia3BLqqRm4J3HMBH/QbR6CEvgLkDEbs+OCDD8pVV10lt99+e7AaAjPAIRYw2y/P4g4W8WwBwsAvW9wg6wMgj3mCwCGrigFFVg0DifQvR9KTzqB7cD2n2k/a/groaLuhlrI+Q3pkvl9cXUKvcXElGVxZnzWet/A3rYAW1z7kHb7lVFzy+tsjkyiqU3zU57imRtNplkmIqrVdVs95Rp786y2y+P6HZO3sZ6Tt+SUyvDMn42sSMlqBq5kVv3o9RMsboriXUsAs5ItS4HayoEMrWoEmsBSrLfWuABUFxWJahwKD1SVJKpgmia3pc9vbJLN1u7SsWivbVq+XuJYxfNw+Uqvwh9GyVNK/PY3K/MFOPeftwiWtO6PZZEE5laL086yrb3jHcYp+KWoORY0UqE9jqKO5bEfTfdQgfpbRF11ZduVXEdcu187kEOiqGjkE7pmwZAF/1lf0E/3FOf7AHla+e++9V/7yl78EEARqgB4sfzY/EKDhfLDJ+ovnDhCmX7iO9imbZrN4hOFfwBCroAFfNK71+6B6VhVoDP4qqKJHzrtdJTym/wCaQnjmChLT/ktghWZhh/YZrqyUU6Pko1cKYKVgzctva5HNz78gSx55TBbf94CsfXK2tDy7QGT1WhnWkZHhuXwY/m1Ql9a8a/Ve1NUoAGpdAKWwGCWs1gCcyFtrqNd2bi7E0PvHQhNS1rDvoLpapbuhibTE2zKyddkq2bRiteR3dEhayxsShrETEtdjMqHPgvJcoaakIJiXQrmobVS4DQVofl3/Qp9AjN2OYW8K71KlquFodQMGNWbgWJz5I4aUFbu7rlyuV8oh0FU1cgjcM9nQJBCHADn6C2GhWrx4cbcF8JlnngnAQvzW1tZgkSEdljDgxraMGWx9zTOHY/4fbaePgGv6kj0VAWn2RmQF8apVq4I1EGCk34iP9ZXn1PoWQBw0gnICAKoL512OcczuayISR/+ei1jaKlbAsgJXXqEpUypIroaxUwCMyHkpdXZIdvMWWfbMXHn61ttlzi23SZvCYFPLDokrADbrszpBY9dn2qS20CENCl515ZLCXyU9paXieqX3Jqv5M1dRaxIBwIpVED8cc/r09kmt3jteGRdTAIzlCpp3WZq1nNqs5rm9XQptHdLRsl1eeG6BFPRvr04zqW+olZrmegU//dtLxqVT28JQbyxGbTR3/lOHZbS7bwBALICVP9WK7JxjTxeRptb/0YuVfwyZu1w7k88JdFWNfE7gnos/c4AF6KO/WLRQUKhhgcPvf/97+d///d/Qh8CKiXhAjPUr6XFRv8EgYI82A3X02erVq2X06NFhsQfwF7W00s9cM5fyRz/6kZx77rlhBTHPLGkAQOINKmHF6hrKDA5Fz607OGKR0z5kuBUOypYL0pnPSobnrjYtteoSmQ7Jt2wV2bFD5tz3oDx1192y6blF0qDwNS6WlMb2TqnX85SmaQgLTeLqkmGxSa5clA7pVFdU34TUJZukqI9ya7YzlF0BP+YCqtN6xPHTKlE1vinBUBb2sqYjVVcvRYXbbZ3tslnT1ar/qOZxkm9slFWtbbKhkJP4qGEydtpBcvjbz5QjLrpQCum45BvqpMgCK0lrftg/WfvLkLhIggJ69lfoF3W7EnFgPRyVjtGLldXWyTAo7XK9Wg6BrqqRQ+CeySxW9BNDmQiLH0O/d9xxhyxfvjyACpBj1j760t6GwZxA0rI6GKuXrXgdLKIvgD9b5EFfAIUISylgRxhxCGcFNR+rXLOx9CWXXCLvfve7w5A7/Uy/DqpnNQo1O1MX4BQU9ljsAehpp1aoi4SEc679XtZnubxug6ya/Yzcqp8Hq59fLEPjMRnOhs3btkl+wwYZrvFGJirz/eLFnNTW8KaQGsmXmPunEK5/A7HaOmnVZ3tLpjVk36RAFthJy6sJMKhHrXDFKlipQhhq1Uh6Wytb0Kgfw8KJhKatSYS5gkBri6Zt1dziTcMlMXqE7EjWSHtznTRNnSQzzzhNDj31JEmPGSWleEpiKQa0NZdyXJlN60ZzyRiHONIVVEAVwlDPOChUkqN6MD7MUR3D3cxedLl2Jh8OdlWNfDh4zwTI0UeIrUzY7+8Pf/hD6MuNGzeGfgOisRLSj1gJuQb2gBqgBegB/PAHfAaTzHpnfUj/0Kc8hwZ0hHE0uOMIPDNEzPAwoI0lkJXFpLG8BoWURQLPaZPDdDc92kgnL9moTH0rq79G0usE8+g0UbGzQySrz27YBbos25ctlwWPPC4Lbr5TXrr9fmld8IKktmyTxtYOaWhtk8aODhleLskwzauukJOEQl/F/gWcFSWreWb0vLOmIBmNk2WuYSIpKa0EbxVJaDifINwZQDCoywMICzu96KOvyUK+OGqa0ICURkpqI5OaR51eDWXVsT4fbTu26TEnhWJeNm/ZLJs3bpDNCqoFhdkhdQ1S29AUhoArzMbMPS2IsnChXzR5lwv9hSNKJdorFTLRY6h7yLD7XJ9OYrhcr5JDoKtqNFggkLaYA7oQR65NBhH40x8AmsEIlj/8ADhLx9529N/dd98tt9xyi8ybNy8sZCC+zRUEAulDrIUGhjYf0K7JizSc2wpOyjH4wR9xzTn1MD8siXZteVibyAuHFQ0Rz8rCnzKoA+eEEY9zwu2+E79n/UjHNf6kww8IM0sm/sSlzcSz8gi3eMShDNrEtVkBzQ+ZtdSuyYN45L1Bv/SZd0lars2iikhjsvqjnv6kI731i5Wzs/j9TlpF5tOxz3PY1FjpCaDJa5WzNcUw16+osBJuY0zvb7ZDErmsxLStNdmc/nLZIhvnPivz7rlfnr/vIdn8xDOSf2GZpFt2yDDNO53plERHu6SLOWlKa78UWHtLXhVgylGOXlJeXv1yWhbDwkXtMxaf8JYQrIZAHVWgJ7ECAlD0rgZXoEwvsACGSOrYxpDLkt6DQpkNXSrPeULBMhFPSFH/DnPFjCQoJ1YT5ge2t7RIy7oNsn39RunctFUS7Z0ypHGI/sHwTGkh3GvyZDsazTyjZVDnUHd1rGK2EWOGebn/MYU/6mL16mpAt+NQwVWX69VyCHRVjQYjBOJMdm7tBQwMDqJDlZxHIYSVvk8++WSAv1tvvTW895c0iHCLS/9ZHwIZBjuE4wiL9jeOcwM0hB/n+Fkc0lIOc+gAVPwItzztnDhY2SwNYdQDf2sbwp+6WRuQlYusfqSzc+JzJA1wF42P8KNuxLc+ob7Wl4gwi2P9xbPIkXiIeuLsmnjkxxxBXrfHkDDpgU5zVldzXBMHZ6IcHOH40y8cuUbRuP1N2hytJxDYtfddgsUeCjiKMRnJ6z82idZ4eiyWs2HBR1r7vKajU0pr1snKp+bIEzfdKs8/8Ii0K/w1bdouo1tzUpdtl5GxpNTmc5LUnGo1l4Z0QjqzCo96a1mJm9NjQfmHrWU42m4rON7kUdQ6pQr63Cnp8bR32eJCbXjFnXq/7HhcyIP2EKPLnwT8ZRI/gKPSYon5gOqXjjHzUL21PVgME2xH09omm1eulnVLl0vbhs3SFEtIs8arSaXDhth5BdROzadD4Tirz5b2RHgrCE8h/Ud/FRU6taRKmWFrm8rwdQ3PNJcoHPV/4UhtXK5XyyHQVTUaLBBIe2iLHXF86Vv7aCtgQj9YGOcGKFjvABEAgRW+v/71r+Xmm28OrzvDKoW/QYzlAxyxohUoIR8WPOAXDbdrK4O4lE18whD54hBAZ3sLMrRMWupu8EO+xAHAzBpJudQdP+KQF0eslMSnjgypMsSKP3kaqGEdND/qxTntJ5xnhXDqSV7kQTnEo2zagLWUtlEnc8jaZ8BFPcgTP+KTL8Bo94c8sQwSThm0gTpRLv0wd+7cMDw8ZsyYsNqY/HAGeD2fZfysnjjOTaRD0fj9TewVTdcl0kojAGAxJ5mC4l85p/VmCBX40mej0C412m9Da9Nh65VNTz8jj/75JnlM3fpnF0h6B+/4LUhjZ1Zqs53SoHQzpLFOuUufvVJBkqmYNDTXS1bzzmh5vJo3DDdrsThADR6ip2Ianizrc6wBddqFPH2VVceII4ilIl2Xq9G84skaUWYUXkvMkXxrlPIS6aSG6Y8hdQEjuZchKwUzzQlWS+g5IJhUiuT1dMBntmW7PHLPfZLV536MPkPpYc2atiAtO7ZJbWOtdhfrkBFb4pAz1nV93vW+J5n3GK/8HWfVj+ctlar87VUKD/+rHIOp0OV6tXxhiKtqNFgWhtAW/ixxtI0PeY4m/A1I7M/X+gH4ADzoowULFsjPf/7zYIFi6NdgiXAc8UlP/vQd18QhLQJuDM5IR5mkowzACJEOyCHMYIn8ADDy4kgewBiiDPJAABHwRN4GMVjKGColXwMv4gBoBkDkS1ruP7DIvDvecgLokQYwwp98yJsw0pAX6SnLgBBRH/qBzZ7xRwAbomzKtf7lnHbiyBs/8qU8azvnBp/2qj3CaBuiv/DbZ5995JxzzpGLLrpIDjjggFAP6m75WHvJ30Q9KZd4JuIZePdHdSq0ZbN5hZp6BaaAe1LQ/yv6aijz9li4UFQ40mdv8xZZv2CRvPTYbFk951nZ8eIKiW1qkTqFv1RG42Ry0qBE1qz9Al2m65LSme2QbLFDYupV31yr15kKuOmfBl1XmW9Xgb+wsbL6heuy/sBSx9NYeSI1jTp6G9uk/hWGYWqbhxdAEp7SctikulQuKYxpXHWUxRvt2EMwXdS/pwLwp8CI0zR5vZ8FdRzzbDitblsuL9vyOTlg5mGyPRmX7Zp2/2OPkvd85m8kuf94yWg5Gb232Pxa2zqkuXGo1lP/TkM9sRprLfVZSCf1R5+2jvZ1IWhwQVQMUWmXaydyS6CrajRYLIG0j/ZY2xDXKOqHouEGdkAfK39/+9vfysMPP9wNNPQPDogANAyC8AM2DGzIB6iwuMAMYdTLQIpwi4fDL3qNIz7+BoIWL+osHmmJR/0NuiiLI9ZEoMnqj4UOOANGLS3+DLnizzX9QZ2xLJKfrX5G9AcWRcpHHMmfulAH0lu/AnSckxflIfoNP2sP0Ex51AV/S2OQSByrO/kj2kaeL730kqxZsybEGz58eIBGu5ekw59r8rI8zBEejddfVRNj7p0+S+WCtHe2att5DV9Z0gpSKcWteDEj8XynbF36ksx/4EF56tbbZMG990vHshXS0N4hw3kXcGu71CncjVCYaUrr/Ynpc1noCFbFYo1ipd7KohJeRoksW9RnWn+7YPwq6DnAB/zhkkp4KZyes6ULL6jriUeVvzSkfR+6FVue5q//w/oXhl+1z8Pm1UCiXgKKDNdmNRKvudO/ngBl2BNJzXYzZglMqUtrnIZEUoal66RVf6Dl9dnKdnbI9tZtsmrNStmyaYPU1qUklaaP9G8gVSu1MRAPs6o+f+SlIBmeLf0HsgKtnEfrX3ku1PXj58PVt3IIdFWNBgsEItpkX/YIaKCNiKM588dhaXrsscfC3D/e/QsMAjyERYGBNEAFsv7jmn6lPOCGI/Bnq2CtPoj0Fo+8scoBNOQNAHEkLXFIZ/GJS15cEwc4Mwsd8fDDURfimh/lsLJ20qRJoQ1Y9saNGyf77bdfd/0oF0gD9kiLA6gOPPDA8JwQxyxs0TKsLyiDONYOrIiUZaBMPM4tDflY+0hHmmh9LQ3xrW+RhVlc7tmKFSvCMD3ACowyVE084lh5nFuZUWfl9meVy/SD/rjQxyeukFbOdkpS+5mNm4Gi/LKVsuzxJ2XhXffJC/c/JFvmL5DSmvXS3JmVoQpLTdrvqVxW0iW9z5pHOc5q35zky3kFMH22U/rjI6X9pVBUVOoL0KdkFi9qHxUAL4Zi1ekjzxHow/E044An/hrgOxx/ZZW/NPCpAlHhn3pyxSKXYl6hS4EvpqSZTqekTp8/MsurP4lfHsTVS0uoAZXtZ4DCkqT1+WrSdNl2/RvVNirvKd/lZOOa1bJ++XLJbm2RRC4vI9P10tA0QhKZXLCEphhO1ramgNHwHGNbJW9mNFIuJUTq3c+fD1ffyiHQVTUaTHMCcbTH2mbQYrJz/IEHtnp54IEH5De/+U04YhUDjLA80V/kAzDgkAEEjrwMUswP8ADQyB8YIi/AJBqXPIEmIBA/0lkc/Cjb8rE8iceR8oFA4pEPwp80ZlkjDWUTftBBB8mpp54aQGzRokUya9YsOf/888MwNwtfqN/06dMDBNIf5E+aCy64IJTDHDy2xyEekMX7fq1vqQP1pm6AJGltKNnqTj1MnONHWuJYOI60tANH/jjiUG+OXBOGiIsDBHnTCBZB2k7Z1NnajqMMjpRJeo4oWk5/VbFI2xVetIqpZEJSWYWZ9k6padku2ZeWySIFv9k33SpLHnhYMi8uk6EdWRmtXTQkX5B67f867bumeE1Y+FFSiGzX/FhVHK/TZ1n/qyyGqABQrKTPFWbAnPaPAmCqrPeFId8w7Kv9qPUxALQeAwANAiu9CkRVjpV/mneZPtb8w7lmrTGUX0OCZDIlqVrmj+oPAq2bVk2S1IlgjYwL8IdT+GPuof41KJyWwrYywxoaJKfPYEKfP34ilPUZ6GBYfOlSySsI1hZqpFH/5JI57rWWH1YSqxQQa0p8LujzoI0J/RBypmXWhor679Ph6ms5BLqqRoMFAgEG2kR77MseAQIGAyYghdW+LPxgviSbQNM/DJkCCGZRIi+OBhBcG8xYGLKjxQHKyIt8EHXDjzDKIT7DrFjdyItw/A1iDFKwcHGNP9fkTz6kidaRsgw88edI2mOOOUZOOumkYAXEcvbe975XjjvuuLBABCgk33/8x38M8+ywqpHHjBkzwpy7tWvXhmFXYIvyeG6ALfKlXMCPNjCUTB2oG3ALSDNEix+iPvjTVurFOcAJWJKGvDmSH/1AfOplfUdfUC/rE/IFQIlDnpzPmTMnbN9DfRiytrKsDvQteZOH3UvLq3+KfgFCipLZsT0MbQJRNdtbZc2cefLnn18tj914k3QuXRH2+xuRLcpIBbbGnD5DHRlJ5YtSFy9LU532IcPJCkMMyseUyZub9FlRUMx1aJ+wUkP7pa6ckiHpJqlRCKRH0opV+lej/yo4V6lJxfJXmasH0CkE6nkY3tXzil6Or38dwVVUlvpUvdQmUgqc5bCSN6swlu/MSVnvR6xGn2fNB2jU/yLzCYFBTa6u66DxtSaFnAzTHy5sH1MuZKWUySoMFmWf4SOkvKNdWlatlhfmLZSFcxfI2GEjZciwEfpBoI3v6JQyP3Yam8L7lfP6XOS0/QkFUrMC0hbOUH99Olx9L4dAV9VosEAgcGFf7hz5sjdY4xqQYBED0HDTTTfJT3/607D/H0Bo0EEfMRQM7Bh4EQ6gcCTcHPkh0lkZxAc+CAd0yIcwoIihWPre4IY4hHPED0sbMIZVjrLJH4sddR4/fnwY2gX2gCfyspW6tAeAoxzbWNlgaPLkySFPrHkvvPBCOP7pT38KADx27Fg5/vjj5W1ve1uAQiARSx8OC+AjjzwS6kEZWNuAQYCSdNQXf/qEfucaGKR+xJs2bVoo34ARi51BGfFxI0eODEdEW+2cMu2+kcb6i3Pyol+JQ3mEkZY+5L4Bgtwrg0D6IXpviI+z/PuzCrmMFBVwGDItbN4qs2+/U+74zbXy2J//KvmVa2WMEtjwzoIM6czLsGxBATAvTcWSNMe0nTXaJ3mRtgzPqUhdgwhGtxptclJdvr0oDam4DEs1SEM5LeWipi/VSbqsAC6J8I9ZcwgowoJXiJUkq2CKyyhPAYDlLjILx4BOYJ/9w74GVDFwXJaGuEJgqlYSNXofSxXc4jwR5uzpPyBX0xj8sR1NgEF1Vg7O4hU6OxQsUzK0tkHqWDSSaZdcyw5pUDodkayVhmSD+hXl8Ycek+XPzpchhbIM1b+jGv1b1IdIOlp3aGfEtW8atSb6jHQVYEDLFdZPl2tn8tXBrqrRYFkdDAzQJkS7DK4MPIATYIl3/jL0y7tsEWn4c6YfSEc/ATNckwdpCTcgQpRlYIGfgQjnxDNgBMiOOuooOfnkkwOYkC+QApiz9yBQNnHiRDnxxBNl5syZob5AIP6PPvpoiEN9Pvaxj4V8qB+reoE9AAdYu/fee+W+++4Lw7pvf/vbwxxA6kMdACXmADLf8frrr5cLL7wwvJLtzjvvDPUjPmBHX/A+5NmzZwfopLyHHnpIHnzwwQBwQOhHP/rRMORKHakHfXnXXXeFrVsYQj7zzDMD/GFhBDwBX+oOmF155ZXhPuBoP27KlCndw8v4Y6kzOKNuiGvKM0C0cLPqcY3jnDiEAdrUg/qcfvrpAZi5J4iycBbX7ufeEF8IuMoT+PKxmypQl2fPL4/gHTz1f3YsZqSjZaMseWauLH58tqx5bpF0Llst8Y0tUt/aruCXl6H5kjSWS1LHUlvJaKp8QDeGaNnmxfb2A9gIKKujK4lzsN6zfUbuK50tnbJg3oJg+1MM1Lro54L+YyWyPsWSU5eNKbjH85KPK5xpXoBaWCiiLqwa5l9Z4VMDK4s7KDC0SutUAavKUcFPMbN2aJM0jR4uDc1Nsn3bdlm/bp20tW8P27cEaFTSKykphpSaDeDHAhVWLMcVarlmmDzBs6Lgy2BxbV2TtOpzVWJFbzIl2xQON8ZS0pFOS2pos4zcf1+ZcOg0mTTrcBl35EyRYUOUjvWHXyop5VRd6DnqSN/xiUgfsQjG5dqZ3BLoqgrx5fj0008HoAAa2FYDMAAScHyBDqTfM/Ylj6x9WI6wfGHZAlpY/IHVC5AwCDCYsLTmb31DmAFlVMSnj3GcW39yTnyAjPl1QJItOGGfOyCOOhAPCGP4FQsfAEW9AJcJEyYEiGJ49R3veEcARfJkA2sg6pBDDglwhiXwxRdfDHkAm7QbyATmGNrF4sY1jvmBzAmkPyifMoFLLH1LliwJQ8DswQfwAXnskUgcyj/vvPNCG0hLO1k8Qj3xw+KIRRHApI3AKc8Z7edIPrQF+LL7QtsN9jjH0b/Wn9aPODsnHY505GX9jiwd/QVEUx51Bb4Ba9ph9494nPe8n3sqnhKWwujPBYUIkKgCR92T5sxpRFbhsh8frFKxJRNXA7RfwutB8upatkvbAr1n994ji+9/QJY/9oRkXlou9QpMw3N5ac5lpV7bX1/KK3Rpf6pjsJYtWsiTosLqYtqneZfC2G0FbvJJkbaGhIw5+jAZdcyREhs7XB59dr6UC6yoBeH0h43Go02tioGZuEKzEleb0lcJEtN8eF1ckvw035gCVyGdlG1aF6BwrDRIY02dbJF2ydfUSkl/+LRpnrF0g7QVMsGqmBozViaccqyMnHWEFLTNWzZvk3a9X+nalLSzAEbzr0+kwjB4OVcKi1PSyvHKmeEtJjmtYFavO5QKW7VMLIcpplsoEKb1uk6PwCFzDeNsEN3ZLpmtm6Rl/TrZsXGDlNvaA+Cl6vSZ4AdfUmFSG8am0vpkhD6gr/beTwTXQJNDoKsqxJcdlhrAAWGh4YueL3zAARBg3tfSpUur3tEejtYerhnmxMKFRYt3/wKBWMgM6ICLKAwYbHDEIcLMz0DDwpCdG6QAOcRh7h7Wufe85z3B0varX/0q3AcgiXiAF0OmwBNWMax1f/zjH+W5554LkMgiDsCd+YrM7ePeAYk//OEPgx9gCQQyZEwahvqJg1UQyxsWvKOPPjpYxtj7kLRHHnlkqBPn/DDAEgfgAciUT99hOcSK9tRTT4V0gNy73vWu0M5rrrkmDKEDiPvuu6+cddZZAS4BR+pDm7EyMuQMhAGytIUfIuxZCLDSn1hEgVTug/UtsqPdk2gY5/QrAMjRQJL+NrA0ay3hLPqhjVyTF3UDSNmLkHIt/d4QNQQAO9VxHiBCwYXFDkoW3QCIgECbn4d3sagAo+AveY2YyYm8sFTa58yTOXfcJnNuv0Val7wosQ2bpH5HqwzpzMowbf9wzayxVJRUUeOX83oFWvEv4Kce48p+CtRFrUkpoSCUYPgquFJzg6xRWht9yiwZd9xRkhlSJ3c/+oiMbBquYKnxtS+ZIUfd2vSYa0xJrjYmnQqP9U2NktI8agslSZbiUluTlmR9gxSa6mSrYnB9tiz7KF41xbSM8g7J1zVJTXOTtCfj0jh8hGS2ZwNiJfbfT8afcbykjjpStry4Qjav3qTAllNQ179LbR8QWKeUzJY0MfY11LokkgktoSQd2sROJbh2rU+n9mGOQPUrKRyzApgNjZrwUvit0ZtQyLZLUqG5lhXW+uOpZe06WaGfDa07tvPASR3wqOWW2JBb2wum6lMnSS3fIdD1WvLhYFe/lz2it99+u/zP//xPsIDxJYmlCfHlyJcnX4R768uwL0W7ev5Z2rAu7SScdjJMaVYh4gMVhCP86Bfi4d+bP3PyAixxgAYOAAHwLr74YvnKV74ShuQZjsUyhSx/YOsjH/lImDv35S9/OYASeve73x0c+Xzzm98McRguBsz+4z/+Iyz0+M53vhPgEIC7+uqr5aqrrgplAmpc007gjXl/999/f1gE8zd/8zcBSgHS3/3ud2G4+mc/+5ncdtttcsMNN4Qhc8Duq1/9asgDmDviiCPk85//fPjB8K1vfStY2QBLyv7GN74h3//+9wN0HXvsscHK+cUvfjGA9ymnnCIf/OAHw4bO/GZmWJihbADM+ow+oC/o910peq+4p/QzwiKIow9pM/4AJhCMP20EsunPyy67LMyNpE4Mbe8tAUwd+v9OdcyDq1PQSRe1XTxWOB4jmqh/ZgWFF17LhhfWps7t26S+vTPsgSc72uXO//mJvPTUbMls2yTJYkZqWMjQmZG0gleDJmqqUYjWPosz6U+faTZfZnyU/AIEalhYlasQiE2S/+MqNsKybBuakrnldrnwy38rM888S9avXiO/+68r5djG/SS1bKu0r94oie2d0lmjMHbASGlvUgCUrBQVHPdT2C9t3Codq9cHyBw2YrR0puLSOTQtW7SutQs3SP3WTQqpI6VlaK10jG6SRHOjlPV+19UkZfuLa6SxGJfk0QfJhAtOkQP1R8pNX/+etC1crm3LSXOsINP0h8OL8+ZL26aN2o81MqqebYfisqm1RTr1GciklJX11tOHYf6gtqo+XxNcY0FhsxQLb0VRxJNtSYVGjRFLpCWeqpWMkve2bEE26XNUGDFUEvuOl/2PmyUnvffdMv7QaVKqr5NNGUV57esxw8fo/dn1c+kanHJLoKtfiy9MvggNfviS5ouWL2CGB5kXiCWHL04sNfhVu6M95rCI4Qf0AgUMBwIDWILoC0APf/rEFnAAI2Yhot96A4AImAE2SE95lEufkz/WMYZogTBWsAJBgApDqcTBynbooYeGMoF1LIbUB+AD3qgrgAaI0S4gEasfaQFI8scSSP4MF2Plwuq2ePHicF+ZG0degBvpGLYFiLDwMYxLP2CJ5FnBKoilDqseQ79mUaXfyAdAxKKKdZW+oe7UAcsj7QIAiYtFkTZQX4ajqQfzFklHX1Gm3ReuUW8gkDiWzu4RfgAlzzH3EOsqdaF+DANTH+4pdcWyevDBB4f2kYb7tbcEgmGlyktBsQE7nH5JaPbAl14G+Ot22tSC+nXs2C6Z7VtlWDoh+Q0b5AmF9Ku+9nXpWLlKUm3tklQX37Zd0p05qcsrACrxsKFKraaNs0JWXfinAFiM4RT0usAI+OsqKkAp9WDAGEgsNjTKtvqkDJumIDb5QGmeMllmHHq4jB+3n0w4+1zZ/7STZeSQJpm7cZWMPnqGHHHh2XLYhefKtJNPkH0mTZQCK3GTaTnwhGPkwA9dIuNmHChTzj9TJp18rLY1Js8/84Kk991Hzrr8Mjn4kgvloNNOVHeCTHrnBTJ8SLMs2bBeFkibpI48SA48/hh9Xp+RISNGyWnnnC5T33GuNGo7XnxhibRtbw+tYCVzIZuXhEJknd5/7n1JgZl5gcAuY8QJBW6ALYCvOnqAdyx3cldq9O9dW87yk7gCdAoX7/qhl82FH1oLFjwnHW1tktS8hw4dIiP1R05M61HBdJfr1XJLoKvfCzAxyLF5UjYcxxcxYm4ZX5J78wuxr0QbgCaO4YtCz4ElrEcMgWMxY1UwYcThT5h+MKsg8YnLkTi9/ROnjGh/ApykB1ZOOOEE+dKXvhRAjaFehqhZCMK8PBbpAF7AG/EAN6xvpMeCiB91/u53vxusa8zd4xoLIPD09a9/PaRl5fe3v/3tYKVjqJcFHVj1sIJ++tOfDhDGUDggxly/s88+O7wVhUUnrPQlH/LlGisZ4PbLX/4yDCn/4Q9/CEPOn/jEJ2Tq1KmhHOAQiCUfAPNrX/ta6D8WmQCLl19+eYjD0DPtIO7//b//N0xLANQM5LDEAWx2z3Yl62PaDgByHb1v5GEWRvyxVvLcf+YznwlzIel32kt87i33CLc3xPrXDgWODoVActSfF8ElbWUGOEYT1eVKBcmVc5LUVNvXr5OH7rhNNj27UIprN0jL80uksV0ha9sOqdN2NJfKkta6JjUdrQdmGB5lo2Mse8Fp1mEFrYZTAHAUV4+E0uDL+/zhtEbxpCxP5GVxY1GO+f9/UE6++F1SGN4s999ytyy48xG54MhTZOrhs0RWr5cr/vM7cvhZJ8qp7zxHkk11suiZ2bLy2eekZeESOXHqdJlw3NFSqE/JNXfdIsl9Rsm0446ScZuKsvRP98kLS16UmRecKZ0jm2T99pZgjbvoHRdKQ2dZbrnuT/LYjtVy6AfOk/MvuFBm//F22bdcK5MVEMurV8pd1/1O1s5/XhpzJRmutU93ZrX2WakPi1bK0q59nImXJRsvBWsg29WwyXVC25xShwU2rWCYj+clq23FUlguaM8U9VYoSJbjacmn0tKmn3ut+gy11CalXdsXHzdaJhw2Q2a87WSZOetoadAfNRKvvA7R5eoptwS6qkJ84fFlifWJL3OGwbDQAAZ8IWIVwg/LYLU7swbyZc8189Foo12bJRBrGrAGANA3OAOJ6FAjoNAbEAQ+ABvSkS+gg2UKkS8whiWKoVrqgfWOugJdLKBA3A+ACmsaVj+uASlgDusWQ6sswmBIlpXN5IuFkXsK4PKaO2CUaxxxyYsj8woBTCyBlM09xyrJXD5+AABzWM1oA/BEfOYSAoTMHcU6yY8HLJb0IW1hUQqQhQWSeXecY2WjrfgxZ5B+B0rpCyATKyV9TX+ZRZD+QpS7Kxm4c58M4qLwyDl+hNO/LLgB/t75zncGOAU66TcDR+L3ptzeiKeEhQX8Y30rwMaR3EMNK2ar4Eo1ednRulUWPfuMLH52jjxxz93y0tNzpEP7OdXeIfXZnDTkCwEAh6jjnb8MizIXL67PZ41CZBmqYRhYC8DwhfVPo4XCsPYBoqykxQIYrJLq2PQlUY5LRhNsKObkkBOPkwnaL2u2tci11/5O1qxYKzXxhOw/fpzUjRktDzz9mIybfpBMmDFVWrZukdvvuF1emL9QdqzdJCceeYzUzjxUCvrMbc50SHrYUBmzn/4dNo2WpmxM5i1YKKlRIySvgFWTTElD8xDZf5/9JJWsl5WLlsiqjh0y+uADZeYhM2RMulnGDBsjBa3HQw/cJw8/9KDUKaSlahTyC/r3o3VOaOMqfQlua7/qdQ2NDg3WMIW/MAQe/lVW+Ra1n3lOeOMKcwx5AwohAYw1b/60i/miZPRZbM90hj0D1+sP5Q36+cCPk47ONhk/cYqW4XK9Wg6Brn6vgn6o4ZB9WXIEdAAVwvjy7y3s9HfZkC5wgfiixw8wAP4AMFavYhm1NgMhwBN9gkPEB4i47k2/UCbxOAJV5Ed6jszdA9KADeoFXPIFAxTxnmLqQjlAEWGAGwLAWGDBQhagDH8WlGBJBOjIC8ClfQzZMgeP4V1rK1BGvuRDecAc54i6AoTkBdyRN9CE5ZhhYWCNsoBQLJUM4wKrwBx1wdpGvckDyyrtI4y2A39PPPFECMeiiT/lM5eRNhLH+t2AjX7rDYyRDkc6u8fWr+SLyJepAAAg1tYPfehDAVx5FiiL9JyTB46y94Z4SlhbilPE7IZAssd6BfyVaxRgYsBnQbZt3yxzn3xMHr37Dtm2epWUFTxwDZmcDNE6Dq/R+6iPY1OuqBBUlpTWOVFWANT8wc3up1LpDitgscJCFRBUha1UNDaLeSsASD04xiRdO0w2FLJy4PFHy0j9m1i0drX88aabZcTI0RJT+BqiP0BGjhsjj8yfKyMPPEBGTNxXVus95sdHfkeH1LTn5Jjph0u9ps3qM54YOkTqhg+TPOVvbpfCxlZZvW69TD36SBk+YR9pHjZcRowZK+MnTBRpy8jzc5+T1W3bZdSBE+XQ6TMliSkvV5bWjetlwfPP6XO3VMZqXYqdWcm2tkmjJKVWW0F/cpcrmFfBvYqZr3JVaaH2tna69rK6rJS0D1PaAbw2j9fL0X79uaYQqL2jncXikYL2bVH7qUF/JGxq2Sobtm6Wtk79jFB6PPz4UzRPl+vV8uFgV78WjyeAYBYq+xLky5IvPgCFa8Bjb1lD+lq0GUe7cFilDNBwQA7z2rDIMY/tN7/5TVgsQxigQFz6jHikpc8I25WIQzpgBAuegSWOc0ALYAOgENfAIWUYzHDEUkUdACggzKxl5MmwJtcAGA5459ogkmsEeCHawL2nLOY8kTd1YFgah4WQcPqDsg477LAAhVwbuFEX5s8BlYiygEKbU0fePDu0n3SINpIW4MaPMIAUcKUOnJOG+hmo2rPYG1Enc8juEXla3zDkzYIYzimTdlIecTmnP7jf9P/ekj5hkuv6R81sCBY8wWrFU6SHEC+bY59EBe2NG+SKr35VOteul7ptrTKkPSsH1OqPso0tktrWJs35kgzTRCnFGcASrOFfJRf+ry6uWKjExy6KlfwrKBSGgpUMsaABTmz8or0jzdIkpaGjZHapRaZ/8ALZ75SjZX7rZvnZ1b+UobVNMmn8fnLSMcfJAeP3lR/97Mcy87ij5JhTjpeW1Wvkr7//vSRb2qS8epO87/RzZNwxh8nCbZvkrrlPyI6Y4q/S1tjWGhnfFpNxY8fJMf+/j0rLlnVy5wP3yQZ9Fj7/5X8W2bxD7rnmBnliwzKZ9o7T5F3vfLe8+NBTMjRXIyNHNUu5fav8/Ir/lIbOvGRWrhfNQEZrb46WOhkWS0u8pH9TCnds5UKbs/SnHnlrSegZPVqf608C2FtqUxUQxFpYKMalWEpIIa7PBAtFkmlpr9dnuaFONmjeqwsZaVY4PezUE2XmySfIjNPO0XxcrlfLLYGufi++9Piy5MiXLed8WdqRL0/bLgNxXc2ONha6AJBra6f5AVTAEkBg1iJWuGLJwuoF1BDO0DnwRh69EbBB/uQLcFMP0gMcWNgADsoGjohj9wQIIS39T3qGqUlr9w1Apz6EAVT4kRegh2WOMOJQFo60tAFYQ7Sd1ciAEOJdwcShLlj8AFerA1ZEYMymCZAvbSEOkEielIHVENCjHQaBtNPqS93Ij/iE4YfwAyY52v1C5EGdiLsrEYc60hccyZu0lEUfMqzN3MMzzjgjgD79QxqecdpCuymP+2vl9abc3opNVUCPYIFTFOGflqBO7zf3XM+wNccU3JK1SRmufXXmqafK1IkTpbCjVbauWSvN6Tpp2bgp5JFkZUm5KMWy/oDT1KRHQE5YBKHnbPlSefuG+muXAj+4sLGy+loNOG+QdJinuCyzSnLZmBytkFN7/PHhb4E3jrStXi/nHHeSzJgxU4obNsviufPk8IOnysTx4yXe0ipr5i+UjQsWyyiFqJNnHiVy9JEyalij3PfIgzJkxFB522mnynGTD5FEa0Ya9YfEyFHD5bmF82XRwgVSm07JrFnH6A3PyPNPPCWb2lrk8GOOlPHTpstTf7xJXnxqjjRoA4ZO2l/WzH1G1r6wRFJ6b0enG6Uuz2KYGqlNJiRX1OdbsY/+0acoQK/9Hx/6I47Tc8CvoZ7PO/1hqB2fzbOnYElayvq3VsrKtnxRdmjSbRp3Uz4nsWFD5YhTTpbzLnmfnHrOOTJC2x1rrPyocrl6yiHQ1a9lABT9wuVLkC91LEiIL078bFis2h1to81ACe1CXBNGHwBT1l78ARKsWsxlA64ABIAQWANYgDHru13J4gElBtWkp0yOQJP5UTb5AyfmRzrqCWBxzTn1JD33C7iiXXb/DNAoFxii7ljWSEdZOOpBWZYP+ZI/4Gf9QbkcyZv0nLOAiL5BhBOXvLAQAoKUhR9pAFfi4ogLXNLH1IOyzRpqoEi9KIMw4tEWi7srkZY03Cvqw32iLcxf5A0nbAHD/FbaaPeAsjinfMqgD/Cz54Cy94YCkKkLwFWuAGAFwdRXyzAADNYqdQUFkUI2Iw16X0cPHSbTJk2WyftOkM3rN0iihrTE0+dPaY51JZXpb5qruni5gpgVVZ67OGWWKVFdOGp0DbJ64RTrAwRiW+TdIhOnTpFYQ71SUIvsP2aczBjLqvr9RVrbZcXsOfLcE0/KNO3PEbX1EmvZITtWrJZ1C56X2s6MDC3EZBjvJR4xRA45aLJMmzpVxmg7Wp5fJgvuf0SaUmkZN26MjBszSmYcdJBMmzxZ2leukvq6Rml9abk+J9v0x8YoGa+Qterx2bJl8UsSy3XIfmNGysET9pW1zy8OYNygfVerz1pNMS+ZIn8vzLmkdaF31PH/LgBURwjD36F3FKDzCn7Kt5pKeyClz3S6XorJOsnF05Kra5BCY5PERo6QMQcfJO/44Pvl+LPOktH6eVCj9yXG30C68nfgcvWUQ6Cr38u+4OxLFseXN9d8Ae7tL8K+Fm2jTTjaSrus7SbOaTMwQHwggs2RWUyB5Qh/QAZnfUUaAwmABj+DDJOVRRry50hegBFHXLQepDcAQpaOupPGZBBmFjWgiryoC+ekJx3xLA7hpKE88uM8mr+VabL8CaNOwCX1wx9ZPhZOWeSFP3UgLuf4c008a6vVBT+O1jYLxw9HfrSJsqPpkQGt9S/inCFntrfhjSwcsWiRh9XNZH7IjlbnvSe9/0pqMSW2mEJaDZszd+EIaFJSeCvqEQe2sK0LqFYb1x8rvE93xCgZMXacDFEwqR8yVHLavu1Yq8rZsCFyp1Y1q7eNbYxr2MQ4XnnDb2XYU/30//QMgJTUPOOxSjuxIuLP+3mBR87BqHb9f2esIG1rVsnqJc9LfuMmya/fJNllK2Xjs/Nltbq2NWulToG5de1q2fLiUtmxanV4hzFv2o23ZaR9e4sUt7RIfHurZFaulS3PLZYtj8+T7MJl0tSek9i2HVLatFWEfQWXrZIVjz4tqeVrZMeiFyW3YZOIpi0tXiatcxdJbMVaKW7drPltkBLz8pa8KOX2VkkVFdiZ2FfKS77r3gN9bOqszQnD4SX1B665myntG4a++QlYmUGp/a/921IoSpuGtdfWyQ6Fu9ZGBcDRo2TUETPlkDNOkxlnnCETTz5J4hMnimA5T+jfd1L/npKVfnS5esrnBLpcVSqDsiiAcGS+G6tmWYzBClcsXsRDxAGUGBolLmABRFg4svxwdo0MunrCl6si+pC+BP6ASM5x9B/XgCdD2sTDisd9YNsZe00eq52BeYNq7g2Q95aqQlcVhypsFlbuFnB6XlnSwaYuvFukKA2KKkkwJZ+VOOOVPErtGSksekFenDdPliyeKyuWLpBNy5ZLuaVVhpYSMrwQlyFKgw15kWZNzwbT5ZBrZW0yhQKXkmB1LMOgLLwBAmOSKmh5Wk82XNmhUdq0i3IKUfmE/jDSf2mlqjSrbIsKVXnNU9Pn41rfmAKr3gtwljdy1GpD2LYGUKqpTUtOQTNbKkheAb8xV5Yhmj+AWlDoYp4g4R3cV02iKbQk9vATySip4Ven1cbe1hrLS1u6oP1VlISmSZT0xwNO41SGuitO/wvzH+F5bVZY/BG2gNGAyls+tAc0QmcsKZl4Ujo04uZsp+TSSck1NUp7Xa3U77uPjJsxXQ458Xg5ZNYxkpgwQTMjw4orK7RrNlLzFj9GruqRQ6DLVaXC2gTUmbULSxPXOCyArKJlNSubHrNYwubPARfMmQMEAUSGaEkf/Siw8519PDgE7lxAHfeAfsa6xyIYuzcMmRMOFAKAzOdjHucll1wS9iEE/uhXjojVyQxb2wKZt0zc7grlVaQMAUQAgXnlCoNAME1xKaBggyIRewWWCp2SUugCjkJCBR/p7BTZvFLmzXlYbrrmWtmwaKmMTzXJmFJKUlvbpbClRUZKWkbEayUZU/DTvsEeli1nFDHBvMoczbr6WskX8vq86o8XhcyUUg2reDNap6y6sJJWXVg4UgIEtXwFvbLmxxA0i04K4SXIqAJkSQ3nWAbUE/HAruxYyCMPnPK2DlqCFY6ygqNwDaeNWqz2gDotCqhj8+uUXrO5cyahMMsKavUjD3Mm9WZUPHSTcmXYkDuZ1B8QNQntR/1bzipsanBdLC3ZdIO0FGtkTa5dakeMktiwIdLRVC/FEUPlkJNPkuPPe7s07b+flFJprUS93iNNqRCJKJN89HeJy7VTOQS6XFUqLEoGZPwZ44AM/AgzIGGxBK97Y6sW/LBKMWQMLBKPoU2sT9HhS/KIwp59THCM+rteFv3InEJAjoUswLat6rXhZqCbFcy855iFHwz9AuaADtBH/xOH657DyW+JuM1QHnTDbe6iCLZvKXRBIACIIyrAltIIWNdKpayUtS3Cu281LK3PFzGK+e2yo22jZBSKn733EZl714OyfdEyaWrNy9hYrdRntN868xIvF7pWEFegiJUiWAeLJQZNi9qPCUlhBdOr9gIra7UeSlnAW7xcscwllfiwAuIChCq0hVw0HpZAgBBHGTAh9QbucuqwytHfcX2+69ioWfuA5z2nOVTSa9o4KTSe/o+tWUJ+6h/XvFLaKSk8ununkidedsTZ3Ej8gj/V1CT8iVGvRCwpiTg4q1fqt6UYl81Kmk2sVK8pSq6xTg4+7SQ5/3OfFhnaLNtLBSk0N0q6rklvm2aoIh/qyMIaQJfFJS7XzuQQ6HJVsQAPQA4BDQjgKBReXrTAogcWisyePTvsh8defFgBgRMWHxCPOMQFDA0ADUA4j0Kga+fiXlifcw/oX+ZeAtgAINdY/k4//fTuRTyAH/eKe2hpDeBJg3tLxe2NWgJhCqBFHRDIPn4gDk8cUXElJZiYPhfxGMOXDLliAdMfJdofZTaEjiscxhQO29qluHGbrJg9Xxbf95isfWq+pHawOKNG2letU2DJyfBknbKfoowCIbMOE0oxTGeLQzSaV1H9O5S4OvRRpw6sKAZ0knrEpTlqBTmv4FAlHvUOAIarPNbdYo4iS8wwoCX0nLeapJTOEgVtgybOa/4BODW8rLeDNmuUbnEOBFJmIoCgui7/ULa6YEHV9OQRhtXJSx19m1XY5E+Y8uOJlLq0lsE81aLkC0XpTDdLzdCxUh42TCYfe5QcMOswGXv4DKmddlCwgrZrBzEsTpp0TSqUy1PDp4FtLp12CHS9hhwCXa4qFfDAn2/UMgdA9PyT5hp/9pUDBNng+Y477gj77GG5Ir0tdEAGgeZ6yj8ydi4gzgAOSx4Ah5UPsWDn3HPPDe8y5m0nwB/xbBiY/sdxTjrAESA3sH/LxK3lUbDHAbjQRwAINJAiCk69wrNAO4r6LCa1rslUMrzXtpIN28IwwKqIVZMLW6XUKg2VN24Pq2hXz1kgK59dIJuXLJOWFSul0NoqDdqHQ+vSClGarrNdJNcpaT1v0nwT9G2mUzq04HxtpQ4AjrkAYeqw8ME8hKNQf+rNUa/t3BSaq5FJE8BJXbAslrCud4XjSA98kl6voa1gbaO86JH0hKsoz9IagNrRWLsmpS2MJ9hnWjLq8jEtRH8wlPDT8NSwMbL/9CNk/5kzZfKsIyR90CSRUcOklIxJeyouGX1mOkJdgED9IadpaAP9Qf1wybf4MXJVjxwCXa4qVRQU7MsYCAEizKJk25pgmTLIYMPj66+/Xp588snwKjesgsAIeeCi4GfnUT//yNi5zHJqfY3Y6gXo47VzH/jAB8J+i9wfwm2ImHPuI87ScW75veUyctFbbgD1SnDSZ0T/Dygx5y2fy0tWn70arW8spbRBOzROKc5mJwq4CoEMFdfH4lKv9FMDUWbyIuu3yNp582X+o4/Lan0mNy5fLp1bt8gIhcAGKtDeKtK2Q5IK0o2xGmnS9EmeaSW9TqUt6oDVDcufQSCWQXs6rc4v17sSFvy6jshAySyKQBRBlizEVRegTT3DSDNHvTbwJA13y+4YaQk3R3daPxb1b4n5iwVtDy6HA/y139rVf4eWllfobR47Vobvu4/sM2mqHDTzKNnvlFNFhjVpo+NS1m5uDWbLetlRymidElIXlrF0gawWiqPi1CX2FhuUXdUj3yLG5apSAQkGZwZv5mdAZyABVOAPKDIP7dhjjw3zArEG4sfGxcS1eMjyMOFvYa5XCyhHzAMsFCp7Fl544YVy2WWXydvf/vYA5DbvD9HXgCD7BOKH9ZD+JZ7dx77ob73rCinqYiV1lfNAe+qv+KKwVA4uVtJrBQ3akY4nJKV1LRUq80t5j21OgRbowTKYUHIqZoqSTtRqHopMOUUqhZ+mKVPkwBkHS6KxTjo0s1bJy6bWFtnatk3KWnYaC6CWm1FojBVLMjxdK2m2PNH0dQqU9QV1egzzALWK9Cw91sU/YciVY+jFrvC4VgqADfsQaoTwT+sSFnvgp0fSVLbM5qriZ+Bnljxg0OCRfE3ECcPHXeeVunTlwrY7WlJMKS5V2ygNjUNl9fbNsjmbkXKqSeK89lCfn+3JlIw74jA5+b3vkaPf/W4ZcvDBIsObNaOill+STCImOYXAsKhF7wX2vzrtZxan1GqBgHEMp2WH1oRJli7Xq+WWQJerisUXLhAHLDC/jyMLCxiGBCTYzBk/3kaBlQkIYaWqzUVbsWKF3H333fLzn/+8e+gSCyLOrFKkJy9zhPnHxmsLmJs2bZp86UtfCpZArLLcG9u4mv4E/oA9W5lNnyIsg1wzh5M0bHz9VgoADMO4+o87zDUCIXBYmRj2DGTTmVMY05O6evVUsNN2hUgxrFzaRj0nWrBOaTYM0+azBeWYgiQ0blyfJeb5qacWVJAd69bI/Ccflwdv+osseeJxGabP34GNzbJfslbiLQqFW1oU+IoBePjHNi1h2FMdNcWxXrnyCjY2m1EQC9ZILZvyA/RpVTUd/yopKlBX0HjMZwzzCdWPeleefppUsTqyOCSvGdicPhaapLWQtEakT4iDC3soavsqqbr8tezKP7CM4fKYdGgp7epGjpskbbUpWZXpkC2pmAybPlVOfs875aATjpH0PmM1864W8iOjrlZKLI7R/NsLeWnr6JTaRFoa0g3SqCBbw4IeKo9jQiOUTqNr3RTo2rkcAl2uKpVZnrDEIBsCNoeANsK5Jj7wYfPQCAP8Vq1aFVYQX3311eEI/OGARGRxycch8LUFjLM1DCt/sfxxDsjZ/aHfgDz60+6R9S2iT63vOceSSPy3UkBfQf/l1UUBsIIuFaDDwtRNSRCUwkeIqvUOkZmApqDC05nRZyhdTgQrXbazIMlUorI1Ckn0WOoClWJBY2f0x8u2rbJt+XJZ8uijsuSxx2T7whekdut2GVOTkKFF7ZPWjrCnYJPWhC3F6R16l7oqSgf4A64y6uChAkOmqjBPUOvAO4jD/nsByCogyFtHMgp43AvqyaKQokIsTaN+NXqfaHDFAqiAqwVWtpxRtgIC1ZF3MJZqngz3Ei9Y/wL8EYYVsNJwALCkx2IyJcVUWjbqc8N2L2MPnS4HnHSs7HfC0dI05YDwFpNsY11oY0z7lroU9FnZkc1IoVTWZ6tZiqWiJMuKxAUFUq1gDeO+THDk75O+DQ1X1/UDxOXqKYdAl6tKBdAZnJnsz5kvNGSggQPqABWb/2fCj7B77rlHHtMv3meeeUaeffbZrtCKdQrANMugwQzlko56YP2iLsQhP85xVo/+KPrAXM+6co1oH23nmnMEnAHUXFvfMwQ8a9YsOeWUU8IRSyB9QbjBuV2jnd0f6kEc61+rw1strICKqAGQTNSW2uAC7MBF+Ja7+ox9TrTeQbQxqc+GnrLxclLhB/gq5LQvw5xBDdBkDK+SFbhUKOaFN2pgjdPOlYz+MFk6Z64sefJpWTXvOdmxeq0kM1lpyBVldEdGxqjjTdK8u4QaA4AhH3WKSJLTMoA0rJHUkCIZ6k0W1OkxXGsIMNihaXDUpbIJtAqIU9Cr/J0ozilQwVbKWpUh5q7OYD/ClKbQJyT0QbjPZa2PdlIFBrWGNcz7SwSX0fMMR3XFdK3EmpslMXyYTGDD5+OPlYmzjhCZvJ9mrP2k+QCbvFkljjWQvLQ+HTlFXa1HXS07GVbap1SorKdxNd/KvaGi6rhZWAL1GXS5diaHQJfLFQTMsWjkvvvuC0PEbDBtbxsBUjgaDAFCBkP4AzoGOzanDeCJglV/FNCFo+60h/rbRyJ1p60GY4TRJuLRV1hRuZ40aZIceuihcvHFF4f3/xLfwNHSmsjDoK8/q4JEr9SratwdpUdI16UFB2jsvnj5CKtEvcPWMnovJK8hBLS2y+ZlK2WRwuDsRx6TVUuXiexolQO2bJZJW7fIMKBRI5bYOqbr7SXskVxUl9X0WAKZu6c8FyyYWOtSSqapYmUYmf0Ngbd2TdkWUsN12O+0LgG+goceK34Y1nirR5Dm1RUcLIu8zo528uwo+un9L4c6dGrhmXhCWhMp2aEgt13PeeVbpr5BakePln0OPlgOOuIIdYfJ2IkHiAzlVW9UmjK0wEJeYVlrma6nUpRM0SpKf1ndV5XAV+qVUV2uV8gh0OVyBTFXMHyJ6bcfr577wQ9+IM8991yYN8jiBYY2WUyCpQ+YMTG/EFgEeAAks2b1948W6ktdATqgDQsp4po20g9Y5Fg9DQzSTub1EUY/kJ4+ufTSS8MCEPb9o934A4cce8Ke9Ul/h8C9Kppsj0JXs8t6jHoj9hUsat/HCiVJYtGC6PRcWnbI8udfkMceelgWPf20xF9YKGNaNkiz3ocmfd7iem8KHYpxhZw0xGOSTsX1h4jeQ82TPf8os+sQRkax9AFuWPD4x3BwB9ZEIuh5GMgF/EgXTasMxiKXUpHX/lUgE2snbQDPKkPTmm8iKamGlGzPZaVNAzuBwGRatmmbWPCRGDNW6iZMkBnHHy9nvvvdkhozRv+I9NljQ0R7d1xCzykUEKTGYV4gHi7X3pVDoMvlCuKjACgCeLDwcc0r56677jp54oknAhDhx9AngEMcrH5cA06ADw5IItzy7K+irYAdIMceimyYzevccEDapk2bQhzCgVv6BcizVb4XXHCBXH755WHbFyDY3hZC23cGgIj+GFQAiHgE7DHoavrOIJAg/UIKaxlY/VvqzEiMMVjmualf++o1surFF+WJW26QuffcLIeMVXja1iqd6zdJXWdWRidSMiQWl0Q2J836rGJZzOQ6g8URAx7OyqxhEYUCHdvaMMQaXgfXFUo9mLWHZS/USR0KlkA9ApG8VaTyjFfm+JFXTGEvoZDXVs7L5o4detS/p3Rayvr8dNbWS5vWT4aNkBmnnipHn32OjJ0xXfSB4VdUgL6CFlDkHcmabapW41IwheKB666Jy7X35BDocrmCDHJwwA/z/FilyhDxgw8+KDfeeGOAPZsPx0cHX4TEs6FgAJC0ACPqzx8vtAFopf4Gv4g6007E6mrahKN9DAGfdtppYeEH7/6dMGFCiBOFYPRaoEfegxICoSea3dX0KATaE5LLZaSQy0tzQ5MSm/rqedhKhsipWpFMVmTHdmnZ8KI8v+hJeVh/oGx5/kUZptFG5cpS39Imsn2rDFMoGyEsHMHOp8+y/uPFc8wXzGvfs1gkLPzQMlnsEWCP+xJ1GpepdFTOYBDhxXkciFToK9covGnb8vo/mlhW/7ZkjbTFa6RmSJN0qF+7BsSGj5D9Dj1cjjnrbNln+nSJjVaAVTgMCzbqFBT1sQlWRS0AtuQxKuvzVshjz9Tmp31hh+vNkUOgy+UKMvABUgAegySgb/ny5fLQQw8F9/TTT4chUrOQYTHDGggI8nFCGoaWo1DUH0U7gTvax1YsWPEY9gb0sOqxfQvt5BqoZX/Fk046KeyxeMQRR8jYsWMDBBPX4G7QAV5vxDeMQSDiqC5AU8Tl8vrjQsGvqb5BAYwIGgPCCtbABKQlks0oEWWlrbBV5j3ysKx4aq5sWbBEyivWSt3G7VK7rU3q2zqlSZGqTmGwXh2LRsJSF6U53v1b1KyAP6x/WN+APbbR6wZAFlhQJBVUdVU3uLg+47kiiz/0b0SBj7d65PU8p3UtaoxyIimZxjrpbKwPmz4nmpplzMSJMumwI+SgWcfIsIMPEWkeIgLUJfWHU1qd/l6iuUBp6AgVQ8/UoaQ/TgBS3sbicr0Z8s2iXS5Xt4AYwA24AeSwkgE5DJHy5gugDwcYEU48zkmHNY1rgGrbtm3hHNdfZfMXqT/1pN2AL+cGuAwT0/bDDz9czjrrLPnIRz4S3v5BOPEBR9Lg6IP+3N4+FXADRaEuosLLHKpR8ompIxgrWLDAAdU45srxHmJFpY6GGsk2NcrIgybKuAn7SbK2TuMrgJf0HjI8q1FjeYU0JSs4rqD/J6XmqOCmUKhllGOEaW4An56xeCRY/9SFctVxJ81Rp+AU+rIKgdjnClgBFfpyCmi87aOQTEtRn4fM0CGSHTFcSiNHyf5HHCmz9Lk59MxzpG7mYSL1jcHMV9J45bqYdGqmlT0HK2AK7+IojGaH57LrmaJ8l2tvyy2BLpcriI8Cc1gCeZsIFj5bDMFbRUaNGhXOf/KTn8iPfvSjsAn1uHHjwpw45tTxpc3+eKQln/Al3k9lsAvAAa1YMocNGxaOWACB3NGjR8vZZ58tF110UbAA4gfkGuzRRvqAI0AINLt6iG8YaMweBY7q8MIRXPkSAtTUR8GsmM0pfFX29MMyh0UwwRQDgCtVlC3SIZ2t22X/hiGSKNRIbv7zMvfWu2TR/Q9JeeNmSbW2Sbm9TUr8UCnkJK4QmdIyUwnebhILm1WzEKVcCIPClWl3AGCXFTDssRzqVBH1wyaXV9epV8V4KsznY5uXrD4L7QqGJa1bjfplhw+T9P77ydFnnilHnnACL44WJVXNQSsQ5v9pXpp5Z0GkLacAmuQHCMCnjrI1JmWrdzeEViDV5dr7cgh0uVxBDIsCNwCgwQ7gh0WMoVGzmgFJDB2zcviqq66Sm266KSyUIA7+rCxm9SyQ1Z8hkPZQR9pDewFA5vcBhAx/c/6tb30rzAGkbcAiUBh9rRt9BSRbO+3Y82O1P/fDmy66ohcQmC1kK0Pvej/qFa5YiRvm5QGFubwkICV1uTireRUKNZNUIS8p+jqrRLVlq2xbuFAeve02eWneXGnbsF5imU6Jq0t0ZqVW71+jFtisWNXA/n6ApT4DbDBTZOxXyQ/4CxCoxVp1sSBiL8zXxCWv5Xfovczp30Q+nZJOvd7BDwGNUat/L42jRsuUE0+UUy6+WNLjx3UN/SowCpP89D+F0Iwe2/OFYJWsrQPxXi7PoI8m0eYSABuLS0Odzwl0vTlyCHS5XEEADWCE42OBa4Mdjmb94kg41r+VK1fK3Llzw2vnXnjhhQBEQCNASbr+DD+0j3ZQR+oM3GHlZK4fc//Y9mXGjBlh9S+wSJtwAC7gaHkAh7a5s7U3+rHa3/vhTRddEf2W6SIeA8CXj8zRY+8/7a+QprI4I8CgXgaIUr+CXrEJM7uohPfjKgjGeP1cUV2mXbavXilrl70o8594TOY9+ojEWtskvr1VatszMjRTkGEabWixRhrzCm4lFo3whpTKBs8GgEhroUWygESd1iGv9xi3TdO0xWqkI5WQbDotpaZGad5nvEw76ig5RN34GYeKTJig8JfWymklNUNaVdTzcpy8KtvL0ETahS2Sx4W28oITnKbi4dL6UDpTNHxOoOvNkc8JdLlcQQYrOFvdCxwBQAjIMeseFj8ACECaOHFiiIcAKaw5iHh8aQOVnNv8Oc6Jb8DJNW5nwj8KV70RZZqFj/ypq7UDiGOoFysndSEu4Io/4cz9A/5whx12WJgPaGlxxGfIl/NovTjHmaxNFr479R/woivUAUFRaW8p8HVZj/kPR7/Sj/QtR+JgxVNyYvPnMHzK6zuIDBXW10rtyKHSNH60NKurHzNSiumEtOozmeFZU+xKaBnlvP4AUKd3MazwZY5gvszMQeAyLTWJlF7zSjmFtKT+QNDyd2gxOzRepr5OWmuT0q7Pc3L8GJkw60g54YLzZdrJJ8rI6YeIjBst0tC175/+R/VKmo65iKGeoa0V0FOfcJ5Q+uQ6qTXgPKFAHNcjza48V8SqpHW59qbcEuhyuXZLQBXQBGABWjjAat68eXL//ffLk08+KWwwjR9fYGY16wlEQBjOgKrnRxHxzCGz3O1KxAFiKXfHjh0hHaBHOdQdUAXuKJswqx9z/t75znfKiSeeGOY+MkTMMLdZ+Vx7KG6Z3TbjGD2ad09nikTtPg84hBmtspC9EoCnElReXaEmDO5iU1SQ0nvd3iIvPPmUvPjoE7Lx2UVSXrZG6jftkMYdGWnuKEhTVsFQ4Y/ZfsxIZOiV56SgWeaKCoX6AyCjZWT1GWyN10i7uqxCYHn4UGk+YH+ZMHOGHKTPzZRjjg4AmlfY0wdKkrX1Xe2pWBNLwGb3OceX28UVoeYqoSVN3HVkEmENz6g/g669L4dAl8u1WwKOACcse0CUvU0EWGJxyKOPPio/+9nPZP78+cGPuXZYB1evXh0WkZCGeXeksY8fA72eH0dRCCSstx9XBnbMaaQcoBU/6oJlb9WqVeENH9SP+hx//PHymc98RqZOnRraZWLRB/GJ59pD9bxlldsZvM2h6LmpK2pQBZgUhSC0KATiAMAAgQwXg4EMwDJwnJcGBanchk2y6OFHZfG9D8vmeYskva1NGjryEtdjYcd2SRSzMqp5uGZeIx36I6Etlwnz94aOHSNrt22VYm1ayk0N0pHUHxYKghNmHirHnnuOHHLiCSLjxkpOf1zsKOQl0dgoDbV1waqHDOmopEEg4hj1eRkRu3ohPOddRwCwhufPIdC19+UQ6HK5dkv2kcHRrGlYT4A1rIOAExa4a665Rv7yl7/IsmXLguWNYVQgkfhY5kjP6mMADQtdVG/kY4l6UIZZGrlmkQcgxzxGtn2hLsz/460fX/nKV2TfffcNcEu9DGgJ50jbXG9APW9lhYOCCLLgnkcUiRoUgAnjGCBIRIugfFTW88pWK+VgC4zp/wMSdrZJIz8KsnnJLH5RZt9xt9xx3e+lc91GmdA4VIZpfqUNm6U+kZTWjjYZyWvc0glZvXG9tGQ6Zdi+46WQTgYAHDJhX7no0o/L2KOOFBnaLDl93reXSzJ0/D6Km3FpKykIlgrSnEh3AZ3JKvqyr0FfBe3w7QoJB/1f+BtQBwA6BLreJDkEulyu3RKAFRUfITjzN8sdbxuZPXu23HbbbQEGmT9IHOAK6MMBXQy1Wpqo7KMp+hG1s3g9RRzScAQy161bFyyAlA2EAnazZs0Kiz9OOeUUmTlzZkgHjGIFxJGe4WzbD7A35br2THZ3e/tFpIwXVvHuNKHeppKyUkmPxXJeigplyXiNJBXU8vrDpLy9VfTGSseGTfL87Dky7+FHpW3xSzKkLSu5Ha2SKeTUKcg11EnjyGGS0bxaNY8Dpk+Tw046UQ466iipZ9XviOHhjR9sC9OuxWZrFDl5g0gsKQwE1ymE8raSqHo+QZVrKh9pSLQt9ty7JdD1Jsoh0OVy7ZbMamdDroiPkehHCQAFTHFcsGCB3HPPPXLXXXeFt4sAY8QFujgnnygIRoHL8sXh3xsYw8pHvuRPOiCOMhiSZmgX699R+mV+9NFHBwtg1NJnbQMUKcvmNPqcwL5Tzy8orHw4BlTjSntxTIBEgvxQ14E5fgwLxxUCsbgVMh2SKBREPTRuUTqXr5DlCxfJysefljVPzZWOrS3S2tkumxn+TcVlxPixkhrSJIefcJxMmjFdDph2iCQnT+ahDPnnkynhdXaleEo6eaZrFPv0mUlrWbXqohD4sv0vqqhf13k42DPe5af5VpaR7PrZd7l2Vw6BLpdrt4QlD0DqCYE2NAwwMRzMViqc488Q8S9+8Qt55plnwqIR20wa6OJogGfORJi5nmGvJQCOYWnb8oWhYOrFfMRTTz1VPvCBD8iYMWOCP20groEgw8XU1xaSOAS+cUW/YF5x9/bkm0czyElBsgp33BH2CkwqBMbslRsAIZHImwh6WipVZgmWa/QHh16HWwnss6WMPhfbn1ssc265QxbOnSvrNm2QLTtapHHEcJk6c7oM32ecvP2id0ndmNFhwYfUsuo3KbmiPrtaFquIY7GU5l5pG2+5S2jZtfo4xV5hCaRC6nbZZnJ5+VARF+Zcrr0rh0CXy7Vb2hmYAXNAFwDFilosboAXlkADMfwYHr7++uvl9ttvD/CFI9zyArZwBnv4k0+0rF3J5hgCbwwDUy8WgfDKt8997nMhD8pFBndYCSmDOgJ/hLPgxUCxN+W6dq4u/OlGmO6e7PnN81rfRK/o+rLkavIKgby7gy1VYhUIZAwYEOQI/ZEXpxopVyhKe0bhvlyUdDIu9XVpvadKaWWFNGCwIyPZpcvkf37wA1m6crlSXEyOOeVEec+HLpGmfcdrHjVSUr+cRs9oXum6BonVsJlLXLOv/HjIZ7UugJ+Wh4u/os4mrdTO2hji6v+60hDFonHE25zLtbflEOhyuXZLgJ7JIC1qLcMPSyB+QBX+Zm3jSNjjjz8e3saxePHiEI71jiNxcFHosjJ6C2KUQdmIeYlf+9rX5Lzzzuse+mWeYE9RBu0CHoljQ8rhDRZaN5xrzxSFGruD4Rj95untt1BNWfI1WYXAbMgDCEyU4xUILCmFBQisgBnvEM6WFNrq9bnTyMqKGo7TAL23cS00pkfeSbxt5Ur5/vf/U1ozHfKOC8+TE952isTqUrJywzoZM2GCJOJ1xA5OkTMAZTGnz1k5KfXJFJu4UDUpdFaKSDXo/3qrrk6hfqS1/jJHa3Bd0VyuvarKp7bL5XL1UkASwGbQZgAHfAFNWPawBgJS+COgDIscIMdGzezJ981vflO+9KUvyZQpU7qtfeZQFPp2xxJHXpQ7bdo0+e1vfyvve9/75MADDwxDvIQhrIXUFwf4kT91NHjEnzxoA2107R1V7myXXuuWRgnIXEQ8Ua/YUy+sFOlyBJKvOtZSxFNx6cyVpb2jILwmOLwjOLzFQ8FQHwXm8UkyLZ3plLRo2IZcRjr0vKg/FIp1jTJ0wn6yvViQ7ZKTjGaa06yzimqkS6VqJaUAWMqLZNr0uVUAZLhZf/e8qs7dwn8nYXgZAHKMutdI4nLtFfkbQ1wu124JYNqZA944Ak8GhhYWhUGgikUj++yzT3BszIyYJwhAYpEjvqUhvuVvFkEDOuIaQBrYsejjzDPPDA4LoL32DRnoAX5WhtUvWtee5643pi4uCw69qkejEV7PIe6N0p7+BFGHLbBrWBag416FMVmNp05vX1AYoo1rzK5gooX7y1s8NFJrW6s89Mij0tbRKYcfcZRMOWiqxk1IKpaSWDku6VhS0qLPjmaKS2l5KS0vock1K82rLHElwLCIl0eNckNALxzSY09vsog6/FyuvS2eLZfL5XrDMqsgLgpRBlJmVeOcI9dYAd/znvfIRz/6UTn77LNl0qRJAeoM0sgLMMQPRzogzqyKZjm0so455hi56KKL5MMf/rC84x3vCItTCAMOrQ7I6sTRABHZNUfX3lFPuHkFzOws8HUd+KfPQECyWlBMvZW82EYFCx9Qx+3sAjEsf6lkjdSlNaaec1fJJqYkGGdeYBcElgBIBb0adYlErcbVZ7Wk0FeKy5BEozRJnf5LBFcfSgcGK8VgPE7V6fPEo2Wer6r36zs7pX44sgh5dx0Jc7neDPG8uVwuV5+pubk5WO2++MUvhqFb3kVsIIbFjxW7DDMjA0n2/jOwYy8/LIq86/erX/1qePXb/vvvH/I1SETENZFH9NpVTcISWPn3Mj69sXv58pCr5hMuukrgqNc7GW0O7lV6Y9UIiua/F7JzuV5XDoEul6vPhbUPaPvEJz4hV155ZXh/LyuLeYvHAQccEOYY4rjm9XMTJkwIEMciE7Z++fSnPy2///3vA0AChcAj8Gdz/gwETVgT3drncrkGu/xT0OVy9akANFYRM3QLnAFyl19+ufzd3/2dTJ8+Pbznl6FgQBGxupdhYhaYXHrppfL3f//3cvrppwfws70JicuQMfMEgUXyjQ77ulwul8sh0OVy9bGAQAM1AA7gY67g+eefHyCP+X0s7mAxCVY+9vzjVW+f+tSn5IMf/KAcd9xxYfNn0hnskQ9HYDFq9SMO1sGelkGXy+UajHIIdLlcfSrADIsdljsbwsUyyJAvFr7LLrssrPLdb7/9AgzOmDEjzPt7//vfH2CQYWQDvyhQkodt/mzl4BwAXS6XqyKHQJfL1acC+lj8wRs6mL/H3D+GdvEH2tjj77Of/awccsghMn78eDnjjDPkwgsv7F75i4gH+PWEPM5xUQAEFi2dy+VyDWY5BLpcrj4VVkCgjyFdVv+y2INFITbvD3BjQQiQN3z48LCvIKC4efPmAI3sFQhAMg8QwAMeOccfx7ktDiHchoZdLpdrsMs/DV0uV58KoGPYluFgwI5rYBCYAxCBN6x+HLHgMTeQI35Y95AtFjHrIaAHNOJ6zg0kH7acIa7L5XINZjkEulyuPpXBGg4YBNii0BYdurVhXfyicXH4GfwBflzjbL5gNC8LJy+zGAKHJs6j1y6XyzUQ5RDocrn6XAAaIIcV0IDNwBBYw2rHETAD2BDXBosm4M6gz0Q8nMnSWX4Glih67RDocrkGuhwCXS7XoBSQhwMYAUfzMwh0EHS5XANdDoEul2vQyiyONjxsMjCM+rlcLtdAk0Ogy+Vyqcz6B/gBgRzdGuhyuQayHAJdLteglA39MseQLWRwXCObL0iY+blcLtdAk0Ogy+UalLKhXiAvCn8GgG4BdLlcA10OgS6Xa1CKId+oi241w2pkHPMFCXO5XK6BKP90c7lcg1YAnwGgwR7DwrzGjg2lsQaaxdDlcrkGmhwCXS7XoBRDwAAfr5XD6gfwcc5r67Zs2RJeRedvFXG5XANZ8X9TdZ27XC5XnwkIA8x6bs3COZa5xx57LLxaburUqcEBaDaUayJudC6fWfJ6+m3cuFHuvPNOmT17dihz7Nix4X3FN998s/zud7+Thx56SJ5++mmZMGFCeD2d7SNIXPKzPC1/4BGxkKSjoyO89o5X3tlcQ0R9o2m5Jg5527uObeNrrolD26wM8uWc+ByJ8+yzz8rdd98tzz33nDQ0NMiQIUNC3W+77TZZuXKlHHLIId0LX5YtWyarV6+W5ubmUK+XXnpJbr/9dnnqqafCe5tJTz9bnXlfM29libaBvLgH1u9ckyY6jI6f9ROyY38W4P/II4+Eth1++OEyefLkrpBX1r8a2uJy7Y7cEuhyuQaUACQcAkbsPOq3detWufXWW+UPf/iDPP/888Efy98dd9whf/7zn4PfmjVruoeEo87gzcDPRL6ERaEJ+CIuR9ICSORp70Q2Z2kJtzzMEW6QaICF8F+4cKH86U9/kr/85S+yadOmEG/RokUBaABD4hOPa9r15JNPdvutWrVKnnnmGZk/f34ATCuP+kVh0OqHs/OedaU9li/OhB/O5XL1TzkEulyuQalt27bJ5s2bA/Rg1QIMcUOHDpWzzz5bPvrRjwaLEFY9Ax8E1ABJQCPDxsuXLw95AVLkg6UNGMOqBxxt2LAhWOWIy3lLS0t3OK/JwwpFWkAR6xtxqRfxKAeoIhxrG3HWr18f4lBX6k48rJiUSzjHgw8+WKZMmRLCyfNXv/qVXHfddQFuzXKHlQ+L6nHHHSfDhg0LbWtqagp5AJS0E4spdTEoxApJHK5pC31QW1sb6gRU0g9Yy2gb+VC+Q6DL1X/lw8Eul6tfyKxMe2s42M53Fg5AMQwKqDD8d+ihh8qNN94o999/fwgDdCZNmiSjRo0KIEdZdXV1oR5AD3ksXbo0pPnRj34UgAh/YIoy1q5dG44rVqwIVjgsjFjh1q37/9q701i7qrqP49v4xpdMFigILTJToC1DodBCWwqC0FYEcaBMISqiiUTii0aJgQRFI4ggSJlEZCogEgsos1KQoZRBqzJXUBAnlARfP3xW/NfjDY/cPuE+995zft9k5exhrbXXvvf07m//a9ivtK7XiRMntmtr27Jly1r0Tp2ude6557YuXXnVKS+Zcv2nnnqqRS8vvvji1hVM5FzDz+zII49s3cHPPvtsa6cu7smTJ7f63SsJJZ+uM2XKlJaHQNrXJt3efv7yrV69ukVKtUNZIrzllls22XStBx98sFuxYkWLlm644YatS1rXMnn0M9Nu3c3qlMY66Q4Og0okMIQwJiAj/58SSMxIzbRp09q5yy+/vI2ZU68IlwjaHnvs0W266aZNwOCYKBf5u/TSS1ubQAh1rYqEkccJEyZ0N954Y7d06dImSCJqpIg8PfPMM+0ed9xxx9aea6+9tlu+fHl39913dw899FCTMGMV5XPdPffcswnjHXfc0dpoLKOfh7KPP/549/TTT7frzZ07twmZ6xIyecgtqTQe0D2L1rnHI444olu1alXrSiaRBx98cGuTuq644ooWORTdI6JkkxT6mWizNqn/rrvuau31c9QtbVudfqbz58//D/mrsY5jlUhgGFTSHRxCGEjIISEkfeRJF7Com+7gffbZp4mRqFblIwAiYk888UQTMdG+/fffv/vsZz/bLVq0qEUBHSNa5Ikc6SreaaedupNOOqn7zGc+0yJuJpwQKNFD3bzkqrpVZ86c2Z1wwgndrFmz2jkCJh+JIpD2SenJJ5/cHX/88U1WdO2KIBIZ7SSiBM6+Ni1evLibNGlSuy9C+clPfrJNAiGWhJMUiuCRQG0mQ8odffTR3bHHHtvtt99+rU6TTWqcIaEljyC9Rx11VDdnzpx2fQKru7q6nCNOIYxdIoEhhIGEnIg8gvyRwJolO2PGjO6DH/xgEyfSI5UE3nPPPS3i5dzhhx/eol4+Fy5c2O22225NGsma6BhhUw9J/NjHPtYddNBBLZJmbJ7zBJQ4KUPoPvrRj7Y8ZHCDDTZo8iWCR/JEBuXbe++92/UIqHZqO4GTSlZJIwkjcwRNpJBkTp8+vcmje5RX0oYaW6jL2jXJou5lSfltt922SZ+opmiZ/D5JMlmUb999921d0OTVOEL1VrtCCGOTSGAIYSAhdqJhIE29UuScKBbqmLwEy2xa3bsmYJAr8mQsHik77LDDWmRMt6ruWOPoJN3IRE73svO6TI3dI2quTagIKQklUXB9ybWJoGgdMSSL8jq20UYbtWMmmPiUV33KEcZqtzprPKB7U77klqQZA6nLmACSVHWpQ12Wmanud+MDtZUAK+cahNHPpa6tvOOon2kIYWwSCQwhDCSEhQQRH/gkTKJchMt5SdRMPpMgnCdhImxETjfuFlts0fZ124qWlfgoQ77IEWEUiXNc/aTJMd2xZMo1qj2ia7XOoPKETdvsQz2uJx/UJzmvPWRPnSROfdolIqlLWL2kVR4CSV7V7zqElMCRPO2yD+eVUbd1E/0Mqg3G/bkneQmx+v3sdEeXgGpDCGFsEgkMIQwkJTMEqaJYUkX4eiNn5Ei3q4hbTfwgOiZziAqatGECxllnndXG+82bN69124qu2SdQ5GrZsmVNJkXWTLIgYmTNdaq72TZsS45b8sWMXmMNLWitO1o5kbkaf+ceROjqXhwzLtA1RA0JqogkeVPWOdFKUbtaVobkEUhtNOmEXFqD0AQY0cHdd9+9/Sz87CTXIsM+/Zy03Xk/H/vVjhDC2CQSGELoK0iTVIhklWTZFjEjPlJJCuHzWV2ctuUlOlBGNMx5kzbMICVU119/fffNb36zO//889uEEZEx4+ekXXbZpUX4jLOT54wzzmhdySRSHZtttlmTPHKofcSspEobtNdxoqpeEkiujA288MILuzPPPLPNSi75ci8+tVtSXlnXIHmuY9LHRRdd1KTUPZXIkT2CazwiOTVeUZuXLFnSZiSLRFpP0AxkXceuo1y126d2OIZqf6UQwtgkS8SEEMYEJTBEq1ccbK/LEjG94qFOqfLZLvERwdOlajKHaKAyZveKeBnnppsXBEl3Kckhh2RJXbbVJTpHhEjfAQcc0CZriIapT9TNpyicuomcKKE8rkncjB+UX3ly6XrqlYgi+SJxVR+x0+UqumcJGO3ceuutW53a4RxRI3Pq01ZiSXTdgzxmP/tZ+nkrb6wiYfXzcH8EUT0mePh5OG8CjGuoz71ou9+DCSHqUZ+2q2P27Nmtq1ke+ev3MVbJEjFhUHnXm38UM2o3hDDqEIkSLQ/bEjjbhO3ss89u4rNgwYI2AYOokAzSiMqrHtS2470iUsKiyxO6eYmRZNYu+SIBImjqJkMgQ66vLBlTr8kd5JQc6UolaxWR8+lalmCpV7PpIjb5wz1WHtE8kqYrl5ARKW0VedQW161uYT8f3dAWl4buWfembuKnvbaVcw0RRJ/KWd7F8jXaSThLbpVxP0Rbfm1yz2Y4w8QWS+hoQ7WbHBInQup8RQWNJVSvRapL0uvnPpbxc9GVr/3HHXdcmynufiT3UIyHewlhXYgEhhDGBO+UBKrDZx0vQek9BvkKEkai6oGvDAkjR64BdYimqaeO2SdDypKkXmEgQ9U+Zet6jrlXoiYCWKKqXkk5dVW7/TzcK2GzTbzUWedd076y9uX16RixLXRfa4MInbrkKfnVBvdRS8dom3Y65zpVp/tE7bu2sj4raUchT93XWCYSGAaVf3+7QwihDxgqIvUQ90AnLAWRkciSLlBCR3hKWghQbz11jByJBpImZYgiaVO/8hLZ8km2JNd1HceVdU4Zx6USDtdwXD7bJcSuK0pXAuietKOuV9eucs7LB/W7T3WQOOeV9ek4OSSe6i+0Qap6yKqfUaEuuJ5t7XRfxhrWcjgY+rsIIYwtIoEhhL6CdEi9YlXihDpOXAiM87Z7hcU26SE5JK6kRjlRMvXVpIsqU9dURnl1l0gp49N1pJIwx306pyyptK3+Ok+q6ppVl67bOqYuKO+8/bqfQj7HCCFRc07btNE5ZZWr5NoliNVGqeTXPda9qEt5ddXPRB2uVYIaQhibRAJDCH0FWSEevRJSElPnJAJDgEgOiIvjBEc553vrIWj2UbJFfECO6rxrOF/SVqmuX8erXtiHtrh+IU8v8td519IGyFfXrXuofHXcp/LaCmUJW0lbdRHLV/cJ20P3oc4SSO2u+nw6Xj/HofcQQhg7RAJDCH0FKSEevSIEcjMU58mb/CVQ9ivyR2Z0hRKbiohVRE1Z+/LILylf50vYHCOLjsmjHtuOl/zZRomacvKoS0TS9atOZUTcHKv8dVw96ncd9+G4Y3U9bSVqtuucerRPdLGuK8lXE0UK29rjWnVddVS5ujbqmiGEsUskMITQt7yV+KGECcTGvrySbbJEYkroHDdpwie5UoaIqYP4GBdYS6I4b4xdCSTBckykra5T8qUOkCnHCRb5QuUjZ7pw5dEex3XJOubajkklYK5Xs4KrK1sZ13auZhurV1TQNZyvmc2SssROUg7qqmVjTKRRb533s4FjdT337jp+DiGEsUkkMITQVxAQ4kFkCE1B5ipiVfLmU16CU0JU5cgMeSM5jstTIqaMbbJHyJ566qn2ejZ1Ey1yVxKlPY6V4CkP9Q/FdUoylQPBImjqcF2fJnhI8tV11Kt+7VIH6prOa6vjtrVTvco47t5su1fn1AHX0ybHnLcGoDeQlNw6pk73UjKoXfKXlLpeCGFsEgkMIfQl5KVED8TGws5XXHFFe3vHgw8+uPa8qBiJKbkjLwTHeULjHCkrISQ21ve75ppruvPOO6/V993vfretGVji6FNSvsrC9urVq9uSJN/5znfaeoW952G/2u2465FU7bEvETd1a7N97XYMjtuvc2RRqn311zGJ0NVxST6p2mXbz6NSb32VKp/jVc62zxDC2CT/OkMIfUnJGsgYgSJSFlr2ijevQiMthKWibLYJFJmyZpw6SmjID5x3fM2aNd0Pf/jD9i7f6iIlk87Jo4xk27UL559//vnu2muv7W655Zb29g3nSZt2aocycKy3Tu23b1u73F+d02bbJV/OK1/n7Zes2Ubdl1THfFbbbffuF73nesWvqON1vRDC2CT/OkMIfUeJCwlBdUvqHp00aVJ7c4e3c5AXgkSWvInjhRdeaG/4IIi6d9VTEqW+kirCJ5/86l64cGF35JFHdrvuumsrI+JIDC1ybVtdRK/qI3u1np7uWOfU+eKLL7ZXzBFM5SxYTfqU0wXrHtTp2oRQHgtoq09d8pTwEVv57TvXK6IhhIBIYAihryA9JW3Gw/msbkkSR7Yq0kfETLD40Y9+1C1durT70pe+1J177rntdXBeraYMmSNjxKrquO+++9q7ZomWcXDe/wvj5YjZVVdd1X3ta1/rzjzzzO6iiy7q7rrrrlYHWav2wLVNKDGOTrnrrruuW7JkSff1r3+9u/jii7uVK1e2iRwlkV7fpswFF1zQ/eAHP+guu+yy7tFHH211urY8IovyoDcap/0hhNDLu7/yJv/aDiGEUaMibqSlV1hsi4YZbyf6td1227VExsiNVMhbCeq0XSJEtIzj0x08ffr0bsKECd2dd97ZZE2UkBTqqr333nu7yy+/vEX2vGvXOdfTPuK3YsWK7o477mjvGjZjVjJ5g3z99Kc/7a6//vommiJwBPGee+5p57yTWD2PP/54t2rVqiaA8+fPb/Vdcskl7R3DopDyeNevrmvX23nnndun7mNjEH/yk5+0yCXh01aRw3nz5rVyZgZrryig+6nlZIZ22YZ/Y3IPqff9mjp1avs9Fb0/s/z8Qr+RSGAIoS8hgERI8vAmgSRJZI9AEUtdq4RQt+7EiRO7uXPndocffni3aNGiJlUbb7xxkyjlRdkqojhjxoxu//33b7NldSufcMIJrezmm2/e6iGpH/nIR7oTTzyx22+//Vr0kcQSQV22taRKSarIo8kiBM61dS0feuihTVSJojYQQvKnu/jggw/uFi9e3B1yyCFN+IgmEXRPhLekzzn1V3Q0hBB6iQSGEPoKYtVLRfDIkEQKRdXIEunadNNNmzCRKFE427pg99133yZg5E+SXxLh22abbbrddtutW2+99VqX8wc+8IEmbMYb7rHHHk0SyR75k1yfoIkMujY5006p2mFyBkGV5JVvs80267beeuvWpmeeeabJnmgV0SSGykLbdWlrp3t0z+quJWOG/kxCCAGRwBBCX0G4iA/IExwjQgTJJ+kSjSNzomqk7cknn2wzfXUXG2/3wAMPtK5hY/mUr/X2SupImvpeeumltRMvCBpJJHG6i40N1F3rmPLKyacNpK8ETbczeTRO8eqrr27jAZctW9Y9/PDDa8cSElSTSNSt29js4rvvvrsd1+2rW7vkVjuVUb+2iV6WMIYQQhEJDCH0FRW5I1fkhwgSINskrMbqyUOUttxyy2758uXdV7/61W7atGntuDUATz/99O773/9+6zImjPIaO2Zyhn2RPhFDdZNB0b1HHnmkO/bYY7vTTjut23777TtDrk899dQ2xsyMXm3QLqhD1I9Uzpw5s13vwgsv7I477rj2BhKzfm+77bbuC1/4Qiur3dogArjtttu2sWvKud4pp5zSuoa1Sf1179pW+yGEMJRIYAihrxBxExFDRcLIH1GrrlLHiJEu1m9/+9tNpAjTSSed1Gb1Hn/88e28/LDtvMkfInEVfVOvLlvCpU6RQPmMAzRGULcteRPNc13nqm2EjlCKCN5www1tZrIJJIcddlhrkzGFIpYgmwSVsLqmuoxDtG9Mo4kmuo0rWkh86zqigpHAEMJbEQkMIfQVxI2U1WcthFzyRIoch9nBonRm4uoG1hV7++23t1m/REqkzezgkkGCpT7n1Dc04kjajCPURWwW7znnnNO6g+WTH/JpA2ETPdQm5705RHe0WclXXnll654mcq5PbHfcccfWbeyYrmZvKNFtTQJFB6dMmdKWmqkoZ91ztT2EEIaSJWJCCGMCMkVaRMt6xcW26Ntwl4hRR4mZ/dqGesyuJUx77bVXi56Z3EHuyJVuV92zxMtEDzN0N9lkk9Ym9YjqyWdfXfaJ5KxZs1oXbkX7yKDuXNc38WSnnXZqs4jnzJmz9hxR0w7XEekjl+pzTrczmXTOLOQddthh7UQQ4kgkzTRWv67h2bNntzGF9kUY5VMfHJO/9+cU/pMsERMGlXe9+Yct/QQhhFGHvImQVeTOnybJtnF5Z599dhOkBQsWtC5TES9yQ3hQedUB5yAfAZKP4ImcETLSVmKlnLoraicCKI8xe8bZES/tI4vqUjdhsD4gcbM0DLnTBtcjiJZ8EcEjlJaSIZi6jrVPGRA2XczKKmepGhFA1yOX2qC8NqlTfa5viRv5LBBNMnUr12xkPz+iqo2ktH4OiMS8NSK33uVsYo4xmQceeODa71+vPOfnF/qNSGAIYUzwTkmgelAPb/kqQiePqE9N6MDQB3t1zypfbbEvlYTVn826hmvKp/3Ero4rr42OEwzRPXVUO4mdsYW6cSXX1j5SqLtYOWsVkk/HTSYhiMpZ+Jp8OlaSKD+pdG81U5nsQpvqnsN/EgkMg8q/v90hhNAH1EObEIGEEa8SRgJIwErcSsYIANkqyCOhc54M+FS3MmRN1E0Z+eC4a4guorqN4VO0rgSQnJE4bSwhJYPEjQyqh7xJ2qBO5QmgNhA/k0JIprZLjpNMx9Srva6nbqlXZkIIAfmrEELoO0rayFrJoH3bBMv5kjxSRtgIlvOOEakStipvH8o5Jo8y6hOJq+NQv2ury3Hb8pE88mhftE9511a3ZNs1lYN98kZOHVNO3aTO9WtbV7DkmHx1n+pXnxRCCEOJBIYQ+gpiJIH82CaARI1M1T6h8mnfNgkjUVWmInyVp6Sr6iBoxIuEFY4TMJ9FySdKyNRFAksgXZ/sSfJDmZK5kriqSxuUc7wksldG4bhj8qo/hBCGEgkMIfQVJU8gVUQIvdLns7pJbYvQ1TH55RWxU08JXZUjXvKpWz5JGckx+UraSuwck3Tris6RQHWpn7RV9E5d8pVwOi5flau2kT3HUXU7Xvdd9yGPruJqdwgh9BIJDCH0FcSJWJUkkSFSZaydcXWkrCZYOG7fNpEyLo80iayZdVsCJarmvLwmXjhPuGo8HkoI1em847V4s/JQl3qUJZkQEZTkIWrKo6J72lRy5/qOuxdtJq8VFXTfZFH7alxi1RcBDCG8FZHAEEJfoYu2pIp0mVVLyCrSZp80mZwhleQRLgKlPLkiktYQtC+PMhV1s0+siBihrLqdA1lTTn3Oy1vdtBXFI3Iido47VsJW1wDhq9m+JZmV1KFu14E64Lj7cs/qJITqUyaEEHqJBIYQRp2K3pEnka2XX365W7NmTVtbz5p4ZtISGyJDbizp8eKLL7ZkrT7SVpKmjuquLQkiefYl+84TLqnySdWN6rhPqcrVdm/eSlWmtz7XrHrsV3mfJZ3VDp9VrzT0OnWsrlfne+ssGXRc/ZLtql++EELoJesEhhBGFfJW3Z2EhQSuWLGie+6555ocEhnHVq5c2fJ5W4gFlEkhsfHWD69Ts9SKCCDhCWFdyDqBYVCJBIYQRpWSuRpnJ33ve99r7/D1Pl0RQl2nqG5Yka+KHHpl2lFHHdXermGdPOdCWBcigWFQSf9ACGFUqS5TD1wPWd21hM47ex2XPIiNvxPl0/Urr7Fyon9exbbVVls1AVQ+/68NIYThEQkMIYwqJE+XsFmwonve1zt58uQmds7p4hUt1CUsEghSKC8xJH+1X+dDCCG8PZHAEMKoUt27NZlBZHDixIltiRaTHXQTOyYf2bNd0ufduV6fVpM/Mh4whBCGTyQwhDCq1MQQYkfiyJwI30YbbdSS88TPzOCaAexTfpNCRA2Vc1w96Q4OIYThEQkMIYwqJYG6coleRfMmTJjQJM8YQDhfgqfM+uuv3wRw4403bsfNJHY8XcIhhDA8IoEhhFFF1M/sXxFAIifqZ3vSpEnd1KlTm+BJxv4RQ5NBlHn/+9/f9qsb2NhBiyfrWg4hhPD2RAJDCKNKLQtjzF9160qkjuQRPjOBvWbNpBFjAY0T3H777ZsY2jdpBCKJyoYQQnh7IoEhhFHF2D5duGQOZFASERT123bbbZv0QdTP8ZpB7Lx98lgiGUIIYXhEAkMIo0pFAkXwyByRI4S6hkUAp02b1s4RRed095o9bFawaCGJhPxVTwghhLcnEhhCGFVK3ET5ajxfSaCxgtOnT187KcQx0jdv3rw2IaQigDUZJN3BIYQwfCKBIYRRxZg/EzoIHUT7rA8okcApU6a0iJ98BI8Ezpw5s3URGwtoRrAuYeetF1j1hBBC+O9EAkMIo4ronWVgXn/99e61115r+0RPNNBbREgdESSKBHHDDTdsM4cJHxEUQYQo4d///ve1YwtDCCH8dyKBIYRRhfCJ5In8ET37ZE83r0if7RkzZjT5MxvY2oGifvIRREmeiiBmiZgQQhgekcAQwqgi8gfyJtU7gkX4RPvI3g477NDeHrLJJpu02cLykT7dw2RRFFCqNQNDCCG8PZHAEMKoQviIoE9Cp2vYvqiesYC2jQ20HIxZwRIxdLyScYHkMZNCQghh+EQCQwijiq5gETyRPUJnnB8hJIP/+Mc/uj/84Q/diy++2PKQQRE/C0f/+c9/7v75z3+u7U5ON3AIIawb73rzf875r3MIYdToXd7FxA6C97Of/ay77777ul//+tdN9iDSJ4/xgMYHmkiia3jWrFlttvAWW2zRuosJYQjrwksvvdSdddZZ3V//+tfuuOOO6w488MAWVZb8J6PwH5UQ+olIYAhhRPEnhugZq6e714PUtuOEj7S98cYb3VNPPdXde++93WOPPdY9//zz7ZzIn3cEk7/3vve9Ldon+mdfhPCVV15pD+lNN920pblz53b77bdfE8LeMYP1INcO29JwH+hv9ScyMtBfRALDoBIJDCGMCISr98+LSF512TrugWosnwfwypUrW/Tv0Ucf7dZff/0mdJtttll7K4jZwOpab731mjCqhzT+7W9/65577rnuhRde6NasWdM9++yzTRj32GOPJoK77757m01c0qcOQqiOmlE8HLS19z6Uiwz0F5HAMKhEAkMIIwLhqoeohydpE9lDTf5w7Mc//nF3yy23NKHTvfuJT3yivSWEBJoYoqy6CKO6SByhg8+XX365e/jhh7vly5d3v/vd71qE0KvmjjnmmG7q1Knd5ptv3sqowzXVV2MQh0PJAKrMcMuG8UEkMAwq7/7Km/xrO4QQ3jFIl4dmdf36JGOigfb/+Mc/dueff353zTXXtEje7Nmzu+uuu64JoAheLQNj8WeLSBsbaKIIkTN5BPJ4vzB5XLRoUbfXXnt1f/rTn7onn3yyRQY9wLfaaquW37akm7n214VeAYgM9BfGl95///3tPyf+4yCiXOT3HvqZRAJDCCOCPy2V6uHpU/SO9F111VXdpZde2t7+cdRRR3ULFy5sawE6T+Tk+eUvf9n9/Oc/bwLp7SGkj8CJ2JgEohzxI4LqNkZQ97DIomTx6ZNPPrk74IADWmSRQBLJkszh8FZ/IiMD/UUigWFQSSQwhDAieGAavycRNxE9gvfMM890N998c4sAbrfddt3ixYubpJE6iMgYH3jrrbc2kRPV85AmhqKHunx///vfd6+++mrr+hXx8/CePHly6z6uN4tAWWUcM87Q2oP1UNe+4UQD5RuaIob9RSKBYVCJBIYQRgRRN+P4YAweAbQEzB133NHdeOONbb2/448/vgkgQSNrt99+e3fnnXeunSRC9kQB653AypBKD2uzhI0plIcg6mqWTCwxk9hEEg93k050TZNMolisy+SQ4RJJGJ9EAsOgsm6DYkIIYZgQL6IlClivdLP0i+5d4nb44Yd3c+bMaVE6UT3id8EFFzRJXLVqVZPCkjoPX0JZEzsIpfrNEjYx5JFHHukuv/zyFmEUKRTx86q5o48+unUDE0EPeV3KyuoKXtcxgf+Nt4oMhhDCWCcSGEIYEUhaIdJi/4EHHuh++9vftokcJ510UpstLLJ31113dRdeeGF7MwhBrLUAyaPoDCwSTSpFBEme8X62jfH7y1/+0tYXvP7667uHHnqoCaS8e++9d3fEEUc04SOCv/nNb1q97yQRwBDCeCUSGEIYEUgY+RK5k8idaJyI4Pz585uMkUDj9n71q1+tjeoRQGIlWueT4BFAkUDnyGR1CYvqEULndRmLKBpraNFpkmis4IIFC9qSMcYPks33vOc9rY53QgYjgCGE8UwkMIQwIpC4EkGpxvhZssVizsSQyFnj7xe/+EUTQHKmXM3cLVkjgLZJH/FyrM6JBhJI20RQpFHE8fHHH28TRCRdw7qWRQnlVYfrK6MNlo0Rdaz66xO2pULksaKOS5cubesTEtXePGH8UN8l3w9DF/wefd/qPy/S0O9ACP1CJDCEMCKQqJItEkjMCNv73ve+ljx0iZpkWRcCV3l9loyhBK3oFTUPcPVCPpNFVq9e3YTPvvq22WabbsKECa272aLUjlf7SlIl9NYtkUSzk4nqsmXLuiuvvLK7+uqru5tuuqm7++672+vuXF+bw/ijvnO9/2mp36Xfv+9X/QckhH4jEhhCGBE8NHsfnCZ76Io1S1fERbewbtunn366TdjwoC0BE53pLTt0/78hiqPrVxezBaY92C1F4xV0rvPEE0+07mTX8rD38CekqIe+aCHx01VN/kxWEfm77LLL1nY3azdx1S7XKHFNGn8Jfo++O/D7dNz3zrHhfvdCGG9EAkMII4IHacmRB6lZu2b6Tpw4sQmghyxRI1s1+UNeD1zJefsVoRsuyuje1fVM0iASqBua/FmnkOhpm+s4ZuKKt5Lo6jWOkOCJ9J1xxhnd6aef3ha1fvDBB1sE0YLWooq1QLV7q2iR7aTxlXz3/N59+k+CT8freyj1/kchhH4ibwwJIYwIJXG6Si0Nc+ihh3a77757eyODpWHI16c//enWpWpMHUoaRWCUt08Y5fUwHi4miuy6667dkiVLuilTpnQbb7xx68Y988wzu1mzZnWnnXZak0KC6YFP/EQIdU2TROsOmoTimtUe9yGv9lSXocknu+6ySzf/wAPbWoc1ljGMH/yORYwtTk4GvYVm//33X3vO98DvXPI7D6GfiASGEEaE+tPiIWqM3sc//vG2ZMuxxx7b7bvvvm3s3uc///m2PiAJ9IAlUYRLgn0PXwJWYjgczBjecccdu8997nPttXLWCrzhhhu6b3zjG215GjIocifiZzyit44QgZp97FoV3Svhq0hfrxBoDxE0xtGx/Dkdf/idif6JHJtEdMwxx3Rz585tkb/6PsL3YF2j0iGMdfKNDiGMCB6uElnyQPUw9RD1YK2HaY3Nq33bFfGrbcn2cBE9VJ9yum8Joes7Xl162kDejFEkdrqNdQWSzZLAeviro+TPa+nUoW7H5C0cq3JJ4yf5bvmOeEvIzjvv3N424/vje1v/MZFH3hD6jUQCQwgjgj8t9fAUZdHFJgJ44okntiVi6mX93vZBwirq1it9JZDOOT4cPLRNPBHxE2k87LDDmrxdccUV3TnnnNO6iUUCt9hii9b9Z6yiLmBL1EivvPLK2qggcazxikTBPlGs2cXWObT8jGjjBhtssFZmw/jBd6z+g+D36Xth7Gp9f50j/PAfgRD6iUhgCGHEKKEjecYDGp/3qU99qjvkkEOagOmu9Ro5b/ioBy2RqgewB7T9dYnCKCPCt8suu3Rf/vKX2xhA7fBGkvPOO69btGhR98UvfrF1EavbQx4igWvWrGnrDFr2xXIyJoyQQSIoaulTmRJNE0QIoPsx+9ixML7w3fLdq++b74NP3xmyX2+qqfMh9BP5b2sIYcTwIPWQlURaRNhMuiBTkrF0oi+9D1eCVQ/i/wuiNeutt16re/vtt1/b5euBrg2TJ09uD/ahUTvdw5aSIXQmrJx66qnt1XYHHXRQt9NOO7VZzdpK9NRHbN2PyKCyiRKNT3zXfEdEen3W90+qiG8NCQih34gEhhBGBA/OigSKopEpD1LRNvuWWJk6dWobhyWiRsoIVkkjqSJryhcVgStBlEcqoavzZgPrDjZjV3nvDLZItHMidlWmVwRtO07oNtxww5ZP+w4++ODWbS1q6VNkceutt25dhkSBBFZ57Uoa36m+F363pN+n75UUQr/x7q+8yb+2QwjhHYMAeqjWtm7VlStXtgcsQTMTk0gZLyg6SAwJlYcuEfPQJY2EUF7loE7HII/9ks16cM+YMaP70Ic+1Ab7k1GLPet2JpWifNb6q7JvhePOiwxpi8kCuo9JJcE0bkxyTMTROoTy/W/1hfGH36Xvk89KIfQbiQSGEEYEXa8eouSNxBE/3bQmYlh42YLOkyZN6nbbbbfW3WpiBblTRsTOZ82+rW46dfmsSB75k2wrI4nSzZ49u43VU5+laCxK7XomhWiH48Pt3isBcD8iltOmTWtdxtaT+/CHP9z2dSX2RixDCGE8EAkMIYwIpIg8kTZCR/TMpDWO7r777lsrcRaRnj9/fuseFk0jZ9YNNGZQ5A6vvvpqm7ihjDxkkpS5hmPykcjNN9+8RQDnzZvXxBEE0GQP0Txdu65Zi0EPB+2XlKuxjO7L9Sw4bYxhdRuGEMJ4It3BIYQRQdduSRqBEqUjT2bdGp9nzJ2xd46LpElmCRMugicKqIuYzKnDMRE8ET0Cpy7HHfOpa9Z4PVE63cDKO7d06dJ2PV3ERxxxRKtfZNL11PF26E5Wj3LuRyJ8vdLn3HDqCiGEsUQkMIQwIpSclSyRKdEzAmeixqpVq9qSMUSw3ikssibipwtXRJBcibypq+ojjcSQWBIy5adPn96WflmwYEETQIInmnjJJZd0N998c+t2Fm00WxjqGG7kznWhLa7vs6SvkuORwBDCeCMSGEIYEUqOyBqhs6/blnyRvAceeKAdF8Ejcs4RQd22on7OkTziqKxyvVFD26KJon8E0Ku+SKRz6r///vvb2oCifgsXLmyLVaurxLJXUN+Okjz3QgpLQOseC/shhDBeiASGEEaEkiPdsqJ/JI/Y+TSGzts5jA2EyB55M2vXuEEzcOUx9s++N37YJohE0eQPkzyInaVn9tlnnzZLl4SZbWwm8PLly9ubQBYvXtzGHRq7p00mlYg2kkGy+XbUfZQASiWAJNJ5x+xHAkMI44m8MSSEMCL40yIRPxJI6t54440mTsTw4Ycfbm/uePbZZ5vMeZMImSN8FaEz/s95awuK7ilHBr0NRNSPPIrqyUfqyNill17aXXfdde21dCaCLFmypM3qrTGKyuualn84kUBl1Os+alYy2as/nbbdH6EcjlSGEMJYIRIYQhgR/GmpSRW6br0mThTQNpl77bXXWjTwW9/6VosIkjIziE855ZQW5SNcyhM9kkW+SsAkk0ZIl/pE9nT/ei2cSSAiinPmzGlv/BA5lE87qi3ati5RO+W0WT0V+ZPUU/VhXeoMIYTRJhIYQhgxauwccRJJI3q2HSNVRMoSLrfddlt36623tqifhZetHagb2La3dojeKaucOuH9vs8//3y3evXq7oknnmhlLSWje1hk0XqAIobKodpREkfYbA8HZaUS0NrHcOsIIYSxRiQwhDCqiPaJ3j300EPdY4891q1YsaJ18ZrQYeKH9/mWaPlzZVuXsfF+xv+JJooUyrv33nt3M2fObAJoEog1BVHSV0JISGs8XwghDCqRwBDCqOJPEEkjg8b93XTTTW35GIJXYwh1Jb/++utru4e9vs04QAtMG+9n0gf50wVc4/x0PZO+mtDRK4HrGgkMIYR+JBIYQhh1RP5qYWiJpOneFRn0hhH7Tz/9dFv7j9xZ98+yMnvuuWdb+8+kE9E9+YzbI3sleI5J9ksCiWF17YYQwqASCQwhhBBCGEDSFxJCCCGEMIBEAkMIIYQQBpBIYAghhBDCABIJDCGEEEIYQCKBIYQQQggDSCQwhBBCCGEAiQSGEEIIIQwgkcAQQgghhAEkEhhCCCGEMIBEAkMIIYQQBpBIYAghhBDCABIJDCGEEEIYQCKBIYQQQggDSCQwhBBCCGEAiQSGEEIIIQwgkcAQQgghhAEkEhhCCCGEMIBEAkMIIYQQBpBIYAghhBDCABIJDCGEEEIYQCKBIYQQQggDR9f9D/l4L+darzz5AAAAAElFTkSuQmCC)"
      ]
    },
    {
      "cell_type": "code",
      "execution_count": null,
      "metadata": {
        "id": "X5Mgn5cDu36E"
      },
      "outputs": [],
      "source": [
        "for letter in 'Python':     # First Example\n",
        "   if letter == 'h':\n",
        "      break\n",
        "   print ('Current Letter :', letter)\n",
        "\n",
        "var = 10                    # Second Example\n",
        "while var > 0:\n",
        "   print ('Current variable value :', var)\n",
        "   var = var -1\n",
        "   if var == 5:\n",
        "      break\n",
        "\n",
        "print (\"Good bye!\")"
      ]
    },
    {
      "cell_type": "code",
      "execution_count": null,
      "metadata": {
        "id": "3ChvGvxQvIPu"
      },
      "outputs": [],
      "source": [
        "no=int(input('any number: '))\n",
        "numbers=[11,33,55,39,55,75,37,21,23,41,13]\n",
        "for num in numbers:\n",
        "   if num==no:\n",
        "      print ('number found in list')\n",
        "      break\n",
        "else:\n",
        "   print ('number not found in list')"
      ]
    },
    {
      "cell_type": "markdown",
      "metadata": {
        "id": "ucq0PM_LvokV"
      },
      "source": [
        "Python continue statement is used to skip the execution of the program block and returns the control to the beginning of the current loop to start the next iteration\n",
        "\n",
        "The continue statement is just the opposite to that of break. It skips the remaining statements in the current loop and starts the next iteration\n",
        "\n",
        "![image.png](data:image/png;base64,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)"
      ]
    },
    {
      "cell_type": "code",
      "execution_count": null,
      "metadata": {
        "id": "_2pvuzyMvsw4"
      },
      "outputs": [],
      "source": [
        "for letter in 'Python': # First Example\n",
        "   if letter == 'h':\n",
        "      continue\n",
        "   print ('Current Letter :', letter)\n",
        "\n",
        "var = 10 # Second Example\n",
        "while var > 0:\n",
        "   var = var -1\n",
        "   if var == 5:\n",
        "      continue\n",
        "   print ('Current variable value :', var)\n",
        "print (\"Good bye!\")"
      ]
    },
    {
      "cell_type": "markdown",
      "metadata": {
        "id": "B0nlVvFNw0RC"
      },
      "source": [
        "The pass statement do nothing, but it used to complete the syntax of\n",
        "programming concept. Pass is useful in the situation where user does not\n",
        "requires any action but syntax requires a statement."
      ]
    },
    {
      "cell_type": "code",
      "execution_count": null,
      "metadata": {
        "id": "SLAsCjMTw9CT"
      },
      "outputs": [],
      "source": [
        "for letter in 'Python':\n",
        "   if letter == 'h':\n",
        "      pass\n",
        "      print ('This is pass block')\n",
        "   print ('Current Letter :', letter)\n",
        "print (\"Good bye!\")"
      ]
    },
    {
      "cell_type": "code",
      "execution_count": null,
      "metadata": {
        "colab": {
          "background_save": true
        },
        "id": "rAjdIjONxMpA"
      },
      "outputs": [],
      "source": [
        "#nestes loop\n",
        "\n",
        "months = [\"jan\", \"feb\", \"mar\"]\n",
        "days = [\"sun\", \"mon\", \"tue\"]\n",
        "\n",
        "\n",
        "for x in months:\n",
        "  for y in days:\n",
        "    print(x, y)\n",
        "\n",
        "print \"Good bye!\""
      ]
    },
    {
      "cell_type": "markdown",
      "metadata": {
        "id": "SSFkWlciyN_E"
      },
      "source": [
        "# Functions\n",
        "\n",
        "A Python function is a block of organized, reusable code that is used to perform a single, related action.\n",
        "\n",
        " A Python function may be invoked from any other function by passing required data (called parameters or arguments).\n",
        "\n",
        " Types:\n",
        "\n",
        " 1. Build-in functions\n",
        " 2. User defined functions\n",
        "\n",
        "\n",
        " ### Defining a Python Function\n",
        "*  Function blocks begin with the keyword def followed by the function name and parentheses ( ( ) ).\n",
        "\n",
        "* Any input parameters or arguments should be placed within these parentheses. You can also define parameters inside these parentheses.\n",
        "* The statement return [expression] exits a function, optionally passing back an expression to the caller. A return statement with no arguments is the same as return None.\n",
        "\n",
        "### Calling a  Python Function\n",
        "After creating a function in Python we can call it by using the name of the\n",
        "function followed by parenthesis containing parameters of that particular\n",
        "function.\n",
        "```\n",
        "# A simple Python function\n",
        "def fun():\n",
        "print(&quot;Welcome to 3rd Sem&quot;)\n",
        "# Driver code to call a function\n",
        "fun()\n",
        "--------------\n",
        "Output: Welcome to 3rd Sem\n",
        "```\n"
      ]
    },
    {
      "cell_type": "markdown",
      "metadata": {
        "id": "7w_8k2vZ1MMy"
      },
      "source": [
        "***Python Function Arguments***\n",
        "\n",
        "Arguments are the values passed inside the parenthesis of the function. A\n",
        "function can have any number of arguments separated by a comma."
      ]
    },
    {
      "cell_type": "code",
      "execution_count": null,
      "metadata": {
        "colab": {
          "background_save": true
        },
        "id": "UTdhq_ZM1RcF",
        "outputId": "7b802f06-8a17-4b66-a66a-ab5456353f50"
      },
      "outputs": [
        {
          "name": "stdout",
          "output_type": "stream",
          "text": [
            "even\n",
            "odd\n"
          ]
        }
      ],
      "source": [
        "# whether x is even or odd\n",
        "def evenOdd(x):\n",
        "  if (x % 2 == 0):\n",
        "    print(\"even\")\n",
        "  else:\n",
        "    print(\"odd\")\n",
        "\n",
        "# Driver code to call the function\n",
        "evenOdd(2)\n",
        "\n",
        "evenOdd(3)"
      ]
    },
    {
      "cell_type": "markdown",
      "metadata": {
        "id": "2hrWcWNv7MbE"
      },
      "source": []
    },
    {
      "cell_type": "code",
      "execution_count": null,
      "metadata": {
        "colab": {
          "background_save": true
        },
        "id": "DTQcs8sH7Ntz",
        "outputId": "b6c175be-6fab-4d20-f7c0-b33f86c5df1c"
      },
      "outputs": [
        {
          "name": "stdout",
          "output_type": "stream",
          "text": [
            "9\n"
          ]
        }
      ],
      "source": [
        "def cal_num(a,b): #defining a function; parameters\n",
        "  return a+b\n",
        "\n",
        "sum= cal_num(3,6) # argument\n",
        "print(sum)"
      ]
    },
    {
      "cell_type": "markdown",
      "metadata": {
        "id": "Xi44EZbEX8_z"
      },
      "source": [
        "#List, Tuple, Dictionary, Sets"
      ]
    },
    {
      "cell_type": "markdown",
      "metadata": {
        "id": "f1QLmO_FX93c"
      },
      "source": [
        "A Python list is a sequence of comma separated items, enclosed in square brackets [ ]"
      ]
    },
    {
      "cell_type": "code",
      "execution_count": null,
      "metadata": {
        "id": "QasqCSUkZ_pp"
      },
      "outputs": [],
      "source": [
        "list1 = [\"Rohan\", \"Physics\", 21, 69.75]\n",
        "list2 = [1, 2, 3, 4, 5]\n",
        "list3 = [\"a\", \"b\", \"c\", \"d\"]\n",
        "list4 = [25.50, True, -55, 1+2j]"
      ]
    },
    {
      "cell_type": "code",
      "execution_count": null,
      "metadata": {
        "colab": {
          "background_save": true
        },
        "id": "mMADFr_BaGDF",
        "outputId": "7c090b0c-7260-405f-b078-c533d429f63c"
      },
      "outputs": [
        {
          "name": "stdout",
          "output_type": "stream",
          "text": [
            "list1[0]:  physics\n",
            "list2[1:5]:  [2, 3, 4, 5]\n"
          ]
        }
      ],
      "source": [
        "list1 = ['physics', 'chemistry', 1997, 2000];\n",
        "list2 = [1, 2, 3, 4, 5, 6, 7 ];\n",
        "print (\"list1[0]: \", list1[0])\n",
        "print (\"list2[1:5]: \", list2[1:5])"
      ]
    },
    {
      "cell_type": "code",
      "execution_count": null,
      "metadata": {
        "colab": {
          "background_save": true
        },
        "id": "i7wrGc3ZaweL",
        "outputId": "e9f59c0d-1e68-438e-c76a-4b70583fdbc6"
      },
      "outputs": [
        {
          "name": "stdout",
          "output_type": "stream",
          "text": [
            "Value available at index 2 : \n",
            "1997\n",
            "New value available at index 2 : \n",
            "2001\n"
          ]
        }
      ],
      "source": [
        "#Updating\n",
        "\n",
        "list = ['physics', 'chemistry', 1997, 2000];\n",
        "print (\"Value available at index 2 : \")\n",
        "print (list[2])\n",
        "list[2] = 2001;\n",
        "print (\"New value available at index 2 : \")\n",
        "print (list[2]) #phy chem 2001 2000"
      ]
    },
    {
      "cell_type": "code",
      "execution_count": null,
      "metadata": {
        "id": "B4C00PU8a4ac"
      },
      "outputs": [],
      "source": [
        "# Deleting List elements\n",
        "\n",
        "list1 = ['physics', 'chemistry', 1997, 2000];\n",
        "print (list1)\n",
        "del list1[2];\n",
        "print (\"After deleting value at index 2 : \")\n",
        "print (list1)"
      ]
    },
    {
      "cell_type": "code",
      "execution_count": null,
      "metadata": {
        "id": "Y5qPzIFvbCOw"
      },
      "outputs": [],
      "source": [
        "# Copy List"
      ]
    },
    {
      "cell_type": "code",
      "execution_count": null,
      "metadata": {
        "colab": {
          "background_save": true
        },
        "id": "4c1fpzQbbCsf",
        "outputId": "f0773128-c79c-4b39-aa0e-6d92006f6504"
      },
      "outputs": [
        {
          "name": "stdout",
          "output_type": "stream",
          "text": [
            "lst: [10, 20] id(lst): 134109037993344\n",
            "lst1: [10, 20] id(lst1): 134109037880192\n"
          ]
        }
      ],
      "source": [
        "lst = [10, 20]\n",
        "lst1 = lst.copy()\n",
        "print (\"lst:\", lst, \"id(lst):\",id(lst))\n",
        "print (\"lst1:\", lst1, \"id(lst1):\",id(lst1))"
      ]
    },
    {
      "cell_type": "code",
      "execution_count": null,
      "metadata": {
        "id": "z0qdTz5eblk5"
      },
      "outputs": [],
      "source": [
        "a=[\"hi\"]\n",
        "print(a*4)  #hi hi hi hi"
      ]
    },
    {
      "cell_type": "code",
      "execution_count": null,
      "metadata": {
        "id": "TzsQ2io9bl_N"
      },
      "outputs": [],
      "source": [
        "a=[1,2,3]\n",
        "b=[4,5,6]\n",
        "print(a+b) # concatenation # 1 2 3 4 5 6"
      ]
    },
    {
      "cell_type": "markdown",
      "metadata": {
        "id": "UfsEUPIncFiC"
      },
      "source": [
        " A Python tuple is a sequence of comma separated items, enclosed in parentheses ().\n",
        " immutable\n"
      ]
    },
    {
      "cell_type": "code",
      "execution_count": null,
      "metadata": {
        "id": "taaJctLJcYRi"
      },
      "outputs": [],
      "source": [
        "tup1 = (\"Rohan\", \"Physics\", 21, 69.75)\n",
        "tup2 = (1, 2, 3, 4, 5)\n",
        "tup3 = (\"a\", \"b\", \"c\", \"d\")\n",
        "tup4 = (25.50, True, -55, 1+2j)"
      ]
    },
    {
      "cell_type": "code",
      "execution_count": null,
      "metadata": {
        "id": "XNwFyVSncfL9"
      },
      "outputs": [],
      "source": [
        "tup1 = ('physics', 'chemistry', 1997, 2000)\n",
        "tup2 = (1, 2, 3, 4, 5, 6, 7 )\n",
        "print (\"tup1[0]: \", tup1[0])\n",
        "print (\"tup2[1:5]: \", tup2[1:5])"
      ]
    },
    {
      "cell_type": "code",
      "execution_count": null,
      "metadata": {
        "id": "1uTngK6FcvM9"
      },
      "outputs": [],
      "source": [
        "tup1 = (12, 34.56);\n",
        "tup2 = ('abc', 'xyz')\n",
        "\n",
        "# Following action is not valid for tuples\n",
        "# tup1[0] = 100;\n",
        "\n",
        "# So let's create a new tuple as follows\n",
        "tup3 = tup1 + tup2\n",
        "print (tup3);"
      ]
    },
    {
      "cell_type": "code",
      "execution_count": null,
      "metadata": {
        "id": "pRS8b7sDc56o"
      },
      "outputs": [],
      "source": [
        "a=(\"hi\",\"bye\")\n",
        "b= a*2\n",
        "print(b) # hi bye hi bye"
      ]
    },
    {
      "cell_type": "code",
      "execution_count": null,
      "metadata": {
        "id": "np3l5uVrdMBu"
      },
      "outputs": [],
      "source": [
        "#concatenation\n",
        "\n",
        "a=(1,2,3)\n",
        "b=(3,4,5)\n",
        "print(a+b)"
      ]
    },
    {
      "cell_type": "markdown",
      "metadata": {
        "id": "VQsGpduwdhIj"
      },
      "source": [
        "Set in Python also a collection data type such as list or tuple. However, it is not an ordered collection, i.e., items in a set or not accessible by its positional index. A set object is a collection of one or more immutable objects enclosed within curly brackets {}."
      ]
    },
    {
      "cell_type": "code",
      "execution_count": null,
      "metadata": {
        "colab": {
          "background_save": true
        },
        "id": "QLXgb4lndi9j",
        "outputId": "07a4d7bf-720a-41b1-dad3-384d8679d2ca"
      },
      "outputs": [
        {
          "name": "stdout",
          "output_type": "stream",
          "text": [
            "{'Physics', 69.75, 21, 'Rohan'}\n",
            "{1, 2, 3, 4, 5}\n",
            "{'a', 'c', 'b', 'd'}\n",
            "{25.5, -55, True, (1+2j)}\n"
          ]
        }
      ],
      "source": [
        "s1 = {\"Rohan\", \"Physics\", 21, 69.75}\n",
        "s2 = {1, 2, 3, 4, 5}\n",
        "s3 = {\"a\", \"b\", \"c\", \"d\"}\n",
        "s4 = {25.50, True, -55, 1+2j}\n",
        "print (s1)\n",
        "print (s2)\n",
        "print (s3)\n",
        "print (s4)"
      ]
    },
    {
      "cell_type": "code",
      "execution_count": null,
      "metadata": {
        "colab": {
          "background_save": true
        },
        "id": "T3Isr1mMd2lk",
        "outputId": "2d715ec6-5a23-43d9-a610-031f33968430"
      },
      "outputs": [
        {
          "name": "stdout",
          "output_type": "stream",
          "text": [
            "{0, 1, 2, 3, 4, 5, 9}\n",
            "{'e', 'c', 'b', 'a', 'd'}\n"
          ]
        }
      ],
      "source": [
        "# repetition not allowed\n",
        "\n",
        "s2 = {1, 2, 3, 4, 5, 3,0, 1, 9}\n",
        "s3 = {\"a\", \"b\", \"c\", \"d\", \"b\", \"e\", \"a\"}\n",
        "print (s2)\n",
        "print (s3)"
      ]
    },
    {
      "cell_type": "code",
      "execution_count": null,
      "metadata": {
        "colab": {
          "base_uri": "https://localhost:8080/"
        },
        "id": "mq25-Whaejl9",
        "outputId": "50837bac-7d49-4d31-86b6-ef3e195ea923"
      },
      "outputs": [
        {
          "name": "stdout",
          "output_type": "stream",
          "text": [
            "Set before discarding C++:  {'C', 'Python', 'C++', 'Java'}\n",
            "Set after discarding C++:  {'C', 'Python', 'Java'}\n",
            "Set before discarding PHP:  {'C', 'Python', 'Java'}\n",
            "Set after discarding PHP:  {'C', 'Python', 'Java'}\n"
          ]
        }
      ],
      "source": [
        "#removing an object\n",
        "# discard()\n",
        "lang1 = {\"C\", \"C++\", \"Java\", \"Python\"}\n",
        "print (\"Set before discarding C++: \", lang1)\n",
        "lang1.discard(\"C++\")\n",
        "print (\"Set after discarding C++: \", lang1)\n",
        "print (\"Set before discarding PHP: \", lang1)\n",
        "lang1.discard(\"PHP\")\n",
        "print (\"Set after discarding PHP: \", lang1)\n"
      ]
    },
    {
      "cell_type": "code",
      "execution_count": null,
      "metadata": {
        "colab": {
          "background_save": true
        },
        "id": "fhnz2FMLe9pQ",
        "outputId": "ac2726eb-5eb3-44ff-fd0d-646cac64aff4"
      },
      "outputs": [
        {
          "name": "stdout",
          "output_type": "stream",
          "text": [
            "Set before popping:  {'C', 'C++'}\n",
            "object popped:  C\n",
            "Set after popping:  {'C++'}\n"
          ]
        },
        {
          "ename": "KeyError",
          "evalue": "'pop from an empty set'",
          "output_type": "error",
          "traceback": [
            "\u001b[0;31m---------------------------------------------------------------------------\u001b[0m",
            "\u001b[0;31mKeyError\u001b[0m                                  Traceback (most recent call last)",
            "\u001b[0;32m<ipython-input-106-dfd2732eba5b>\u001b[0m in \u001b[0;36m<cell line: 9>\u001b[0;34m()\u001b[0m\n\u001b[1;32m      7\u001b[0m \u001b[0mprint\u001b[0m \u001b[0;34m(\u001b[0m\u001b[0;34m\"Set after popping: \"\u001b[0m\u001b[0;34m,\u001b[0m \u001b[0mlang1\u001b[0m\u001b[0;34m)\u001b[0m\u001b[0;34m\u001b[0m\u001b[0;34m\u001b[0m\u001b[0m\n\u001b[1;32m      8\u001b[0m \u001b[0mobj\u001b[0m \u001b[0;34m=\u001b[0m \u001b[0mlang1\u001b[0m\u001b[0;34m.\u001b[0m\u001b[0mpop\u001b[0m\u001b[0;34m(\u001b[0m\u001b[0;34m)\u001b[0m\u001b[0;34m\u001b[0m\u001b[0;34m\u001b[0m\u001b[0m\n\u001b[0;32m----> 9\u001b[0;31m \u001b[0mobj\u001b[0m \u001b[0;34m=\u001b[0m \u001b[0mlang1\u001b[0m\u001b[0;34m.\u001b[0m\u001b[0mpop\u001b[0m\u001b[0;34m(\u001b[0m\u001b[0;34m)\u001b[0m\u001b[0;34m\u001b[0m\u001b[0;34m\u001b[0m\u001b[0m\n\u001b[0m",
            "\u001b[0;31mKeyError\u001b[0m: 'pop from an empty set'"
          ]
        }
      ],
      "source": [
        "#random remove\n",
        "#pop()\n",
        "lang1 = {\"C\", \"C++\"}\n",
        "print (\"Set before popping: \", lang1)\n",
        "obj = lang1.pop()\n",
        "print (\"object popped: \", obj)\n",
        "print (\"Set after popping: \", lang1)\n",
        "obj = lang1.pop()\n",
        "obj = lang1.pop()"
      ]
    },
    {
      "cell_type": "code",
      "execution_count": null,
      "metadata": {
        "colab": {
          "base_uri": "https://localhost:8080/"
        },
        "id": "HRmdOMvIfHt2",
        "outputId": "0d41e1b8-141e-4d2d-e313-758e777f8999"
      },
      "outputs": [
        {
          "name": "stdout",
          "output_type": "stream",
          "text": [
            "{'C', 'Python', 'C++', 'Java'}\n",
            "After clear() method\n",
            "set()\n"
          ]
        }
      ],
      "source": [
        "#remove all set items\n",
        "#clear()\n",
        "\n",
        "lang1 = {\"C\", \"C++\", \"Java\", \"Python\"}\n",
        "print (lang1)\n",
        "print (\"After clear() method\")\n",
        "lang1.clear()\n",
        "print (lang1)"
      ]
    },
    {
      "cell_type": "markdown",
      "metadata": {
        "id": "UygrodPUfVUQ"
      },
      "source": [
        "Dictionaries\n",
        "\n",
        "Python dictionary is also a collection of key:value pairs. The pairs are separated by comma and put inside curly brackets {}."
      ]
    },
    {
      "cell_type": "code",
      "execution_count": null,
      "metadata": {
        "id": "YnBYqADVfm-1"
      },
      "outputs": [],
      "source": [
        "capitals = {\"Maharashtra\":\"Mumbai\", \"Gujarat\":\"Gandhinagar\", \"Telangana\":\"Hyderabad\", \"Karnataka\":\"Bengaluru\"}\n",
        "numbers = {10:\"Ten\", 20:\"Twenty\", 30:\"Thirty\",40:\"Forty\"}\n",
        "marks = {\"Savita\":67, \"Imtiaz\":88, \"Laxman\":91, \"David\":49}"
      ]
    },
    {
      "cell_type": "code",
      "execution_count": null,
      "metadata": {
        "colab": {
          "background_save": true
        },
        "id": "T-Er_SZmfohm"
      },
      "outputs": [],
      "source": [
        "d1 = {\"Fruit\":[\"Mango\",\"Banana\"], \"Flower\":[\"Rose\", \"Lotus\"]}\n",
        "d2 = {('India, USA'):'Countries', ('New Delhi', 'New York'):'Capitals'}\n",
        "print (d1)\n",
        "print (d2)"
      ]
    },
    {
      "cell_type": "code",
      "execution_count": null,
      "metadata": {
        "id": "T-M296z4gF3t"
      },
      "outputs": [],
      "source": [
        "#updating values\n",
        "dict[\"key\"] = val"
      ]
    },
    {
      "cell_type": "code",
      "execution_count": null,
      "metadata": {
        "colab": {
          "base_uri": "https://localhost:8080/"
        },
        "id": "PluWGiQwgFKv",
        "outputId": "a3f62c66-07f3-4b04-bab6-dab2e059f186"
      },
      "outputs": [
        {
          "name": "stdout",
          "output_type": "stream",
          "text": [
            "marks dictionary before update:  {'Savita': 67, 'Imtiaz': 88, 'Laxman': 91, 'David': 49}\n",
            "marks dictionary after update:  {'Savita': 67, 'Imtiaz': 88, 'Laxman': 95, 'David': 49}\n"
          ]
        }
      ],
      "source": [
        "marks = {\"Savita\":67, \"Imtiaz\":88, \"Laxman\":91, \"David\":49}\n",
        "print (\"marks dictionary before update: \", marks)\n",
        "marks['Laxman'] = 95\n",
        "print (\"marks dictionary after update: \", marks)"
      ]
    },
    {
      "cell_type": "code",
      "execution_count": null,
      "metadata": {
        "id": "0uXhl87ygX96"
      },
      "outputs": [],
      "source": [
        "#update()\n",
        "marks = {\"Savita\":67, \"Imtiaz\":88, \"Laxman\":91, \"David\":49}\n",
        "print (\"marks dictionary before update: \\n\", marks)\n",
        "marks1 = [(\"Sharad\", 51), (\"Mushtaq\", 61), (\"Laxman\", 89)]\n",
        "marks.update(marks1)\n",
        "print (\"marks dictionary after update: \\n\", marks)"
      ]
    },
    {
      "cell_type": "code",
      "execution_count": null,
      "metadata": {
        "id": "yaq5xI40gnPt"
      },
      "outputs": [],
      "source": [
        "#deleting item; del\n",
        "numbers = {10:\"Ten\", 20:\"Twenty\", 30:\"Thirty\",40:\"Forty\"}\n",
        "print (\"numbers dictionary before delete operation: \\n\", numbers)\n",
        "del numbers[20]\n",
        "print (\"numbers dictionary before delete operation: \\n\", numbers)"
      ]
    },
    {
      "cell_type": "code",
      "execution_count": null,
      "metadata": {
        "id": "exO-TvMKgng9"
      },
      "outputs": [],
      "source": []
    },
    {
      "cell_type": "markdown",
      "metadata": {
        "id": "0Jj4nIkpX9gc"
      },
      "source": [
        "#Reading i/o file\n",
        "\n",
        "![image.png](data:image/png;base64,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)"
      ]
    },
    {
      "cell_type": "code",
      "execution_count": null,
      "metadata": {
        "colab": {
          "background_save": true
        },
        "id": "riM6mPPuX-hk"
      },
      "outputs": [],
      "source": [
        "f= open(\"data.txt\",\"r\")\n",
        "data=f.read()\n",
        "print(data)\n",
        "f.close()"
      ]
    }
  ],
  "metadata": {
    "colab": {
      "provenance": [],
      "include_colab_link": true
    },
    "kernelspec": {
      "display_name": "Python 3",
      "name": "python3"
    },
    "language_info": {
      "name": "python"
    }
  },
  "nbformat": 4,
  "nbformat_minor": 0
}